{
 "cells": [
  {
   "cell_type": "markdown",
   "metadata": {
    "id": "LqzASbNsnqDW"
   },
   "source": [
    "# Flight Price Prediction"
   ]
  },
  {
   "cell_type": "raw",
   "metadata": {
    "id": "KgVGhSs_nqDe"
   },
   "source": [
    "Problem Statement:\n",
    "Flight ticket prices can be something hard to guess, today we might see a price, check out the price of the same flight tomorrow, it will be a different story. We might have often heard travellers saying that flight ticket prices are so unpredictable. Here you will be provided with prices of flight tickets for various airlines between the months of March and June of 2019 and between various cities.\n",
    "\n",
    "Size of training set: 10683 records\n",
    "Size of test set: 2671 records\n",
    "\n",
    "FEATURES:\n",
    "Airline: The name of the airline.\n",
    "\n",
    "Date_of_Journey: The date of the journey\n",
    "\n",
    "Source: The source from which the service begins.\n",
    "\n",
    "Destination: The destination where the service ends.\n",
    "\n",
    "Route: The route taken by the flight to reach the destination.\n",
    "\n",
    "Dep_Time: The time when the journey starts from the source.\n",
    "\n",
    "Arrival_Time: Time of arrival at the destination.\n",
    "\n",
    "Duration: Total duration of the flight.\n",
    "\n",
    "Total_Stops: Total stops between the source and destination.\n",
    "\n",
    "Additional_Info: Additional information about the flight\n",
    "\n",
    "Price: The price of the ticket"
   ]
  },
  {
   "cell_type": "markdown",
   "metadata": {
    "id": "eR8C2g3MnqDh"
   },
   "source": [
    "# Problem Definition:"
   ]
  },
  {
   "cell_type": "raw",
   "metadata": {
    "id": "3BuCS8aYnqDi"
   },
   "source": [
    "Flight ticket prices can be something hard to guess, today we might see a price, check out the price of the same flight tomorrow, it will be a different story. We might have often heard travellers saying that flight ticket prices are so unpredictable. Here you will be provided with prices of flight tickets for various airlines between the months of March and June of 2019 and between various cities.\n",
    "\n",
    "Hence a ML regression model has to be trained using the train dataset for predicting the flight prices for test dataset."
   ]
  },
  {
   "cell_type": "code",
   "execution_count": 7,
   "metadata": {
    "executionInfo": {
     "elapsed": 409,
     "status": "ok",
     "timestamp": 1625857171816,
     "user": {
      "displayName": "Akash Talwar",
      "photoUrl": "https://lh3.googleusercontent.com/a-/AOh14GhsGyfKUqb496jz_lKHO4lCUdAD6jrECtPc4YCoNA=s64",
      "userId": "00480072323501141751"
     },
     "user_tz": -330
    },
    "id": "2nAcAiV2nqDk"
   },
   "outputs": [],
   "source": [
    "#Import libraries\n",
    "import pandas as pd\n",
    "import numpy as np\n",
    "import matplotlib.pyplot as plt\n",
    "import seaborn as sns\n",
    "import warnings\n",
    "warnings.filterwarnings(\"ignore\")"
   ]
  },
  {
   "cell_type": "code",
   "execution_count": 8,
   "metadata": {
    "colab": {
     "base_uri": "https://localhost:8080/",
     "height": 38,
     "resources": {
      "http://localhost:8080/nbextensions/google.colab/files.js": {
       "data": "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",
       "headers": [
        [
         "content-type",
         "application/javascript"
        ]
       ],
       "ok": true,
       "status": 200,
       "status_text": ""
      }
     }
    },
    "executionInfo": {
     "elapsed": 51465,
     "status": "ok",
     "timestamp": 1625857223862,
     "user": {
      "displayName": "Akash Talwar",
      "photoUrl": "https://lh3.googleusercontent.com/a-/AOh14GhsGyfKUqb496jz_lKHO4lCUdAD6jrECtPc4YCoNA=s64",
      "userId": "00480072323501141751"
     },
     "user_tz": -330
    },
    "id": "HBRNN43toKH3",
    "outputId": "b82bfa2a-0221-48db-84e9-f3335ec52f99"
   },
   "outputs": [
    {
     "data": {
      "text/html": [
       "\n",
       "     <input type=\"file\" id=\"files-a55b6f1f-547a-4355-b162-85d4437eec6a\" name=\"files[]\" multiple disabled\n",
       "        style=\"border:none\" />\n",
       "     <output id=\"result-a55b6f1f-547a-4355-b162-85d4437eec6a\">\n",
       "      Upload widget is only available when the cell has been executed in the\n",
       "      current browser session. Please rerun this cell to enable.\n",
       "      </output>\n",
       "      <script src=\"/nbextensions/google.colab/files.js\"></script> "
      ],
      "text/plain": [
       "<IPython.core.display.HTML object>"
      ]
     },
     "metadata": {
      "tags": []
     },
     "output_type": "display_data"
    }
   ],
   "source": [
    "from google.colab import files\n",
    "uploaded=files.upload()"
   ]
  },
  {
   "cell_type": "code",
   "execution_count": 9,
   "metadata": {
    "colab": {
     "base_uri": "https://localhost:8080/",
     "height": 204
    },
    "executionInfo": {
     "elapsed": 1243,
     "status": "ok",
     "timestamp": 1625857225077,
     "user": {
      "displayName": "Akash Talwar",
      "photoUrl": "https://lh3.googleusercontent.com/a-/AOh14GhsGyfKUqb496jz_lKHO4lCUdAD6jrECtPc4YCoNA=s64",
      "userId": "00480072323501141751"
     },
     "user_tz": -330
    },
    "id": "CZ1sxzxfnqDm",
    "outputId": "adc5b93b-2386-4626-e1d8-4f0e339bb389"
   },
   "outputs": [
    {
     "data": {
      "text/html": [
       "<div>\n",
       "<style scoped>\n",
       "    .dataframe tbody tr th:only-of-type {\n",
       "        vertical-align: middle;\n",
       "    }\n",
       "\n",
       "    .dataframe tbody tr th {\n",
       "        vertical-align: top;\n",
       "    }\n",
       "\n",
       "    .dataframe thead th {\n",
       "        text-align: right;\n",
       "    }\n",
       "</style>\n",
       "<table border=\"1\" class=\"dataframe\">\n",
       "  <thead>\n",
       "    <tr style=\"text-align: right;\">\n",
       "      <th></th>\n",
       "      <th>Airline</th>\n",
       "      <th>Date_of_Journey</th>\n",
       "      <th>Source</th>\n",
       "      <th>Destination</th>\n",
       "      <th>Route</th>\n",
       "      <th>Dep_Time</th>\n",
       "      <th>Arrival_Time</th>\n",
       "      <th>Duration</th>\n",
       "      <th>Total_Stops</th>\n",
       "      <th>Additional_Info</th>\n",
       "      <th>Price</th>\n",
       "    </tr>\n",
       "  </thead>\n",
       "  <tbody>\n",
       "    <tr>\n",
       "      <th>0</th>\n",
       "      <td>IndiGo</td>\n",
       "      <td>24/03/2019</td>\n",
       "      <td>Banglore</td>\n",
       "      <td>New Delhi</td>\n",
       "      <td>BLR → DEL</td>\n",
       "      <td>22:20</td>\n",
       "      <td>01:10 22 Mar</td>\n",
       "      <td>2h 50m</td>\n",
       "      <td>non-stop</td>\n",
       "      <td>No info</td>\n",
       "      <td>3897</td>\n",
       "    </tr>\n",
       "    <tr>\n",
       "      <th>1</th>\n",
       "      <td>Air India</td>\n",
       "      <td>1/05/2019</td>\n",
       "      <td>Kolkata</td>\n",
       "      <td>Banglore</td>\n",
       "      <td>CCU → IXR → BBI → BLR</td>\n",
       "      <td>05:50</td>\n",
       "      <td>13:15</td>\n",
       "      <td>7h 25m</td>\n",
       "      <td>2 stops</td>\n",
       "      <td>No info</td>\n",
       "      <td>7662</td>\n",
       "    </tr>\n",
       "    <tr>\n",
       "      <th>2</th>\n",
       "      <td>Jet Airways</td>\n",
       "      <td>9/06/2019</td>\n",
       "      <td>Delhi</td>\n",
       "      <td>Cochin</td>\n",
       "      <td>DEL → LKO → BOM → COK</td>\n",
       "      <td>09:25</td>\n",
       "      <td>04:25 10 Jun</td>\n",
       "      <td>19h</td>\n",
       "      <td>2 stops</td>\n",
       "      <td>No info</td>\n",
       "      <td>13882</td>\n",
       "    </tr>\n",
       "    <tr>\n",
       "      <th>3</th>\n",
       "      <td>IndiGo</td>\n",
       "      <td>12/05/2019</td>\n",
       "      <td>Kolkata</td>\n",
       "      <td>Banglore</td>\n",
       "      <td>CCU → NAG → BLR</td>\n",
       "      <td>18:05</td>\n",
       "      <td>23:30</td>\n",
       "      <td>5h 25m</td>\n",
       "      <td>1 stop</td>\n",
       "      <td>No info</td>\n",
       "      <td>6218</td>\n",
       "    </tr>\n",
       "    <tr>\n",
       "      <th>4</th>\n",
       "      <td>IndiGo</td>\n",
       "      <td>01/03/2019</td>\n",
       "      <td>Banglore</td>\n",
       "      <td>New Delhi</td>\n",
       "      <td>BLR → NAG → DEL</td>\n",
       "      <td>16:50</td>\n",
       "      <td>21:35</td>\n",
       "      <td>4h 45m</td>\n",
       "      <td>1 stop</td>\n",
       "      <td>No info</td>\n",
       "      <td>13302</td>\n",
       "    </tr>\n",
       "  </tbody>\n",
       "</table>\n",
       "</div>"
      ],
      "text/plain": [
       "       Airline Date_of_Journey    Source  ... Total_Stops Additional_Info  Price\n",
       "0       IndiGo      24/03/2019  Banglore  ...    non-stop         No info   3897\n",
       "1    Air India       1/05/2019   Kolkata  ...     2 stops         No info   7662\n",
       "2  Jet Airways       9/06/2019     Delhi  ...     2 stops         No info  13882\n",
       "3       IndiGo      12/05/2019   Kolkata  ...      1 stop         No info   6218\n",
       "4       IndiGo      01/03/2019  Banglore  ...      1 stop         No info  13302\n",
       "\n",
       "[5 rows x 11 columns]"
      ]
     },
     "execution_count": 9,
     "metadata": {
      "tags": []
     },
     "output_type": "execute_result"
    }
   ],
   "source": [
    "#Import Train Data\n",
    "df_train=pd.read_excel(\"Data_Train.xlsx\")\n",
    "df_train.head()"
   ]
  },
  {
   "cell_type": "markdown",
   "metadata": {
    "id": "U0VD4JR2nqDo"
   },
   "source": [
    "# Data Analysis"
   ]
  },
  {
   "cell_type": "code",
   "execution_count": 10,
   "metadata": {
    "colab": {
     "base_uri": "https://localhost:8080/"
    },
    "executionInfo": {
     "elapsed": 65,
     "status": "ok",
     "timestamp": 1625857225079,
     "user": {
      "displayName": "Akash Talwar",
      "photoUrl": "https://lh3.googleusercontent.com/a-/AOh14GhsGyfKUqb496jz_lKHO4lCUdAD6jrECtPc4YCoNA=s64",
      "userId": "00480072323501141751"
     },
     "user_tz": -330
    },
    "id": "tcacw8mUnqDp",
    "outputId": "92b77086-00d5-4851-e898-067b2988cca1"
   },
   "outputs": [
    {
     "data": {
      "text/plain": [
       "(10683, 11)"
      ]
     },
     "execution_count": 10,
     "metadata": {
      "tags": []
     },
     "output_type": "execute_result"
    }
   ],
   "source": [
    "#Check shape of train data\n",
    "df_train.shape"
   ]
  },
  {
   "cell_type": "code",
   "execution_count": 11,
   "metadata": {
    "colab": {
     "base_uri": "https://localhost:8080/"
    },
    "executionInfo": {
     "elapsed": 58,
     "status": "ok",
     "timestamp": 1625857225084,
     "user": {
      "displayName": "Akash Talwar",
      "photoUrl": "https://lh3.googleusercontent.com/a-/AOh14GhsGyfKUqb496jz_lKHO4lCUdAD6jrECtPc4YCoNA=s64",
      "userId": "00480072323501141751"
     },
     "user_tz": -330
    },
    "id": "CgGSY67vnqDr",
    "outputId": "85e3c582-c25e-4c6c-f097-134a9ef2bd77"
   },
   "outputs": [
    {
     "data": {
      "text/plain": [
       "Airline            0\n",
       "Date_of_Journey    0\n",
       "Source             0\n",
       "Destination        0\n",
       "Route              1\n",
       "Dep_Time           0\n",
       "Arrival_Time       0\n",
       "Duration           0\n",
       "Total_Stops        1\n",
       "Additional_Info    0\n",
       "Price              0\n",
       "dtype: int64"
      ]
     },
     "execution_count": 11,
     "metadata": {
      "tags": []
     },
     "output_type": "execute_result"
    }
   ],
   "source": [
    "#Check null values in train data\n",
    "df_train.isnull().sum()\n",
    "# Feature: \"Route\" & \"Total_stops\" have a null values each"
   ]
  },
  {
   "cell_type": "code",
   "execution_count": 12,
   "metadata": {
    "colab": {
     "base_uri": "https://localhost:8080/"
    },
    "executionInfo": {
     "elapsed": 51,
     "status": "ok",
     "timestamp": 1625857225087,
     "user": {
      "displayName": "Akash Talwar",
      "photoUrl": "https://lh3.googleusercontent.com/a-/AOh14GhsGyfKUqb496jz_lKHO4lCUdAD6jrECtPc4YCoNA=s64",
      "userId": "00480072323501141751"
     },
     "user_tz": -330
    },
    "id": "w1NqGzVRnqDs",
    "outputId": "6cc5ff44-7b90-4ba3-ec80-1a866e8bf501"
   },
   "outputs": [
    {
     "data": {
      "text/plain": [
       "(10682, 11)"
      ]
     },
     "execution_count": 12,
     "metadata": {
      "tags": []
     },
     "output_type": "execute_result"
    }
   ],
   "source": [
    "#Only two null vaues , hence we will drop the null values\n",
    "df_train.dropna(axis=0,inplace=True)\n",
    "df_train.shape\n",
    "#Just one row is deleted."
   ]
  },
  {
   "cell_type": "code",
   "execution_count": 13,
   "metadata": {
    "colab": {
     "base_uri": "https://localhost:8080/"
    },
    "executionInfo": {
     "elapsed": 51,
     "status": "ok",
     "timestamp": 1625857225094,
     "user": {
      "displayName": "Akash Talwar",
      "photoUrl": "https://lh3.googleusercontent.com/a-/AOh14GhsGyfKUqb496jz_lKHO4lCUdAD6jrECtPc4YCoNA=s64",
      "userId": "00480072323501141751"
     },
     "user_tz": -330
    },
    "id": "SaFYKVpZnqDt",
    "outputId": "b24de5f0-bba7-4e78-a81c-0c85ce263f00"
   },
   "outputs": [
    {
     "name": "stdout",
     "output_type": "stream",
     "text": [
      "<class 'pandas.core.frame.DataFrame'>\n",
      "Int64Index: 10682 entries, 0 to 10682\n",
      "Data columns (total 11 columns):\n",
      " #   Column           Non-Null Count  Dtype \n",
      "---  ------           --------------  ----- \n",
      " 0   Airline          10682 non-null  object\n",
      " 1   Date_of_Journey  10682 non-null  object\n",
      " 2   Source           10682 non-null  object\n",
      " 3   Destination      10682 non-null  object\n",
      " 4   Route            10682 non-null  object\n",
      " 5   Dep_Time         10682 non-null  object\n",
      " 6   Arrival_Time     10682 non-null  object\n",
      " 7   Duration         10682 non-null  object\n",
      " 8   Total_Stops      10682 non-null  object\n",
      " 9   Additional_Info  10682 non-null  object\n",
      " 10  Price            10682 non-null  int64 \n",
      "dtypes: int64(1), object(10)\n",
      "memory usage: 1001.4+ KB\n"
     ]
    }
   ],
   "source": [
    "#Check data types \n",
    "df_train.info()\n",
    "#All the independent features are of object data type, only dependent variable \"Price\" is numeric."
   ]
  },
  {
   "cell_type": "code",
   "execution_count": 14,
   "metadata": {
    "colab": {
     "base_uri": "https://localhost:8080/",
     "height": 38,
     "resources": {
      "http://localhost:8080/nbextensions/google.colab/files.js": {
       "data": "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",
       "headers": [
        [
         "content-type",
         "application/javascript"
        ]
       ],
       "ok": true,
       "status": 200,
       "status_text": ""
      }
     }
    },
    "executionInfo": {
     "elapsed": 12850,
     "status": "ok",
     "timestamp": 1625857237901,
     "user": {
      "displayName": "Akash Talwar",
      "photoUrl": "https://lh3.googleusercontent.com/a-/AOh14GhsGyfKUqb496jz_lKHO4lCUdAD6jrECtPc4YCoNA=s64",
      "userId": "00480072323501141751"
     },
     "user_tz": -330
    },
    "id": "DnbDeBBTojRb",
    "outputId": "0d6b3f20-1aac-4af3-a432-28ee208aff9b"
   },
   "outputs": [
    {
     "data": {
      "text/html": [
       "\n",
       "     <input type=\"file\" id=\"files-bb93f8c8-560e-47b8-badd-d02b7327e261\" name=\"files[]\" multiple disabled\n",
       "        style=\"border:none\" />\n",
       "     <output id=\"result-bb93f8c8-560e-47b8-badd-d02b7327e261\">\n",
       "      Upload widget is only available when the cell has been executed in the\n",
       "      current browser session. Please rerun this cell to enable.\n",
       "      </output>\n",
       "      <script src=\"/nbextensions/google.colab/files.js\"></script> "
      ],
      "text/plain": [
       "<IPython.core.display.HTML object>"
      ]
     },
     "metadata": {
      "tags": []
     },
     "output_type": "display_data"
    }
   ],
   "source": [
    "from google.colab import files\n",
    "uploaded=files.upload()"
   ]
  },
  {
   "cell_type": "code",
   "execution_count": 15,
   "metadata": {
    "colab": {
     "base_uri": "https://localhost:8080/",
     "height": 204
    },
    "executionInfo": {
     "elapsed": 71,
     "status": "ok",
     "timestamp": 1625857237928,
     "user": {
      "displayName": "Akash Talwar",
      "photoUrl": "https://lh3.googleusercontent.com/a-/AOh14GhsGyfKUqb496jz_lKHO4lCUdAD6jrECtPc4YCoNA=s64",
      "userId": "00480072323501141751"
     },
     "user_tz": -330
    },
    "id": "uW6BjGCznqDv",
    "outputId": "691e00c4-ddea-487e-fd6a-e7e18002efe5"
   },
   "outputs": [
    {
     "data": {
      "text/html": [
       "<div>\n",
       "<style scoped>\n",
       "    .dataframe tbody tr th:only-of-type {\n",
       "        vertical-align: middle;\n",
       "    }\n",
       "\n",
       "    .dataframe tbody tr th {\n",
       "        vertical-align: top;\n",
       "    }\n",
       "\n",
       "    .dataframe thead th {\n",
       "        text-align: right;\n",
       "    }\n",
       "</style>\n",
       "<table border=\"1\" class=\"dataframe\">\n",
       "  <thead>\n",
       "    <tr style=\"text-align: right;\">\n",
       "      <th></th>\n",
       "      <th>Airline</th>\n",
       "      <th>Date_of_Journey</th>\n",
       "      <th>Source</th>\n",
       "      <th>Destination</th>\n",
       "      <th>Route</th>\n",
       "      <th>Dep_Time</th>\n",
       "      <th>Arrival_Time</th>\n",
       "      <th>Duration</th>\n",
       "      <th>Total_Stops</th>\n",
       "      <th>Additional_Info</th>\n",
       "    </tr>\n",
       "  </thead>\n",
       "  <tbody>\n",
       "    <tr>\n",
       "      <th>0</th>\n",
       "      <td>Jet Airways</td>\n",
       "      <td>6/06/2019</td>\n",
       "      <td>Delhi</td>\n",
       "      <td>Cochin</td>\n",
       "      <td>DEL → BOM → COK</td>\n",
       "      <td>17:30</td>\n",
       "      <td>04:25 07 Jun</td>\n",
       "      <td>10h 55m</td>\n",
       "      <td>1 stop</td>\n",
       "      <td>No info</td>\n",
       "    </tr>\n",
       "    <tr>\n",
       "      <th>1</th>\n",
       "      <td>IndiGo</td>\n",
       "      <td>12/05/2019</td>\n",
       "      <td>Kolkata</td>\n",
       "      <td>Banglore</td>\n",
       "      <td>CCU → MAA → BLR</td>\n",
       "      <td>06:20</td>\n",
       "      <td>10:20</td>\n",
       "      <td>4h</td>\n",
       "      <td>1 stop</td>\n",
       "      <td>No info</td>\n",
       "    </tr>\n",
       "    <tr>\n",
       "      <th>2</th>\n",
       "      <td>Jet Airways</td>\n",
       "      <td>21/05/2019</td>\n",
       "      <td>Delhi</td>\n",
       "      <td>Cochin</td>\n",
       "      <td>DEL → BOM → COK</td>\n",
       "      <td>19:15</td>\n",
       "      <td>19:00 22 May</td>\n",
       "      <td>23h 45m</td>\n",
       "      <td>1 stop</td>\n",
       "      <td>In-flight meal not included</td>\n",
       "    </tr>\n",
       "    <tr>\n",
       "      <th>3</th>\n",
       "      <td>Multiple carriers</td>\n",
       "      <td>21/05/2019</td>\n",
       "      <td>Delhi</td>\n",
       "      <td>Cochin</td>\n",
       "      <td>DEL → BOM → COK</td>\n",
       "      <td>08:00</td>\n",
       "      <td>21:00</td>\n",
       "      <td>13h</td>\n",
       "      <td>1 stop</td>\n",
       "      <td>No info</td>\n",
       "    </tr>\n",
       "    <tr>\n",
       "      <th>4</th>\n",
       "      <td>Air Asia</td>\n",
       "      <td>24/06/2019</td>\n",
       "      <td>Banglore</td>\n",
       "      <td>Delhi</td>\n",
       "      <td>BLR → DEL</td>\n",
       "      <td>23:55</td>\n",
       "      <td>02:45 25 Jun</td>\n",
       "      <td>2h 50m</td>\n",
       "      <td>non-stop</td>\n",
       "      <td>No info</td>\n",
       "    </tr>\n",
       "  </tbody>\n",
       "</table>\n",
       "</div>"
      ],
      "text/plain": [
       "             Airline Date_of_Journey  ... Total_Stops              Additional_Info\n",
       "0        Jet Airways       6/06/2019  ...      1 stop                      No info\n",
       "1             IndiGo      12/05/2019  ...      1 stop                      No info\n",
       "2        Jet Airways      21/05/2019  ...      1 stop  In-flight meal not included\n",
       "3  Multiple carriers      21/05/2019  ...      1 stop                      No info\n",
       "4           Air Asia      24/06/2019  ...    non-stop                      No info\n",
       "\n",
       "[5 rows x 10 columns]"
      ]
     },
     "execution_count": 15,
     "metadata": {
      "tags": []
     },
     "output_type": "execute_result"
    }
   ],
   "source": [
    "#Import Test Data\n",
    "df_test=pd.read_excel(\"Test_set.xlsx\")\n",
    "df_test.head()"
   ]
  },
  {
   "cell_type": "code",
   "execution_count": 16,
   "metadata": {
    "colab": {
     "base_uri": "https://localhost:8080/"
    },
    "executionInfo": {
     "elapsed": 75,
     "status": "ok",
     "timestamp": 1625857237939,
     "user": {
      "displayName": "Akash Talwar",
      "photoUrl": "https://lh3.googleusercontent.com/a-/AOh14GhsGyfKUqb496jz_lKHO4lCUdAD6jrECtPc4YCoNA=s64",
      "userId": "00480072323501141751"
     },
     "user_tz": -330
    },
    "id": "tYZVtNLUnqDw",
    "outputId": "51d0761c-71f7-49cf-c7dc-a17fc4430d85"
   },
   "outputs": [
    {
     "data": {
      "text/plain": [
       "(2671, 10)"
      ]
     },
     "execution_count": 16,
     "metadata": {
      "tags": []
     },
     "output_type": "execute_result"
    }
   ],
   "source": [
    "#Check test data shape\n",
    "df_test.shape"
   ]
  },
  {
   "cell_type": "code",
   "execution_count": 17,
   "metadata": {
    "colab": {
     "base_uri": "https://localhost:8080/"
    },
    "executionInfo": {
     "elapsed": 70,
     "status": "ok",
     "timestamp": 1625857237941,
     "user": {
      "displayName": "Akash Talwar",
      "photoUrl": "https://lh3.googleusercontent.com/a-/AOh14GhsGyfKUqb496jz_lKHO4lCUdAD6jrECtPc4YCoNA=s64",
      "userId": "00480072323501141751"
     },
     "user_tz": -330
    },
    "id": "NpyCR2CanqDx",
    "outputId": "cbc89449-899c-461b-9e09-48107a71aca9"
   },
   "outputs": [
    {
     "data": {
      "text/plain": [
       "Airline            0\n",
       "Date_of_Journey    0\n",
       "Source             0\n",
       "Destination        0\n",
       "Route              0\n",
       "Dep_Time           0\n",
       "Arrival_Time       0\n",
       "Duration           0\n",
       "Total_Stops        0\n",
       "Additional_Info    0\n",
       "dtype: int64"
      ]
     },
     "execution_count": 17,
     "metadata": {
      "tags": []
     },
     "output_type": "execute_result"
    }
   ],
   "source": [
    "#Check null values in test data\n",
    "df_test.isnull().sum()\n",
    "#No null values in test data"
   ]
  },
  {
   "cell_type": "code",
   "execution_count": 18,
   "metadata": {
    "executionInfo": {
     "elapsed": 67,
     "status": "ok",
     "timestamp": 1625857237943,
     "user": {
      "displayName": "Akash Talwar",
      "photoUrl": "https://lh3.googleusercontent.com/a-/AOh14GhsGyfKUqb496jz_lKHO4lCUdAD6jrECtPc4YCoNA=s64",
      "userId": "00480072323501141751"
     },
     "user_tz": -330
    },
    "id": "Q6Kqa7uunqDy"
   },
   "outputs": [],
   "source": [
    "#Combine both the datasets for data anlysis by a reference column\n",
    "df_train[\"ref\"]= \"train\"\n",
    "df_test[\"ref\"]=\"test\""
   ]
  },
  {
   "cell_type": "code",
   "execution_count": 19,
   "metadata": {
    "colab": {
     "base_uri": "https://localhost:8080/",
     "height": 204
    },
    "executionInfo": {
     "elapsed": 68,
     "status": "ok",
     "timestamp": 1625857237945,
     "user": {
      "displayName": "Akash Talwar",
      "photoUrl": "https://lh3.googleusercontent.com/a-/AOh14GhsGyfKUqb496jz_lKHO4lCUdAD6jrECtPc4YCoNA=s64",
      "userId": "00480072323501141751"
     },
     "user_tz": -330
    },
    "id": "PzFwzGiSnqDz",
    "outputId": "4dec26a7-90bd-4c94-9bb0-90f69848dde7"
   },
   "outputs": [
    {
     "data": {
      "text/html": [
       "<div>\n",
       "<style scoped>\n",
       "    .dataframe tbody tr th:only-of-type {\n",
       "        vertical-align: middle;\n",
       "    }\n",
       "\n",
       "    .dataframe tbody tr th {\n",
       "        vertical-align: top;\n",
       "    }\n",
       "\n",
       "    .dataframe thead th {\n",
       "        text-align: right;\n",
       "    }\n",
       "</style>\n",
       "<table border=\"1\" class=\"dataframe\">\n",
       "  <thead>\n",
       "    <tr style=\"text-align: right;\">\n",
       "      <th></th>\n",
       "      <th>Airline</th>\n",
       "      <th>Date_of_Journey</th>\n",
       "      <th>Source</th>\n",
       "      <th>Destination</th>\n",
       "      <th>Route</th>\n",
       "      <th>Dep_Time</th>\n",
       "      <th>Arrival_Time</th>\n",
       "      <th>Duration</th>\n",
       "      <th>Total_Stops</th>\n",
       "      <th>Additional_Info</th>\n",
       "      <th>Price</th>\n",
       "      <th>ref</th>\n",
       "    </tr>\n",
       "  </thead>\n",
       "  <tbody>\n",
       "    <tr>\n",
       "      <th>0</th>\n",
       "      <td>IndiGo</td>\n",
       "      <td>24/03/2019</td>\n",
       "      <td>Banglore</td>\n",
       "      <td>New Delhi</td>\n",
       "      <td>BLR → DEL</td>\n",
       "      <td>22:20</td>\n",
       "      <td>01:10 22 Mar</td>\n",
       "      <td>2h 50m</td>\n",
       "      <td>non-stop</td>\n",
       "      <td>No info</td>\n",
       "      <td>3897.0</td>\n",
       "      <td>train</td>\n",
       "    </tr>\n",
       "    <tr>\n",
       "      <th>1</th>\n",
       "      <td>Air India</td>\n",
       "      <td>1/05/2019</td>\n",
       "      <td>Kolkata</td>\n",
       "      <td>Banglore</td>\n",
       "      <td>CCU → IXR → BBI → BLR</td>\n",
       "      <td>05:50</td>\n",
       "      <td>13:15</td>\n",
       "      <td>7h 25m</td>\n",
       "      <td>2 stops</td>\n",
       "      <td>No info</td>\n",
       "      <td>7662.0</td>\n",
       "      <td>train</td>\n",
       "    </tr>\n",
       "    <tr>\n",
       "      <th>2</th>\n",
       "      <td>Jet Airways</td>\n",
       "      <td>9/06/2019</td>\n",
       "      <td>Delhi</td>\n",
       "      <td>Cochin</td>\n",
       "      <td>DEL → LKO → BOM → COK</td>\n",
       "      <td>09:25</td>\n",
       "      <td>04:25 10 Jun</td>\n",
       "      <td>19h</td>\n",
       "      <td>2 stops</td>\n",
       "      <td>No info</td>\n",
       "      <td>13882.0</td>\n",
       "      <td>train</td>\n",
       "    </tr>\n",
       "    <tr>\n",
       "      <th>3</th>\n",
       "      <td>IndiGo</td>\n",
       "      <td>12/05/2019</td>\n",
       "      <td>Kolkata</td>\n",
       "      <td>Banglore</td>\n",
       "      <td>CCU → NAG → BLR</td>\n",
       "      <td>18:05</td>\n",
       "      <td>23:30</td>\n",
       "      <td>5h 25m</td>\n",
       "      <td>1 stop</td>\n",
       "      <td>No info</td>\n",
       "      <td>6218.0</td>\n",
       "      <td>train</td>\n",
       "    </tr>\n",
       "    <tr>\n",
       "      <th>4</th>\n",
       "      <td>IndiGo</td>\n",
       "      <td>01/03/2019</td>\n",
       "      <td>Banglore</td>\n",
       "      <td>New Delhi</td>\n",
       "      <td>BLR → NAG → DEL</td>\n",
       "      <td>16:50</td>\n",
       "      <td>21:35</td>\n",
       "      <td>4h 45m</td>\n",
       "      <td>1 stop</td>\n",
       "      <td>No info</td>\n",
       "      <td>13302.0</td>\n",
       "      <td>train</td>\n",
       "    </tr>\n",
       "  </tbody>\n",
       "</table>\n",
       "</div>"
      ],
      "text/plain": [
       "       Airline Date_of_Journey    Source  ... Additional_Info    Price    ref\n",
       "0       IndiGo      24/03/2019  Banglore  ...         No info   3897.0  train\n",
       "1    Air India       1/05/2019   Kolkata  ...         No info   7662.0  train\n",
       "2  Jet Airways       9/06/2019     Delhi  ...         No info  13882.0  train\n",
       "3       IndiGo      12/05/2019   Kolkata  ...         No info   6218.0  train\n",
       "4       IndiGo      01/03/2019  Banglore  ...         No info  13302.0  train\n",
       "\n",
       "[5 rows x 12 columns]"
      ]
     },
     "execution_count": 19,
     "metadata": {
      "tags": []
     },
     "output_type": "execute_result"
    }
   ],
   "source": [
    "#Merging both the datasets\n",
    "df=pd.concat([df_train,df_test],ignore_index=True)\n",
    "df.head()"
   ]
  },
  {
   "cell_type": "code",
   "execution_count": 20,
   "metadata": {
    "colab": {
     "base_uri": "https://localhost:8080/"
    },
    "executionInfo": {
     "elapsed": 826,
     "status": "ok",
     "timestamp": 1625857238705,
     "user": {
      "displayName": "Akash Talwar",
      "photoUrl": "https://lh3.googleusercontent.com/a-/AOh14GhsGyfKUqb496jz_lKHO4lCUdAD6jrECtPc4YCoNA=s64",
      "userId": "00480072323501141751"
     },
     "user_tz": -330
    },
    "id": "x0Ovt-xDnqD1",
    "outputId": "0beb5983-72fe-4f10-f0b9-628588ee7d54"
   },
   "outputs": [
    {
     "data": {
      "text/plain": [
       "(13353, 12)"
      ]
     },
     "execution_count": 20,
     "metadata": {
      "tags": []
     },
     "output_type": "execute_result"
    }
   ],
   "source": [
    "#Confirm the shape\n",
    "df.shape"
   ]
  },
  {
   "cell_type": "code",
   "execution_count": 21,
   "metadata": {
    "colab": {
     "base_uri": "https://localhost:8080/"
    },
    "executionInfo": {
     "elapsed": 117,
     "status": "ok",
     "timestamp": 1625857238706,
     "user": {
      "displayName": "Akash Talwar",
      "photoUrl": "https://lh3.googleusercontent.com/a-/AOh14GhsGyfKUqb496jz_lKHO4lCUdAD6jrECtPc4YCoNA=s64",
      "userId": "00480072323501141751"
     },
     "user_tz": -330
    },
    "id": "68r_zfy8nqD2",
    "outputId": "ac5e018c-394d-432e-8131-ba22728ac4bf"
   },
   "outputs": [
    {
     "name": "stdout",
     "output_type": "stream",
     "text": [
      "['IndiGo' 'Air India' 'Jet Airways' 'SpiceJet' 'Multiple carriers' 'GoAir'\n",
      " 'Vistara' 'Air Asia' 'Vistara Premium economy' 'Jet Airways Business'\n",
      " 'Multiple carriers Premium economy' 'Trujet']\n",
      "12\n"
     ]
    }
   ],
   "source": [
    "#Check all the independent features\n",
    "#1. Airline\n",
    "print(df[\"Airline\"].unique())\n",
    "print(df[\"Airline\"].nunique())"
   ]
  },
  {
   "cell_type": "raw",
   "metadata": {
    "id": "p9Eae7-cnqD2"
   },
   "source": [
    "Observation: (Jet Airways & Jet Airways Business),(Multiple carriers & Multiple carriers Premium economy ) and (Vistara & Vistara Premium Economy) can be merged as they are same Airline"
   ]
  },
  {
   "cell_type": "code",
   "execution_count": 22,
   "metadata": {
    "colab": {
     "base_uri": "https://localhost:8080/"
    },
    "executionInfo": {
     "elapsed": 112,
     "status": "ok",
     "timestamp": 1625857238707,
     "user": {
      "displayName": "Akash Talwar",
      "photoUrl": "https://lh3.googleusercontent.com/a-/AOh14GhsGyfKUqb496jz_lKHO4lCUdAD6jrECtPc4YCoNA=s64",
      "userId": "00480072323501141751"
     },
     "user_tz": -330
    },
    "id": "NzdH2gYmnqD3",
    "outputId": "cfc25f0d-0073-4cfb-c05f-10e9ba425fcf"
   },
   "outputs": [
    {
     "name": "stdout",
     "output_type": "stream",
     "text": [
      "['IndiGo' 'Air India' 'Jet Airways' 'SpiceJet' 'Multiple carriers' 'GoAir'\n",
      " 'Vistara' 'Air Asia' 'Trujet']\n",
      "9\n"
     ]
    }
   ],
   "source": [
    "#Replace Jet Airways Business as Jet Airways\n",
    "df[\"Airline\"]=np.where(df[\"Airline\"]==\"Jet Airways Business\",\"Jet Airways\",df[\"Airline\"])\n",
    "#Replace Vistara Premium Economy as Vistara\n",
    "df[\"Airline\"]=np.where(df[\"Airline\"]==\"Vistara Premium economy\",\"Vistara\",df[\"Airline\"])\n",
    "#Replace Multiple carriers Premium economy as Multiple carriers\n",
    "df[\"Airline\"]=np.where(df[\"Airline\"]==\"Multiple carriers Premium economy\",\"Multiple carriers\",df[\"Airline\"])\n",
    "print(df[\"Airline\"].unique())\n",
    "print(df[\"Airline\"].nunique())"
   ]
  },
  {
   "cell_type": "code",
   "execution_count": 23,
   "metadata": {
    "colab": {
     "base_uri": "https://localhost:8080/"
    },
    "executionInfo": {
     "elapsed": 107,
     "status": "ok",
     "timestamp": 1625857238708,
     "user": {
      "displayName": "Akash Talwar",
      "photoUrl": "https://lh3.googleusercontent.com/a-/AOh14GhsGyfKUqb496jz_lKHO4lCUdAD6jrECtPc4YCoNA=s64",
      "userId": "00480072323501141751"
     },
     "user_tz": -330
    },
    "id": "ycprl_-inqD4",
    "outputId": "6086d8f0-08cb-4493-c617-dd87c0e2397c"
   },
   "outputs": [
    {
     "name": "stdout",
     "output_type": "stream",
     "text": [
      "['24/03/2019' '1/05/2019' '9/06/2019' '12/05/2019' '01/03/2019'\n",
      " '24/06/2019' '12/03/2019' '27/05/2019' '1/06/2019' '18/04/2019'\n",
      " '9/05/2019' '24/04/2019' '3/03/2019' '15/04/2019' '12/06/2019'\n",
      " '6/03/2019' '21/03/2019' '3/04/2019' '6/05/2019' '15/05/2019'\n",
      " '18/06/2019' '15/06/2019' '6/04/2019' '18/05/2019' '27/06/2019'\n",
      " '21/05/2019' '06/03/2019' '3/06/2019' '15/03/2019' '3/05/2019'\n",
      " '9/03/2019' '6/06/2019' '24/05/2019' '09/03/2019' '1/04/2019'\n",
      " '21/04/2019' '21/06/2019' '27/03/2019' '18/03/2019' '12/04/2019'\n",
      " '9/04/2019' '1/03/2019' '03/03/2019' '27/04/2019']\n",
      "44\n"
     ]
    }
   ],
   "source": [
    "#2. Date of Journey\n",
    "print(df[\"Date_of_Journey\"].unique())\n",
    "print(df[\"Date_of_Journey\"].nunique())"
   ]
  },
  {
   "cell_type": "raw",
   "metadata": {
    "id": "5w6QFDaDnqD5"
   },
   "source": [
    "Observation: The date can be divided into date, month & year of journey for better interpretation. As the newly column year of journey will be of no significance as the values will remain same & subsquently feature \"date_of_journey can be dropped.\""
   ]
  },
  {
   "cell_type": "code",
   "execution_count": 24,
   "metadata": {
    "executionInfo": {
     "elapsed": 103,
     "status": "ok",
     "timestamp": 1625857238709,
     "user": {
      "displayName": "Akash Talwar",
      "photoUrl": "https://lh3.googleusercontent.com/a-/AOh14GhsGyfKUqb496jz_lKHO4lCUdAD6jrECtPc4YCoNA=s64",
      "userId": "00480072323501141751"
     },
     "user_tz": -330
    },
    "id": "o2I7KhjcnqD6"
   },
   "outputs": [],
   "source": [
    "# Split the date into day-month & year\n",
    "df[\"Day_journey\"],df[\"Month_journey\"],df[\"Year_journey\"]=df[\"Date_of_Journey\"].str.split(\"/\",3).str"
   ]
  },
  {
   "cell_type": "code",
   "execution_count": 25,
   "metadata": {
    "executionInfo": {
     "elapsed": 103,
     "status": "ok",
     "timestamp": 1625857238710,
     "user": {
      "displayName": "Akash Talwar",
      "photoUrl": "https://lh3.googleusercontent.com/a-/AOh14GhsGyfKUqb496jz_lKHO4lCUdAD6jrECtPc4YCoNA=s64",
      "userId": "00480072323501141751"
     },
     "user_tz": -330
    },
    "id": "hOODc3_inqD6"
   },
   "outputs": [],
   "source": [
    "#Drop columsn \"Date_of_journey\" & \"Year_journey\"\n",
    "df.drop(columns=[\"Date_of_Journey\",\"Year_journey\"],inplace=True)"
   ]
  },
  {
   "cell_type": "code",
   "execution_count": 26,
   "metadata": {
    "colab": {
     "base_uri": "https://localhost:8080/"
    },
    "executionInfo": {
     "elapsed": 103,
     "status": "ok",
     "timestamp": 1625857238711,
     "user": {
      "displayName": "Akash Talwar",
      "photoUrl": "https://lh3.googleusercontent.com/a-/AOh14GhsGyfKUqb496jz_lKHO4lCUdAD6jrECtPc4YCoNA=s64",
      "userId": "00480072323501141751"
     },
     "user_tz": -330
    },
    "id": "cD7VC7ewnqD7",
    "outputId": "b79fa0c1-a04a-4935-bedc-204d4d501a42"
   },
   "outputs": [
    {
     "name": "stdout",
     "output_type": "stream",
     "text": [
      "Delhi       5681\n",
      "Kolkata     3581\n",
      "Banglore    2752\n",
      "Mumbai       883\n",
      "Chennai      456\n",
      "Name: Source, dtype: int64\n",
      "5\n"
     ]
    }
   ],
   "source": [
    "#3. Source\n",
    "print(df[\"Source\"].value_counts())\n",
    "print(df[\"Source\"].nunique())"
   ]
  },
  {
   "cell_type": "code",
   "execution_count": 27,
   "metadata": {
    "colab": {
     "base_uri": "https://localhost:8080/"
    },
    "executionInfo": {
     "elapsed": 98,
     "status": "ok",
     "timestamp": 1625857238712,
     "user": {
      "displayName": "Akash Talwar",
      "photoUrl": "https://lh3.googleusercontent.com/a-/AOh14GhsGyfKUqb496jz_lKHO4lCUdAD6jrECtPc4YCoNA=s64",
      "userId": "00480072323501141751"
     },
     "user_tz": -330
    },
    "id": "ZTTw1ZtgnqD8",
    "outputId": "49583def-24db-436d-a27d-7c48a116e014"
   },
   "outputs": [
    {
     "name": "stdout",
     "output_type": "stream",
     "text": [
      "Cochin       5681\n",
      "Banglore     3581\n",
      "Delhi        1582\n",
      "New Delhi    1170\n",
      "Hyderabad     883\n",
      "Kolkata       456\n",
      "Name: Destination, dtype: int64\n",
      "6\n"
     ]
    }
   ],
   "source": [
    "#4. Destination\n",
    "print(df[\"Destination\"].value_counts())\n",
    "print(df[\"Destination\"].nunique())"
   ]
  },
  {
   "cell_type": "code",
   "execution_count": 28,
   "metadata": {
    "colab": {
     "base_uri": "https://localhost:8080/"
    },
    "executionInfo": {
     "elapsed": 93,
     "status": "ok",
     "timestamp": 1625857238713,
     "user": {
      "displayName": "Akash Talwar",
      "photoUrl": "https://lh3.googleusercontent.com/a-/AOh14GhsGyfKUqb496jz_lKHO4lCUdAD6jrECtPc4YCoNA=s64",
      "userId": "00480072323501141751"
     },
     "user_tz": -330
    },
    "id": "DQcBXwXYnqD8",
    "outputId": "efcdfe3c-062d-49cf-9b4a-38ca79d17a55"
   },
   "outputs": [
    {
     "name": "stdout",
     "output_type": "stream",
     "text": [
      "['BLR → DEL' 'CCU → IXR → BBI → BLR' 'DEL → LKO → BOM → COK'\n",
      " 'CCU → NAG → BLR' 'BLR → NAG → DEL' 'CCU → BLR' 'BLR → BOM → DEL'\n",
      " 'DEL → BOM → COK' 'DEL → BLR → COK' 'MAA → CCU' 'CCU → BOM → BLR'\n",
      " 'DEL → AMD → BOM → COK' 'DEL → PNQ → COK' 'DEL → CCU → BOM → COK'\n",
      " 'BLR → COK → DEL' 'DEL → IDR → BOM → COK' 'DEL → LKO → COK'\n",
      " 'CCU → GAU → DEL → BLR' 'DEL → NAG → BOM → COK' 'CCU → MAA → BLR'\n",
      " 'DEL → HYD → COK' 'CCU → HYD → BLR' 'DEL → COK' 'CCU → DEL → BLR'\n",
      " 'BLR → BOM → AMD → DEL' 'BOM → DEL → HYD' 'DEL → MAA → COK' 'BOM → HYD'\n",
      " 'DEL → BHO → BOM → COK' 'DEL → JAI → BOM → COK' 'DEL → ATQ → BOM → COK'\n",
      " 'DEL → JDH → BOM → COK' 'CCU → BBI → BOM → BLR' 'BLR → MAA → DEL'\n",
      " 'DEL → GOI → BOM → COK' 'DEL → BDQ → BOM → COK' 'CCU → JAI → BOM → BLR'\n",
      " 'CCU → BBI → BLR' 'BLR → HYD → DEL' 'DEL → TRV → COK'\n",
      " 'CCU → IXR → DEL → BLR' 'DEL → IXU → BOM → COK' 'CCU → IXB → BLR'\n",
      " 'BLR → BOM → JDH → DEL' 'DEL → UDR → BOM → COK' 'DEL → HYD → MAA → COK'\n",
      " 'CCU → BOM → COK → BLR' 'BLR → CCU → DEL' 'CCU → BOM → GOI → BLR'\n",
      " 'DEL → RPR → NAG → BOM → COK' 'DEL → HYD → BOM → COK'\n",
      " 'CCU → DEL → AMD → BLR' 'CCU → PNQ → BLR' 'BLR → CCU → GAU → DEL'\n",
      " 'CCU → DEL → COK → BLR' 'BLR → PNQ → DEL' 'BOM → JDH → DEL → HYD'\n",
      " 'BLR → BOM → BHO → DEL' 'DEL → AMD → COK' 'BLR → LKO → DEL'\n",
      " 'CCU → GAU → BLR' 'BOM → GOI → HYD' 'CCU → BOM → AMD → BLR'\n",
      " 'CCU → BBI → IXR → DEL → BLR' 'DEL → DED → BOM → COK'\n",
      " 'DEL → MAA → BOM → COK' 'BLR → AMD → DEL' 'BLR → VGA → DEL'\n",
      " 'CCU → JAI → DEL → BLR' 'CCU → AMD → BLR' 'CCU → VNS → DEL → BLR'\n",
      " 'BLR → BOM → IDR → DEL' 'BLR → BBI → DEL' 'BLR → GOI → DEL'\n",
      " 'BOM → AMD → ISK → HYD' 'BOM → DED → DEL → HYD' 'DEL → IXC → BOM → COK'\n",
      " 'CCU → PAT → BLR' 'BLR → CCU → BBI → DEL' 'CCU → BBI → HYD → BLR'\n",
      " 'BLR → BOM → NAG → DEL' 'BLR → CCU → BBI → HYD → DEL' 'BLR → GAU → DEL'\n",
      " 'BOM → BHO → DEL → HYD' 'BOM → JLR → HYD' 'BLR → HYD → VGA → DEL'\n",
      " 'CCU → KNU → BLR' 'CCU → BOM → PNQ → BLR' 'DEL → BBI → COK'\n",
      " 'BLR → VGA → HYD → DEL' 'BOM → JDH → JAI → DEL → HYD'\n",
      " 'DEL → GWL → IDR → BOM → COK' 'CCU → RPR → HYD → BLR' 'CCU → VTZ → BLR'\n",
      " 'CCU → DEL → VGA → BLR' 'BLR → BOM → IDR → GWL → DEL'\n",
      " 'CCU → DEL → COK → TRV → BLR' 'BOM → COK → MAA → HYD' 'BOM → NDC → HYD'\n",
      " 'BLR → BDQ → DEL' 'CCU → BOM → TRV → BLR' 'CCU → BOM → HBX → BLR'\n",
      " 'BOM → BDQ → DEL → HYD' 'BOM → CCU → HYD' 'BLR → TRV → COK → DEL'\n",
      " 'BLR → IDR → DEL' 'CCU → IXZ → MAA → BLR' 'CCU → GAU → IMF → DEL → BLR'\n",
      " 'BOM → GOI → PNQ → HYD' 'BOM → BLR → CCU → BBI → HYD' 'BOM → MAA → HYD'\n",
      " 'BLR → BOM → UDR → DEL' 'BOM → UDR → DEL → HYD' 'BLR → VGA → VTZ → DEL'\n",
      " 'BLR → HBX → BOM → BHO → DEL' 'CCU → IXA → BLR' 'BOM → RPR → VTZ → HYD'\n",
      " 'BLR → HBX → BOM → AMD → DEL' 'BOM → IDR → DEL → HYD' 'BOM → BLR → HYD'\n",
      " 'BLR → STV → DEL' 'CCU → IXB → DEL → BLR' 'BOM → JAI → DEL → HYD'\n",
      " 'BOM → VNS → DEL → HYD' 'BLR → HBX → BOM → NAG → DEL'\n",
      " 'BLR → BOM → IXC → DEL' 'BLR → CCU → BBI → HYD → VGA → DEL'\n",
      " 'BOM → BBI → HYD' 'BLR → TRV → DEL' 'CCU → IXR → BBI → BOM → BLR'\n",
      " 'BOM → VGA → TIR → HYD' 'BOM → IXC → DEL → HYD']\n",
      "132\n"
     ]
    }
   ],
   "source": [
    "#5. Route\n",
    "print(df[\"Route\"].unique())\n",
    "print(df[\"Route\"].nunique())"
   ]
  },
  {
   "cell_type": "code",
   "execution_count": 29,
   "metadata": {
    "colab": {
     "base_uri": "https://localhost:8080/"
    },
    "executionInfo": {
     "elapsed": 89,
     "status": "ok",
     "timestamp": 1625857238714,
     "user": {
      "displayName": "Akash Talwar",
      "photoUrl": "https://lh3.googleusercontent.com/a-/AOh14GhsGyfKUqb496jz_lKHO4lCUdAD6jrECtPc4YCoNA=s64",
      "userId": "00480072323501141751"
     },
     "user_tz": -330
    },
    "id": "8fIj56o0nqD9",
    "outputId": "8d2effba-6c6b-40d1-8eaf-9d31a1f9607f"
   },
   "outputs": [
    {
     "name": "stdout",
     "output_type": "stream",
     "text": [
      "['22:20' '05:50' '09:25' '18:05' '16:50' '09:00' '18:55' '08:00' '08:55'\n",
      " '11:25' '09:45' '20:20' '11:40' '21:10' '17:15' '16:40' '08:45' '14:00'\n",
      " '20:15' '16:00' '14:10' '22:00' '04:00' '21:25' '21:50' '07:00' '07:05'\n",
      " '09:50' '14:35' '10:35' '15:05' '14:15' '06:45' '20:55' '11:10' '05:45'\n",
      " '19:00' '23:05' '11:00' '09:35' '21:15' '23:55' '19:45' '08:50' '15:40'\n",
      " '06:05' '15:00' '13:55' '05:55' '13:20' '05:05' '06:25' '17:30' '08:20'\n",
      " '19:55' '06:30' '14:05' '02:00' '09:40' '08:25' '20:25' '13:15' '02:15'\n",
      " '16:55' '20:45' '05:15' '19:50' '20:00' '06:10' '19:30' '04:45' '12:55'\n",
      " '18:15' '17:20' '15:25' '23:00' '12:00' '14:45' '11:50' '11:30' '14:40'\n",
      " '19:10' '06:00' '23:30' '07:35' '13:05' '12:30' '15:10' '12:50' '18:25'\n",
      " '16:30' '00:40' '06:50' '13:00' '19:15' '01:30' '17:00' '10:00' '19:35'\n",
      " '15:30' '12:10' '16:10' '20:35' '22:25' '21:05' '05:35' '05:10' '06:40'\n",
      " '15:15' '00:30' '08:30' '07:10' '05:30' '14:25' '05:25' '10:20' '17:45'\n",
      " '13:10' '22:10' '04:55' '17:50' '21:20' '06:20' '15:55' '20:30' '17:25'\n",
      " '09:30' '07:30' '02:35' '10:55' '17:10' '09:10' '18:45' '15:20' '22:50'\n",
      " '14:55' '14:20' '13:25' '22:15' '11:05' '16:15' '20:10' '06:55' '19:05'\n",
      " '07:55' '07:45' '10:10' '08:15' '11:35' '21:00' '17:55' '16:45' '18:20'\n",
      " '03:50' '08:35' '19:20' '20:05' '17:40' '04:40' '17:35' '09:55' '05:00'\n",
      " '18:00' '02:55' '20:40' '22:55' '22:40' '21:30' '08:10' '17:05' '07:25'\n",
      " '15:45' '09:15' '15:50' '11:45' '22:05' '18:35' '00:25' '19:40' '20:50'\n",
      " '22:45' '10:30' '23:25' '11:55' '10:45' '11:15' '12:20' '14:30' '07:15'\n",
      " '01:35' '18:40' '09:20' '21:55' '13:50' '01:40' '00:20' '04:15' '13:45'\n",
      " '18:30' '06:15' '02:05' '12:15' '13:30' '06:35' '10:05' '08:40' '03:05'\n",
      " '21:35' '16:35' '02:30' '16:25' '05:40' '15:35' '13:40' '07:20' '04:50'\n",
      " '12:45' '10:25' '12:05' '11:20' '21:40' '03:00' '22:30']\n",
      "223\n"
     ]
    }
   ],
   "source": [
    "#6. Dep_Time\n",
    "print(df[\"Dep_Time\"].unique())\n",
    "print(df[\"Dep_Time\"].nunique())"
   ]
  },
  {
   "cell_type": "raw",
   "metadata": {
    "id": "2g6fLPvJnqD-"
   },
   "source": [
    "Observation:Divide the time into hour & Mins.\n",
    "We can classify the departure time into: Midnight, Morning, Afternoon, Night. Intervals of 6 hours. Then drop \"Dep_Time\"."
   ]
  },
  {
   "cell_type": "code",
   "execution_count": 30,
   "metadata": {
    "executionInfo": {
     "elapsed": 82,
     "status": "ok",
     "timestamp": 1625857238715,
     "user": {
      "displayName": "Akash Talwar",
      "photoUrl": "https://lh3.googleusercontent.com/a-/AOh14GhsGyfKUqb496jz_lKHO4lCUdAD6jrECtPc4YCoNA=s64",
      "userId": "00480072323501141751"
     },
     "user_tz": -330
    },
    "id": "AiTHElLYnqD-"
   },
   "outputs": [],
   "source": [
    "# Split the time into Hour & Mins\n",
    "df[\"Dep_hour\"],df[\"Dep_min\"]=df[\"Dep_Time\"].str.split(\":\",2).str"
   ]
  },
  {
   "cell_type": "code",
   "execution_count": 31,
   "metadata": {
    "colab": {
     "base_uri": "https://localhost:8080/"
    },
    "executionInfo": {
     "elapsed": 81,
     "status": "ok",
     "timestamp": 1625857238715,
     "user": {
      "displayName": "Akash Talwar",
      "photoUrl": "https://lh3.googleusercontent.com/a-/AOh14GhsGyfKUqb496jz_lKHO4lCUdAD6jrECtPc4YCoNA=s64",
      "userId": "00480072323501141751"
     },
     "user_tz": -330
    },
    "id": "o82-Wdx9nqD_",
    "outputId": "54fc1de3-36df-41f6-b13c-eed23d78d053"
   },
   "outputs": [
    {
     "data": {
      "text/plain": [
       "dtype('O')"
      ]
     },
     "execution_count": 31,
     "metadata": {
      "tags": []
     },
     "output_type": "execute_result"
    }
   ],
   "source": [
    "df[\"Dep_hour\"].dtype"
   ]
  },
  {
   "cell_type": "code",
   "execution_count": 32,
   "metadata": {
    "executionInfo": {
     "elapsed": 77,
     "status": "ok",
     "timestamp": 1625857238717,
     "user": {
      "displayName": "Akash Talwar",
      "photoUrl": "https://lh3.googleusercontent.com/a-/AOh14GhsGyfKUqb496jz_lKHO4lCUdAD6jrECtPc4YCoNA=s64",
      "userId": "00480072323501141751"
     },
     "user_tz": -330
    },
    "id": "walhht3QnqD_"
   },
   "outputs": [],
   "source": [
    "#Convert \"Dep_hour\" from str to int\n",
    "df[\"Dep_hour\"]=df[\"Dep_hour\"].astype(int)"
   ]
  },
  {
   "cell_type": "code",
   "execution_count": 33,
   "metadata": {
    "executionInfo": {
     "elapsed": 79,
     "status": "ok",
     "timestamp": 1625857238720,
     "user": {
      "displayName": "Akash Talwar",
      "photoUrl": "https://lh3.googleusercontent.com/a-/AOh14GhsGyfKUqb496jz_lKHO4lCUdAD6jrECtPc4YCoNA=s64",
      "userId": "00480072323501141751"
     },
     "user_tz": -330
    },
    "id": "eDxP0KmpnqEA"
   },
   "outputs": [],
   "source": [
    "#New feature extrated wrt \"Dep_hour\"\n",
    "df[\"time_day\"]=np.where((df[\"Dep_hour\"]>=0)&(df[\"Dep_hour\"]<6),\"Midnight\",\n",
    "                        np.where((df[\"Dep_hour\"]>=6)&(df[\"Dep_hour\"]<12),\"Morning\",\n",
    "                                 np.where((df[\"Dep_hour\"]>=12)&(df[\"Dep_hour\"]<18),\"Afternoon\",\"Night\")))"
   ]
  },
  {
   "cell_type": "code",
   "execution_count": 34,
   "metadata": {
    "colab": {
     "base_uri": "https://localhost:8080/"
    },
    "executionInfo": {
     "elapsed": 79,
     "status": "ok",
     "timestamp": 1625857238721,
     "user": {
      "displayName": "Akash Talwar",
      "photoUrl": "https://lh3.googleusercontent.com/a-/AOh14GhsGyfKUqb496jz_lKHO4lCUdAD6jrECtPc4YCoNA=s64",
      "userId": "00480072323501141751"
     },
     "user_tz": -330
    },
    "id": "L2lllE0onqEB",
    "outputId": "5c645dc6-4536-44aa-8789-763ce50ef031"
   },
   "outputs": [
    {
     "data": {
      "text/plain": [
       "Morning      5344\n",
       "Night        3389\n",
       "Afternoon    3272\n",
       "Midnight     1348\n",
       "Name: time_day, dtype: int64"
      ]
     },
     "execution_count": 34,
     "metadata": {
      "tags": []
     },
     "output_type": "execute_result"
    }
   ],
   "source": [
    "df[\"time_day\"].value_counts()"
   ]
  },
  {
   "cell_type": "code",
   "execution_count": 35,
   "metadata": {
    "executionInfo": {
     "elapsed": 74,
     "status": "ok",
     "timestamp": 1625857238722,
     "user": {
      "displayName": "Akash Talwar",
      "photoUrl": "https://lh3.googleusercontent.com/a-/AOh14GhsGyfKUqb496jz_lKHO4lCUdAD6jrECtPc4YCoNA=s64",
      "userId": "00480072323501141751"
     },
     "user_tz": -330
    },
    "id": "PmDqMg0ZnqEC"
   },
   "outputs": [],
   "source": [
    "#Drop columns: Dep_Time,Dep_hour,Dep_min \n",
    "df.drop(columns=[\"Dep_Time\",\"Dep_hour\",\"Dep_min\"],inplace=True)"
   ]
  },
  {
   "cell_type": "code",
   "execution_count": 36,
   "metadata": {
    "colab": {
     "base_uri": "https://localhost:8080/"
    },
    "executionInfo": {
     "elapsed": 74,
     "status": "ok",
     "timestamp": 1625857238723,
     "user": {
      "displayName": "Akash Talwar",
      "photoUrl": "https://lh3.googleusercontent.com/a-/AOh14GhsGyfKUqb496jz_lKHO4lCUdAD6jrECtPc4YCoNA=s64",
      "userId": "00480072323501141751"
     },
     "user_tz": -330
    },
    "id": "DZS7GD6tnqED",
    "outputId": "c57ace13-afad-47cf-9341-4f67b508990a"
   },
   "outputs": [
    {
     "name": "stdout",
     "output_type": "stream",
     "text": [
      "['01:10 22 Mar' '13:15' '04:25 10 Jun' ... '00:20 07 Mar' '00:20 02 Apr'\n",
      " '07:45 13 May']\n",
      "1451\n"
     ]
    }
   ],
   "source": [
    "#7 Arrival Time\n",
    "print(df[\"Arrival_Time\"].unique())\n",
    "print(df[\"Arrival_Time\"].nunique())"
   ]
  },
  {
   "cell_type": "raw",
   "metadata": {
    "id": "7de4CBgvnqEE"
   },
   "source": [
    "Observation: Convert the Arrival time into time format"
   ]
  },
  {
   "cell_type": "code",
   "execution_count": 37,
   "metadata": {
    "executionInfo": {
     "elapsed": 67,
     "status": "ok",
     "timestamp": 1625857238723,
     "user": {
      "displayName": "Akash Talwar",
      "photoUrl": "https://lh3.googleusercontent.com/a-/AOh14GhsGyfKUqb496jz_lKHO4lCUdAD6jrECtPc4YCoNA=s64",
      "userId": "00480072323501141751"
     },
     "user_tz": -330
    },
    "id": "n093yGMKnqEF"
   },
   "outputs": [],
   "source": [
    "#Convert \"Arrival_time\" into time format\n",
    "df[\"Arrival_Time\"],_=df[\"Arrival_Time\"].str.split(\" \",1).str"
   ]
  },
  {
   "cell_type": "code",
   "execution_count": 38,
   "metadata": {
    "colab": {
     "base_uri": "https://localhost:8080/"
    },
    "executionInfo": {
     "elapsed": 66,
     "status": "ok",
     "timestamp": 1625857238724,
     "user": {
      "displayName": "Akash Talwar",
      "photoUrl": "https://lh3.googleusercontent.com/a-/AOh14GhsGyfKUqb496jz_lKHO4lCUdAD6jrECtPc4YCoNA=s64",
      "userId": "00480072323501141751"
     },
     "user_tz": -330
    },
    "id": "0QbYRjqWnqEG",
    "outputId": "d7aad966-c64d-4024-a869-00f014cb12f6"
   },
   "outputs": [
    {
     "name": "stdout",
     "output_type": "stream",
     "text": [
      "['2h 50m' '7h 25m' '19h' '5h 25m' '4h 45m' '2h 25m' '15h 30m' '21h 5m'\n",
      " '25h 30m' '7h 50m' '13h 15m' '2h 35m' '2h 15m' '12h 10m' '26h 35m'\n",
      " '4h 30m' '22h 35m' '23h' '20h 35m' '5h 10m' '15h 20m' '2h 55m' '13h 20m'\n",
      " '15h 10m' '5h 45m' '5h 55m' '13h 25m' '22h' '5h 30m' '10h 25m' '5h 15m'\n",
      " '2h 30m' '6h 15m' '11h 55m' '11h 5m' '8h 30m' '22h 5m' '2h 45m' '12h'\n",
      " '16h 5m' '19h 55m' '3h 15m' '25h 20m' '3h' '16h 15m' '15h 5m' '6h 30m'\n",
      " '25h 5m' '12h 25m' '27h 20m' '10h 15m' '10h 30m' '1h 30m' '1h 25m'\n",
      " '26h 30m' '7h 20m' '13h 30m' '5h' '19h 5m' '14h 50m' '2h 40m' '22h 10m'\n",
      " '9h 35m' '10h' '21h 20m' '18h 45m' '12h 20m' '18h' '9h 15m' '17h 30m'\n",
      " '16h 35m' '12h 15m' '7h 30m' '24h' '8h 55m' '7h 10m' '14h 30m' '30h 20m'\n",
      " '15h' '12h 45m' '10h 10m' '15h 25m' '14h 5m' '20h 15m' '23h 10m'\n",
      " '18h 10m' '16h' '2h 20m' '8h' '16h 55m' '3h 10m' '14h' '23h 50m'\n",
      " '21h 40m' '21h 15m' '10h 50m' '8h 15m' '8h 35m' '11h 50m' '27h 35m'\n",
      " '8h 25m' '20h 55m' '4h 50m' '8h 10m' '24h 25m' '23h 35m' '25h 45m'\n",
      " '26h 10m' '28h 50m' '25h 15m' '9h 20m' '9h 10m' '3h 5m' '11h 30m'\n",
      " '9h 30m' '17h 35m' '5h 5m' '25h 50m' '20h' '13h' '18h 25m' '24h 10m'\n",
      " '4h 55m' '25h 35m' '6h 20m' '18h 40m' '19h 25m' '29h 20m' '9h 5m'\n",
      " '10h 45m' '11h 40m' '22h 55m' '37h 25m' '25h 40m' '13h 55m' '8h 40m'\n",
      " '23h 30m' '12h 35m' '24h 15m' '1h 20m' '11h' '11h 15m' '14h 35m'\n",
      " '12h 55m' '9h' '7h 40m' '11h 45m' '24h 55m' '17h 5m' '29h 55m' '22h 15m'\n",
      " '14h 40m' '7h 15m' '20h 10m' '20h 45m' '27h' '24h 30m' '20h 25m' '5h 35m'\n",
      " '14h 45m' '5h 40m' '4h 5m' '15h 55m' '7h 45m' '28h 20m' '4h 20m' '3h 40m'\n",
      " '8h 50m' '23h 45m' '24h 45m' '21h 35m' '8h 5m' '6h 25m' '15h 50m'\n",
      " '26h 25m' '24h 50m' '26h' '23h 5m' '7h 55m' '26h 20m' '23h 15m' '5h 20m'\n",
      " '4h' '9h 45m' '8h 20m' '17h 25m' '7h 5m' '34h 5m' '6h 5m' '5h 50m' '7h'\n",
      " '4h 25m' '13h 45m' '19h 15m' '22h 30m' '16h 25m' '13h 50m' '27h 5m'\n",
      " '28h 10m' '4h 40m' '15h 40m' '4h 35m' '18h 30m' '38h 15m' '6h 35m'\n",
      " '12h 30m' '11h 20m' '7h 35m' '29h 35m' '26h 55m' '23h 40m' '12h 50m'\n",
      " '9h 50m' '21h 55m' '10h 55m' '21h 10m' '20h 40m' '30h' '13h 10m' '8h 45m'\n",
      " '6h 10m' '17h 45m' '21h 45m' '3h 55m' '17h 20m' '30h 30m' '21h 25m'\n",
      " '12h 40m' '24h 35m' '19h 10m' '22h 40m' '14h 55m' '21h' '6h 45m'\n",
      " '28h 40m' '9h 40m' '16h 40m' '16h 20m' '16h 45m' '1h 15m' '6h 55m'\n",
      " '11h 25m' '14h 20m' '12h 5m' '24h 5m' '28h 15m' '17h 50m' '20h 20m'\n",
      " '28h 5m' '10h 20m' '14h 15m' '35h 15m' '35h 35m' '26h 40m' '28h'\n",
      " '14h 25m' '13h 5m' '37h 20m' '36h 10m' '25h 55m' '35h 5m' '19h 45m'\n",
      " '27h 55m' '47h' '10h 35m' '1h 35m' '16h 10m' '38h 20m' '6h' '16h 50m'\n",
      " '14h 10m' '23h 20m' '17h 40m' '11h 35m' '18h 20m' '6h 40m' '30h 55m'\n",
      " '24h 40m' '29h 50m' '28h 25m' '17h 15m' '22h 45m' '25h 25m' '21h 50m'\n",
      " '33h 15m' '30h 15m' '3h 35m' '27h 40m' '30h 25m' '18h 50m' '27h 45m'\n",
      " '15h 15m' '10h 40m' '26h 15m' '36h 25m' '26h 50m' '15h 45m' '19h 40m'\n",
      " '22h 25m' '19h 35m' '25h' '26h 45m' '38h' '4h 15m' '25h 10m' '18h 15m'\n",
      " '6h 50m' '23h 55m' '17h 55m' '23h 25m' '17h 10m' '24h 20m' '28h 30m'\n",
      " '27h 10m' '19h 20m' '15h 35m' '9h 25m' '21h 30m' '34h 25m' '18h 35m'\n",
      " '29h 40m' '26h 5m' '29h 5m' '27h 25m' '16h 30m' '11h 10m' '28h 55m'\n",
      " '29h 10m' '34h' '30h 40m' '30h 45m' '32h 55m' '10h 5m' '35h 20m' '32h 5m'\n",
      " '31h 40m' '19h 50m' '33h 45m' '30h 10m' '13h 40m' '19h 30m' '31h 30m'\n",
      " '34h 30m' '27h 50m' '38h 35m' '42h 5m' '4h 10m' '39h 5m' '3h 50m' '5m'\n",
      " '32h 30m' '31h 55m' '33h 20m' '27h 30m' '18h 55m' '9h 55m' '41h 20m'\n",
      " '20h 5m' '31h 50m' '42h 45m' '3h 25m' '37h 10m' '29h 30m' '32h 20m'\n",
      " '20h 50m' '40h 20m' '13h 35m' '47h 40m' '20h 30m' '3h 45m' '31h 10m'\n",
      " '40h 40m' '22h 50m' '32h 25m']\n",
      "374\n"
     ]
    }
   ],
   "source": [
    "#8. Duration\n",
    "print(df[\"Duration\"].unique())\n",
    "print(df[\"Duration\"].nunique())"
   ]
  },
  {
   "cell_type": "raw",
   "metadata": {
    "id": "AUovSQuvnqEH"
   },
   "source": [
    "Observation: Split the duration into seperate columns Duration_hr & Duration_min"
   ]
  },
  {
   "cell_type": "code",
   "execution_count": 39,
   "metadata": {
    "executionInfo": {
     "elapsed": 61,
     "status": "ok",
     "timestamp": 1625857238725,
     "user": {
      "displayName": "Akash Talwar",
      "photoUrl": "https://lh3.googleusercontent.com/a-/AOh14GhsGyfKUqb496jz_lKHO4lCUdAD6jrECtPc4YCoNA=s64",
      "userId": "00480072323501141751"
     },
     "user_tz": -330
    },
    "id": "xjsD4EuunqEI"
   },
   "outputs": [],
   "source": [
    "#Split \"Duration\" in to \"Duration_hr\" & \"Duration_min\"\n",
    "df[\"Duration_hr\"],df[\"Duration_min\"]=df[\"Duration\"].str.split(\" \",2).str"
   ]
  },
  {
   "cell_type": "code",
   "execution_count": 40,
   "metadata": {
    "colab": {
     "base_uri": "https://localhost:8080/"
    },
    "executionInfo": {
     "elapsed": 61,
     "status": "ok",
     "timestamp": 1625857238726,
     "user": {
      "displayName": "Akash Talwar",
      "photoUrl": "https://lh3.googleusercontent.com/a-/AOh14GhsGyfKUqb496jz_lKHO4lCUdAD6jrECtPc4YCoNA=s64",
      "userId": "00480072323501141751"
     },
     "user_tz": -330
    },
    "id": "G3m5fH--nqEJ",
    "outputId": "ed931886-c378-42de-ee51-527ecad76484"
   },
   "outputs": [
    {
     "name": "stdout",
     "output_type": "stream",
     "text": [
      "['2h' '7h' '19h' '5h' '4h' '15h' '21h' '25h' '13h' '12h' '26h' '22h' '23h'\n",
      " '20h' '10h' '6h' '11h' '8h' '16h' '3h' '27h' '1h' '14h' '9h' '18h' '17h'\n",
      " '24h' '30h' '28h' '29h' '37h' '34h' '38h' '35h' '36h' '47h' '33h' '32h'\n",
      " '31h' '42h' '39h' '5m' '41h' '40h']\n",
      "44\n"
     ]
    }
   ],
   "source": [
    "#Check new columns\n",
    "print(df[\"Duration_hr\"].unique())\n",
    "print(df[\"Duration_hr\"].nunique())"
   ]
  },
  {
   "cell_type": "code",
   "execution_count": 41,
   "metadata": {
    "colab": {
     "base_uri": "https://localhost:8080/"
    },
    "executionInfo": {
     "elapsed": 52,
     "status": "ok",
     "timestamp": 1625857238727,
     "user": {
      "displayName": "Akash Talwar",
      "photoUrl": "https://lh3.googleusercontent.com/a-/AOh14GhsGyfKUqb496jz_lKHO4lCUdAD6jrECtPc4YCoNA=s64",
      "userId": "00480072323501141751"
     },
     "user_tz": -330
    },
    "id": "KSbt6I5JnqEK",
    "outputId": "73b62e72-5371-4077-f485-4dc584099a89"
   },
   "outputs": [
    {
     "name": "stdout",
     "output_type": "stream",
     "text": [
      "['2' '7' '19' '5' '4' '15' '21' '25' '13' '12' '26' '22' '23' '20' '10'\n",
      " '6' '11' '8' '16' '3' '27' '1' '14' '9' '18' '17' '24' '30' '28' '29'\n",
      " '37' '34' '38' '35' '36' '47' '33' '32' '31' '42' '39' '41' '40']\n"
     ]
    }
   ],
   "source": [
    "#Remove 'h' & 'm' from \"Duration_hr\"\n",
    "df[\"Duration_hr\"]=df[\"Duration_hr\"].str.replace(\"h\",\"\").str.replace(\"m\",\"\")\n",
    "print(df[\"Duration_hr\"].unique())"
   ]
  },
  {
   "cell_type": "code",
   "execution_count": 42,
   "metadata": {
    "colab": {
     "base_uri": "https://localhost:8080/"
    },
    "executionInfo": {
     "elapsed": 48,
     "status": "ok",
     "timestamp": 1625857238728,
     "user": {
      "displayName": "Akash Talwar",
      "photoUrl": "https://lh3.googleusercontent.com/a-/AOh14GhsGyfKUqb496jz_lKHO4lCUdAD6jrECtPc4YCoNA=s64",
      "userId": "00480072323501141751"
     },
     "user_tz": -330
    },
    "id": "-DokcAAJnqEL",
    "outputId": "88782272-d2e6-41fc-9aab-63ebfc6918a7"
   },
   "outputs": [
    {
     "name": "stdout",
     "output_type": "stream",
     "text": [
      "['50m' '25m' nan '45m' '30m' '5m' '15m' '35m' '10m' '20m' '55m' '40m']\n",
      "11\n"
     ]
    }
   ],
   "source": [
    "#Check column\n",
    "print(df[\"Duration_min\"].unique())\n",
    "print(df[\"Duration_min\"].nunique())"
   ]
  },
  {
   "cell_type": "code",
   "execution_count": 43,
   "metadata": {
    "colab": {
     "base_uri": "https://localhost:8080/"
    },
    "executionInfo": {
     "elapsed": 42,
     "status": "ok",
     "timestamp": 1625857238728,
     "user": {
      "displayName": "Akash Talwar",
      "photoUrl": "https://lh3.googleusercontent.com/a-/AOh14GhsGyfKUqb496jz_lKHO4lCUdAD6jrECtPc4YCoNA=s64",
      "userId": "00480072323501141751"
     },
     "user_tz": -330
    },
    "id": "P93XATX2nqEM",
    "outputId": "69140604-5627-4eff-b50a-439098895ded"
   },
   "outputs": [
    {
     "name": "stdout",
     "output_type": "stream",
     "text": [
      "['50' '25' nan '45' '30' '5' '15' '35' '10' '20' '55' '40']\n"
     ]
    }
   ],
   "source": [
    "#Remove 'm' from \"Duration_min\"\n",
    "df[\"Duration_min\"]=df[\"Duration_min\"].str.replace(\"m\",\"\")\n",
    "print(df[\"Duration_min\"].unique())"
   ]
  },
  {
   "cell_type": "code",
   "execution_count": 44,
   "metadata": {
    "colab": {
     "base_uri": "https://localhost:8080/"
    },
    "executionInfo": {
     "elapsed": 409,
     "status": "ok",
     "timestamp": 1625857239100,
     "user": {
      "displayName": "Akash Talwar",
      "photoUrl": "https://lh3.googleusercontent.com/a-/AOh14GhsGyfKUqb496jz_lKHO4lCUdAD6jrECtPc4YCoNA=s64",
      "userId": "00480072323501141751"
     },
     "user_tz": -330
    },
    "id": "tIZzi3oOnqEN",
    "outputId": "fe2d33ca-085d-49ef-a7b0-a04997986961"
   },
   "outputs": [
    {
     "data": {
      "text/plain": [
       "1286"
      ]
     },
     "execution_count": 44,
     "metadata": {
      "tags": []
     },
     "output_type": "execute_result"
    }
   ],
   "source": [
    "#Check null values in \"Duration_min\"\n",
    "df[\"Duration_min\"].isnull().sum()"
   ]
  },
  {
   "cell_type": "code",
   "execution_count": 45,
   "metadata": {
    "colab": {
     "base_uri": "https://localhost:8080/"
    },
    "executionInfo": {
     "elapsed": 20,
     "status": "ok",
     "timestamp": 1625857239102,
     "user": {
      "displayName": "Akash Talwar",
      "photoUrl": "https://lh3.googleusercontent.com/a-/AOh14GhsGyfKUqb496jz_lKHO4lCUdAD6jrECtPc4YCoNA=s64",
      "userId": "00480072323501141751"
     },
     "user_tz": -330
    },
    "id": "2K5hKyxRnqEO",
    "outputId": "b6aa53d1-f235-41e1-bae9-bcd89fbfdb61"
   },
   "outputs": [
    {
     "data": {
      "text/plain": [
       "0"
      ]
     },
     "execution_count": 45,
     "metadata": {
      "tags": []
     },
     "output_type": "execute_result"
    }
   ],
   "source": [
    "#Fill null values by 0\n",
    "df[\"Duration_min\"].fillna(\"0\",axis=0,inplace=True)\n",
    "df[\"Duration_min\"].isnull().sum()"
   ]
  },
  {
   "cell_type": "code",
   "execution_count": 46,
   "metadata": {
    "executionInfo": {
     "elapsed": 2002,
     "status": "ok",
     "timestamp": 1625857241091,
     "user": {
      "displayName": "Akash Talwar",
      "photoUrl": "https://lh3.googleusercontent.com/a-/AOh14GhsGyfKUqb496jz_lKHO4lCUdAD6jrECtPc4YCoNA=s64",
      "userId": "00480072323501141751"
     },
     "user_tz": -330
    },
    "id": "-bFcJ3BmnqEP"
   },
   "outputs": [],
   "source": [
    "#Convert \"Duration_mins\" in terms of decimal by dividing each element by 60mins\n",
    "df[\"Duration_min\"]=df[\"Duration_min\"].astype(float)\n",
    "for i in range(df[\"Duration_min\"].count()):\n",
    "    df[\"Duration_min\"].iloc[i]=(df[\"Duration_min\"].iloc[i]/60)  "
   ]
  },
  {
   "cell_type": "code",
   "execution_count": 47,
   "metadata": {
    "executionInfo": {
     "elapsed": 60,
     "status": "ok",
     "timestamp": 1625857241093,
     "user": {
      "displayName": "Akash Talwar",
      "photoUrl": "https://lh3.googleusercontent.com/a-/AOh14GhsGyfKUqb496jz_lKHO4lCUdAD6jrECtPc4YCoNA=s64",
      "userId": "00480072323501141751"
     },
     "user_tz": -330
    },
    "id": "ZNDmM1xTnqEP"
   },
   "outputs": [],
   "source": [
    "df[\"Duration_hr\"]=df[\"Duration_hr\"].astype(float)"
   ]
  },
  {
   "cell_type": "code",
   "execution_count": 48,
   "metadata": {
    "executionInfo": {
     "elapsed": 64,
     "status": "ok",
     "timestamp": 1625857241099,
     "user": {
      "displayName": "Akash Talwar",
      "photoUrl": "https://lh3.googleusercontent.com/a-/AOh14GhsGyfKUqb496jz_lKHO4lCUdAD6jrECtPc4YCoNA=s64",
      "userId": "00480072323501141751"
     },
     "user_tz": -330
    },
    "id": "y-vUxLPdnqEQ"
   },
   "outputs": [],
   "source": [
    "#New feature \"travel duration\" can be created by adding \"Duration_hr\" & \"Duration_min\"\n",
    "df[\"travel_duration\"]=df[\"Duration_hr\"]+df[\"Duration_min\"]"
   ]
  },
  {
   "cell_type": "code",
   "execution_count": 49,
   "metadata": {
    "colab": {
     "base_uri": "https://localhost:8080/"
    },
    "executionInfo": {
     "elapsed": 65,
     "status": "ok",
     "timestamp": 1625857241103,
     "user": {
      "displayName": "Akash Talwar",
      "photoUrl": "https://lh3.googleusercontent.com/a-/AOh14GhsGyfKUqb496jz_lKHO4lCUdAD6jrECtPc4YCoNA=s64",
      "userId": "00480072323501141751"
     },
     "user_tz": -330
    },
    "id": "UeQs25yrnqER",
    "outputId": "09a86c73-7fe4-422d-ea3a-b8405e816f6e"
   },
   "outputs": [
    {
     "data": {
      "text/plain": [
       "0"
      ]
     },
     "execution_count": 49,
     "metadata": {
      "tags": []
     },
     "output_type": "execute_result"
    }
   ],
   "source": [
    "df[\"travel_duration\"].isnull().sum()"
   ]
  },
  {
   "cell_type": "code",
   "execution_count": 50,
   "metadata": {
    "executionInfo": {
     "elapsed": 64,
     "status": "ok",
     "timestamp": 1625857241106,
     "user": {
      "displayName": "Akash Talwar",
      "photoUrl": "https://lh3.googleusercontent.com/a-/AOh14GhsGyfKUqb496jz_lKHO4lCUdAD6jrECtPc4YCoNA=s64",
      "userId": "00480072323501141751"
     },
     "user_tz": -330
    },
    "id": "19-1qKk2nqER"
   },
   "outputs": [],
   "source": [
    "#As we have extracted the travel duration in numeric form, we can drop \"Duration_hr\",\"Duration_min\",\"Duration\"\n",
    "df.drop(columns=[\"Duration_hr\",\"Duration_min\",\"Duration\"],inplace=True)"
   ]
  },
  {
   "cell_type": "code",
   "execution_count": 51,
   "metadata": {
    "colab": {
     "base_uri": "https://localhost:8080/",
     "height": 111
    },
    "executionInfo": {
     "elapsed": 65,
     "status": "ok",
     "timestamp": 1625857241109,
     "user": {
      "displayName": "Akash Talwar",
      "photoUrl": "https://lh3.googleusercontent.com/a-/AOh14GhsGyfKUqb496jz_lKHO4lCUdAD6jrECtPc4YCoNA=s64",
      "userId": "00480072323501141751"
     },
     "user_tz": -330
    },
    "id": "28XsEcI8nqES",
    "outputId": "1499e8b4-607a-46c7-cb9b-5687016c9a4c"
   },
   "outputs": [
    {
     "data": {
      "text/html": [
       "<div>\n",
       "<style scoped>\n",
       "    .dataframe tbody tr th:only-of-type {\n",
       "        vertical-align: middle;\n",
       "    }\n",
       "\n",
       "    .dataframe tbody tr th {\n",
       "        vertical-align: top;\n",
       "    }\n",
       "\n",
       "    .dataframe thead th {\n",
       "        text-align: right;\n",
       "    }\n",
       "</style>\n",
       "<table border=\"1\" class=\"dataframe\">\n",
       "  <thead>\n",
       "    <tr style=\"text-align: right;\">\n",
       "      <th></th>\n",
       "      <th>Price</th>\n",
       "      <th>travel_duration</th>\n",
       "    </tr>\n",
       "  </thead>\n",
       "  <tbody>\n",
       "    <tr>\n",
       "      <th>Price</th>\n",
       "      <td>1.000000</td>\n",
       "      <td>0.506604</td>\n",
       "    </tr>\n",
       "    <tr>\n",
       "      <th>travel_duration</th>\n",
       "      <td>0.506604</td>\n",
       "      <td>1.000000</td>\n",
       "    </tr>\n",
       "  </tbody>\n",
       "</table>\n",
       "</div>"
      ],
      "text/plain": [
       "                    Price  travel_duration\n",
       "Price            1.000000         0.506604\n",
       "travel_duration  0.506604         1.000000"
      ]
     },
     "execution_count": 51,
     "metadata": {
      "tags": []
     },
     "output_type": "execute_result"
    }
   ],
   "source": [
    "#Check correlation between price & travel duration\n",
    "df.corr()"
   ]
  },
  {
   "cell_type": "code",
   "execution_count": 52,
   "metadata": {
    "colab": {
     "base_uri": "https://localhost:8080/"
    },
    "executionInfo": {
     "elapsed": 63,
     "status": "ok",
     "timestamp": 1625857241110,
     "user": {
      "displayName": "Akash Talwar",
      "photoUrl": "https://lh3.googleusercontent.com/a-/AOh14GhsGyfKUqb496jz_lKHO4lCUdAD6jrECtPc4YCoNA=s64",
      "userId": "00480072323501141751"
     },
     "user_tz": -330
    },
    "id": "vlXGW7aQnqET",
    "outputId": "62948029-4426-4e0c-8767-b5b0e888d7a3"
   },
   "outputs": [
    {
     "name": "stdout",
     "output_type": "stream",
     "text": [
      "['non-stop' '2 stops' '1 stop' '3 stops' '4 stops']\n",
      "5\n"
     ]
    }
   ],
   "source": [
    "#9 Total_stops\n",
    "print(df[\"Total_Stops\"].unique())\n",
    "print(df[\"Total_Stops\"].nunique())"
   ]
  },
  {
   "cell_type": "code",
   "execution_count": 53,
   "metadata": {
    "executionInfo": {
     "elapsed": 57,
     "status": "ok",
     "timestamp": 1625857241113,
     "user": {
      "displayName": "Akash Talwar",
      "photoUrl": "https://lh3.googleusercontent.com/a-/AOh14GhsGyfKUqb496jz_lKHO4lCUdAD6jrECtPc4YCoNA=s64",
      "userId": "00480072323501141751"
     },
     "user_tz": -330
    },
    "id": "nVSiUZ-unqET"
   },
   "outputs": [],
   "source": [
    "#Split column\n",
    "df[\"Total_Stops\"],df[\"dummy\"]=df[\"Total_Stops\"].str.split(\" \",2).str"
   ]
  },
  {
   "cell_type": "code",
   "execution_count": 54,
   "metadata": {
    "executionInfo": {
     "elapsed": 61,
     "status": "ok",
     "timestamp": 1625857241118,
     "user": {
      "displayName": "Akash Talwar",
      "photoUrl": "https://lh3.googleusercontent.com/a-/AOh14GhsGyfKUqb496jz_lKHO4lCUdAD6jrECtPc4YCoNA=s64",
      "userId": "00480072323501141751"
     },
     "user_tz": -330
    },
    "id": "EPbcitLFnqEU"
   },
   "outputs": [],
   "source": [
    "#Drop dummy column\n",
    "df.drop(columns=['dummy'],inplace=True)"
   ]
  },
  {
   "cell_type": "code",
   "execution_count": 55,
   "metadata": {
    "colab": {
     "base_uri": "https://localhost:8080/"
    },
    "executionInfo": {
     "elapsed": 65,
     "status": "ok",
     "timestamp": 1625857241123,
     "user": {
      "displayName": "Akash Talwar",
      "photoUrl": "https://lh3.googleusercontent.com/a-/AOh14GhsGyfKUqb496jz_lKHO4lCUdAD6jrECtPc4YCoNA=s64",
      "userId": "00480072323501141751"
     },
     "user_tz": -330
    },
    "id": "S-ICfV-jnqEV",
    "outputId": "febcf390-9688-4846-a869-11b8bfc338db"
   },
   "outputs": [
    {
     "name": "stdout",
     "output_type": "stream",
     "text": [
      "['non-stop' '2' '1' '3' '4']\n"
     ]
    }
   ],
   "source": [
    "#Check unique value in column\n",
    "print(df[\"Total_Stops\"].unique())"
   ]
  },
  {
   "cell_type": "code",
   "execution_count": 56,
   "metadata": {
    "colab": {
     "base_uri": "https://localhost:8080/"
    },
    "executionInfo": {
     "elapsed": 58,
     "status": "ok",
     "timestamp": 1625857241124,
     "user": {
      "displayName": "Akash Talwar",
      "photoUrl": "https://lh3.googleusercontent.com/a-/AOh14GhsGyfKUqb496jz_lKHO4lCUdAD6jrECtPc4YCoNA=s64",
      "userId": "00480072323501141751"
     },
     "user_tz": -330
    },
    "id": "1W5KuHpNnqEW",
    "outputId": "d1b04e87-5c20-41f6-b019-0fe84fd4d305"
   },
   "outputs": [
    {
     "data": {
      "text/plain": [
       "1           7056\n",
       "non-stop    4340\n",
       "2           1899\n",
       "3             56\n",
       "4              2\n",
       "Name: Total_Stops, dtype: int64"
      ]
     },
     "execution_count": 56,
     "metadata": {
      "tags": []
     },
     "output_type": "execute_result"
    }
   ],
   "source": [
    "#Check values in column\n",
    "df[\"Total_Stops\"].value_counts()"
   ]
  },
  {
   "cell_type": "code",
   "execution_count": 57,
   "metadata": {
    "colab": {
     "base_uri": "https://localhost:8080/"
    },
    "executionInfo": {
     "elapsed": 1096,
     "status": "ok",
     "timestamp": 1625857242169,
     "user": {
      "displayName": "Akash Talwar",
      "photoUrl": "https://lh3.googleusercontent.com/a-/AOh14GhsGyfKUqb496jz_lKHO4lCUdAD6jrECtPc4YCoNA=s64",
      "userId": "00480072323501141751"
     },
     "user_tz": -330
    },
    "id": "6kZE_M83nqEW",
    "outputId": "9b3ec211-5c57-4e05-b803-5ebfe92ebb46"
   },
   "outputs": [
    {
     "data": {
      "text/plain": [
       "1    7056\n",
       "0    4340\n",
       "2    1899\n",
       "3      56\n",
       "4       2\n",
       "Name: Total_Stops, dtype: int64"
      ]
     },
     "execution_count": 57,
     "metadata": {
      "tags": []
     },
     "output_type": "execute_result"
    }
   ],
   "source": [
    "# Replace non-stop as 0.\n",
    "for i in range(df[\"Total_Stops\"].count()):\n",
    "    if df[\"Total_Stops\"].iloc[i] == 'non-stop':\n",
    "        df[\"Total_Stops\"].iloc[i]=\"0\"\n",
    "df[\"Total_Stops\"].value_counts()      "
   ]
  },
  {
   "cell_type": "code",
   "execution_count": 58,
   "metadata": {
    "executionInfo": {
     "elapsed": 85,
     "status": "ok",
     "timestamp": 1625857242176,
     "user": {
      "displayName": "Akash Talwar",
      "photoUrl": "https://lh3.googleusercontent.com/a-/AOh14GhsGyfKUqb496jz_lKHO4lCUdAD6jrECtPc4YCoNA=s64",
      "userId": "00480072323501141751"
     },
     "user_tz": -330
    },
    "id": "CJqqsFsQnqEX"
   },
   "outputs": [],
   "source": [
    "#Convert value from str to int\n",
    "df[\"Total_Stops\"]=df[\"Total_Stops\"].astype(int)"
   ]
  },
  {
   "cell_type": "code",
   "execution_count": 59,
   "metadata": {
    "colab": {
     "base_uri": "https://localhost:8080/"
    },
    "executionInfo": {
     "elapsed": 84,
     "status": "ok",
     "timestamp": 1625857242178,
     "user": {
      "displayName": "Akash Talwar",
      "photoUrl": "https://lh3.googleusercontent.com/a-/AOh14GhsGyfKUqb496jz_lKHO4lCUdAD6jrECtPc4YCoNA=s64",
      "userId": "00480072323501141751"
     },
     "user_tz": -330
    },
    "id": "7fWN3oJgnqEY",
    "outputId": "66eff455-95d8-4fc0-d21d-523704f8ec62"
   },
   "outputs": [
    {
     "data": {
      "text/plain": [
       "1    7056\n",
       "0    4340\n",
       "2    1899\n",
       "3      56\n",
       "4       2\n",
       "Name: Total_Stops, dtype: int64"
      ]
     },
     "execution_count": 59,
     "metadata": {
      "tags": []
     },
     "output_type": "execute_result"
    }
   ],
   "source": [
    "df[\"Total_Stops\"].value_counts()"
   ]
  },
  {
   "cell_type": "code",
   "execution_count": 60,
   "metadata": {
    "colab": {
     "base_uri": "https://localhost:8080/",
     "height": 142
    },
    "executionInfo": {
     "elapsed": 79,
     "status": "ok",
     "timestamp": 1625857242182,
     "user": {
      "displayName": "Akash Talwar",
      "photoUrl": "https://lh3.googleusercontent.com/a-/AOh14GhsGyfKUqb496jz_lKHO4lCUdAD6jrECtPc4YCoNA=s64",
      "userId": "00480072323501141751"
     },
     "user_tz": -330
    },
    "id": "Vb8pgYornqEZ",
    "outputId": "6599f863-96e8-4bdb-bf1b-f8a58760f699"
   },
   "outputs": [
    {
     "data": {
      "text/html": [
       "<div>\n",
       "<style scoped>\n",
       "    .dataframe tbody tr th:only-of-type {\n",
       "        vertical-align: middle;\n",
       "    }\n",
       "\n",
       "    .dataframe tbody tr th {\n",
       "        vertical-align: top;\n",
       "    }\n",
       "\n",
       "    .dataframe thead th {\n",
       "        text-align: right;\n",
       "    }\n",
       "</style>\n",
       "<table border=\"1\" class=\"dataframe\">\n",
       "  <thead>\n",
       "    <tr style=\"text-align: right;\">\n",
       "      <th></th>\n",
       "      <th>Total_Stops</th>\n",
       "      <th>Price</th>\n",
       "      <th>travel_duration</th>\n",
       "    </tr>\n",
       "  </thead>\n",
       "  <tbody>\n",
       "    <tr>\n",
       "      <th>Total_Stops</th>\n",
       "      <td>1.000000</td>\n",
       "      <td>0.603897</td>\n",
       "      <td>0.737136</td>\n",
       "    </tr>\n",
       "    <tr>\n",
       "      <th>Price</th>\n",
       "      <td>0.603897</td>\n",
       "      <td>1.000000</td>\n",
       "      <td>0.506604</td>\n",
       "    </tr>\n",
       "    <tr>\n",
       "      <th>travel_duration</th>\n",
       "      <td>0.737136</td>\n",
       "      <td>0.506604</td>\n",
       "      <td>1.000000</td>\n",
       "    </tr>\n",
       "  </tbody>\n",
       "</table>\n",
       "</div>"
      ],
      "text/plain": [
       "                 Total_Stops     Price  travel_duration\n",
       "Total_Stops         1.000000  0.603897         0.737136\n",
       "Price               0.603897  1.000000         0.506604\n",
       "travel_duration     0.737136  0.506604         1.000000"
      ]
     },
     "execution_count": 60,
     "metadata": {
      "tags": []
     },
     "output_type": "execute_result"
    }
   ],
   "source": [
    "df.corr()\n",
    "#Price has good correlation with total_stops & travlel_duration\n",
    "#total_stops & travlel_duration are well correlated among eachother"
   ]
  },
  {
   "cell_type": "code",
   "execution_count": 61,
   "metadata": {
    "colab": {
     "base_uri": "https://localhost:8080/"
    },
    "executionInfo": {
     "elapsed": 80,
     "status": "ok",
     "timestamp": 1625857242186,
     "user": {
      "displayName": "Akash Talwar",
      "photoUrl": "https://lh3.googleusercontent.com/a-/AOh14GhsGyfKUqb496jz_lKHO4lCUdAD6jrECtPc4YCoNA=s64",
      "userId": "00480072323501141751"
     },
     "user_tz": -330
    },
    "id": "UczSUblanqEZ",
    "outputId": "44325f54-1c64-4ba9-aa49-187a88058c78"
   },
   "outputs": [
    {
     "name": "stdout",
     "output_type": "stream",
     "text": [
      "['No info' 'In-flight meal not included' 'No check-in baggage included'\n",
      " '1 Short layover' 'No Info' '1 Long layover' 'Change airports'\n",
      " 'Business class' 'Red-eye flight' '2 Long layover']\n",
      "10\n"
     ]
    }
   ],
   "source": [
    "#10. Additional_Info\n",
    "print(df[\"Additional_Info\"].unique())\n",
    "print(df[\"Additional_Info\"].nunique())"
   ]
  },
  {
   "cell_type": "code",
   "execution_count": 62,
   "metadata": {
    "colab": {
     "base_uri": "https://localhost:8080/"
    },
    "executionInfo": {
     "elapsed": 73,
     "status": "ok",
     "timestamp": 1625857242188,
     "user": {
      "displayName": "Akash Talwar",
      "photoUrl": "https://lh3.googleusercontent.com/a-/AOh14GhsGyfKUqb496jz_lKHO4lCUdAD6jrECtPc4YCoNA=s64",
      "userId": "00480072323501141751"
     },
     "user_tz": -330
    },
    "id": "fhvEqz_snqEa",
    "outputId": "9943153c-b944-44f8-a481-5c795c6e5be8"
   },
   "outputs": [
    {
     "data": {
      "text/plain": [
       "No info                         10492\n",
       "In-flight meal not included      2426\n",
       "No check-in baggage included      396\n",
       "1 Long layover                     20\n",
       "Change airports                     8\n",
       "Business class                      5\n",
       "No Info                             3\n",
       "1 Short layover                     1\n",
       "Red-eye flight                      1\n",
       "2 Long layover                      1\n",
       "Name: Additional_Info, dtype: int64"
      ]
     },
     "execution_count": 62,
     "metadata": {
      "tags": []
     },
     "output_type": "execute_result"
    }
   ],
   "source": [
    "#There are two identical values \"No info\" & \"No Info\"\n",
    "df[\"Additional_Info\"].value_counts()"
   ]
  },
  {
   "cell_type": "code",
   "execution_count": 63,
   "metadata": {
    "colab": {
     "base_uri": "https://localhost:8080/"
    },
    "executionInfo": {
     "elapsed": 68,
     "status": "ok",
     "timestamp": 1625857242190,
     "user": {
      "displayName": "Akash Talwar",
      "photoUrl": "https://lh3.googleusercontent.com/a-/AOh14GhsGyfKUqb496jz_lKHO4lCUdAD6jrECtPc4YCoNA=s64",
      "userId": "00480072323501141751"
     },
     "user_tz": -330
    },
    "id": "y3z9hOntnqEb",
    "outputId": "cac3e81c-498d-4bbe-fcba-66d0e0aed107"
   },
   "outputs": [
    {
     "data": {
      "text/plain": [
       "No info                         10495\n",
       "In-flight meal not included      2426\n",
       "No check-in baggage included      396\n",
       "1 Long layover                     20\n",
       "Change airports                     8\n",
       "Business class                      5\n",
       "1 Short layover                     1\n",
       "Red-eye flight                      1\n",
       "2 Long layover                      1\n",
       "Name: Additional_Info, dtype: int64"
      ]
     },
     "execution_count": 63,
     "metadata": {
      "tags": []
     },
     "output_type": "execute_result"
    }
   ],
   "source": [
    "df[\"Additional_Info\"]=df[\"Additional_Info\"].str.replace(\"No Info\",\"No info\")\n",
    "df[\"Additional_Info\"].value_counts()"
   ]
  },
  {
   "cell_type": "code",
   "execution_count": 64,
   "metadata": {
    "colab": {
     "base_uri": "https://localhost:8080/"
    },
    "executionInfo": {
     "elapsed": 62,
     "status": "ok",
     "timestamp": 1625857242192,
     "user": {
      "displayName": "Akash Talwar",
      "photoUrl": "https://lh3.googleusercontent.com/a-/AOh14GhsGyfKUqb496jz_lKHO4lCUdAD6jrECtPc4YCoNA=s64",
      "userId": "00480072323501141751"
     },
     "user_tz": -330
    },
    "id": "12FDokADnqEc",
    "outputId": "fdd295df-1f35-4f05-98de-a99c3d0a77ef"
   },
   "outputs": [
    {
     "name": "stdout",
     "output_type": "stream",
     "text": [
      "['No info' 'In-flight meal not included' 'No check-in baggage included'\n",
      " '1 Short layover' '1 Long layover' 'Change airports' 'Business class'\n",
      " 'Red-eye flight' '2 Long layover']\n",
      "9\n"
     ]
    }
   ],
   "source": [
    "print(df[\"Additional_Info\"].unique())\n",
    "print(df[\"Additional_Info\"].nunique())"
   ]
  },
  {
   "cell_type": "code",
   "execution_count": 65,
   "metadata": {
    "colab": {
     "base_uri": "https://localhost:8080/"
    },
    "executionInfo": {
     "elapsed": 57,
     "status": "ok",
     "timestamp": 1625857242194,
     "user": {
      "displayName": "Akash Talwar",
      "photoUrl": "https://lh3.googleusercontent.com/a-/AOh14GhsGyfKUqb496jz_lKHO4lCUdAD6jrECtPc4YCoNA=s64",
      "userId": "00480072323501141751"
     },
     "user_tz": -330
    },
    "id": "JvxmecGHnqEc",
    "outputId": "d9f7b4ce-28d5-4834-d65f-f7159dca722b"
   },
   "outputs": [
    {
     "name": "stdout",
     "output_type": "stream",
     "text": [
      "<class 'pandas.core.frame.DataFrame'>\n",
      "RangeIndex: 13353 entries, 0 to 13352\n",
      "Data columns (total 13 columns):\n",
      " #   Column           Non-Null Count  Dtype  \n",
      "---  ------           --------------  -----  \n",
      " 0   Airline          13353 non-null  object \n",
      " 1   Source           13353 non-null  object \n",
      " 2   Destination      13353 non-null  object \n",
      " 3   Route            13353 non-null  object \n",
      " 4   Arrival_Time     13353 non-null  object \n",
      " 5   Total_Stops      13353 non-null  int64  \n",
      " 6   Additional_Info  13353 non-null  object \n",
      " 7   Price            10682 non-null  float64\n",
      " 8   ref              13353 non-null  object \n",
      " 9   Day_journey      13353 non-null  object \n",
      " 10  Month_journey    13353 non-null  object \n",
      " 11  time_day         13353 non-null  object \n",
      " 12  travel_duration  13353 non-null  float64\n",
      "dtypes: float64(2), int64(1), object(10)\n",
      "memory usage: 1.3+ MB\n"
     ]
    }
   ],
   "source": [
    "df.info()"
   ]
  },
  {
   "cell_type": "code",
   "execution_count": 66,
   "metadata": {
    "executionInfo": {
     "elapsed": 6,
     "status": "ok",
     "timestamp": 1625857265370,
     "user": {
      "displayName": "Akash Talwar",
      "photoUrl": "https://lh3.googleusercontent.com/a-/AOh14GhsGyfKUqb496jz_lKHO4lCUdAD6jrECtPc4YCoNA=s64",
      "userId": "00480072323501141751"
     },
     "user_tz": -330
    },
    "id": "NUoEb98tnqEd"
   },
   "outputs": [],
   "source": [
    "# Check the data\n",
    "df.head(2)\n",
    "#Column \"Route\" has 132 unique values and difficult to handle with one hot encoder.\n",
    "#\"Route\" has number of stops which is taken care in number of stops.\n",
    "#\"Day_journey\" & \"Arrival Time\" is not of prime importance as month is used for predicting\n",
    "df.drop(columns=[\"Day_journey\",\"Route\",\"Arrival_Time\"],inplace=True)"
   ]
  },
  {
   "cell_type": "markdown",
   "metadata": {
    "id": "MtzI0EUqnqEe"
   },
   "source": [
    "# EDA"
   ]
  },
  {
   "cell_type": "code",
   "execution_count": null,
   "metadata": {
    "id": "gYNUleX4nqEe",
    "outputId": "5d504dc0-d80c-41e2-f9e8-a0742b8cca4b"
   },
   "outputs": [
    {
     "data": {
      "text/plain": [
       "<AxesSubplot:>"
      ]
     },
     "execution_count": 35,
     "metadata": {
      "tags": []
     },
     "output_type": "execute_result"
    },
    {
     "data": {
      "image/png": "[encoded data removed]",
      "text/plain": [
       "<Figure size 432x288 with 2 Axes>"
      ]
     },
     "metadata": {
      "needs_background": "light",
      "tags": []
     },
     "output_type": "display_data"
    }
   ],
   "source": [
    "#Using the train  data.\n",
    "#Univariate Analysis\n",
    "#Check null values\n",
    "sns.heatmap(df_train.isnull())\n",
    "#No null values found"
   ]
  },
  {
   "cell_type": "code",
   "execution_count": null,
   "metadata": {
    "id": "nXrpprZjnqEf",
    "outputId": "0f3da4d2-cf08-4111-aaea-3c2eecf690f2"
   },
   "outputs": [
    {
     "data": {
      "text/plain": [
       "<AxesSubplot:ylabel='Frequency'>"
      ]
     },
     "execution_count": 36,
     "metadata": {
      "tags": []
     },
     "output_type": "execute_result"
    },
    {
     "data": {
      "image/png": "[encoded data removed]",
      "text/plain": [
       "<Figure size 432x288 with 1 Axes>"
      ]
     },
     "metadata": {
      "needs_background": "light",
      "tags": []
     },
     "output_type": "display_data"
    }
   ],
   "source": [
    "#Check the data distribution of target variables\n",
    "df_train[\"Price\"].plot.hist()\n",
    "#The data is skewed"
   ]
  },
  {
   "cell_type": "code",
   "execution_count": null,
   "metadata": {
    "id": "xLpd8O34nqEg",
    "outputId": "d87f0de3-4a62-4677-acfd-754c8ba80402"
   },
   "outputs": [
    {
     "data": {
      "text/plain": [
       "<AxesSubplot:xlabel='Price'>"
      ]
     },
     "execution_count": 37,
     "metadata": {
      "tags": []
     },
     "output_type": "execute_result"
    },
    {
     "data": {
      "image/png": "[encoded data removed]",
      "text/plain": [
       "<Figure size 432x288 with 1 Axes>"
      ]
     },
     "metadata": {
      "needs_background": "light",
      "tags": []
     },
     "output_type": "display_data"
    }
   ],
   "source": [
    "#Check box plot for target variable \"price\"\n",
    "sns.boxplot(x=\"Price\",data=df_train)\n",
    "#The outliers cannot be treated as abnormalities as the prices depend on many parameters. Hence it will vary. "
   ]
  },
  {
   "cell_type": "code",
   "execution_count": null,
   "metadata": {
    "id": "8YKnYYuunqEh",
    "outputId": "ff3972b4-ebf7-472a-dbf4-2ad995a44c6e"
   },
   "outputs": [
    {
     "data": {
      "text/plain": [
       "<AxesSubplot:xlabel='Airline', ylabel='count'>"
      ]
     },
     "execution_count": 82,
     "metadata": {
      "tags": []
     },
     "output_type": "execute_result"
    },
    {
     "data": {
      "image/png": "[encoded data removed]",
      "text/plain": [
       "<Figure size 1584x504 with 1 Axes>"
      ]
     },
     "metadata": {
      "needs_background": "light",
      "tags": []
     },
     "output_type": "display_data"
    }
   ],
   "source": [
    "#Check most preferred Airlines\n",
    "plt.figure(figsize=(22,7))\n",
    "sns.countplot(x=\"Airline\",data=df)"
   ]
  },
  {
   "cell_type": "raw",
   "metadata": {
    "id": "22DPeq1KnqEh"
   },
   "source": [
    "Observation: Jet Airways is most prefered airlines as it has more bookings."
   ]
  },
  {
   "cell_type": "code",
   "execution_count": null,
   "metadata": {
    "id": "-dfj8bUKnqEi",
    "outputId": "00b06218-420d-4d70-c563-39a32e042e5b"
   },
   "outputs": [
    {
     "data": {
      "text/plain": [
       "<AxesSubplot:xlabel='Month_journey', ylabel='count'>"
      ]
     },
     "execution_count": 76,
     "metadata": {
      "tags": []
     },
     "output_type": "execute_result"
    },
    {
     "data": {
      "image/png": "[encoded data removed]",
      "text/plain": [
       "<Figure size 1584x504 with 1 Axes>"
      ]
     },
     "metadata": {
      "needs_background": "light",
      "tags": []
     },
     "output_type": "display_data"
    }
   ],
   "source": [
    "#Check most preferred month of journey\n",
    "plt.figure(figsize=(22,7))\n",
    "sns.countplot(x=\"Month_journey\",data=df)"
   ]
  },
  {
   "cell_type": "raw",
   "metadata": {
    "id": "DgPs4zxJnqEj"
   },
   "source": [
    "Observation: May & June are most preferred month for journey."
   ]
  },
  {
   "cell_type": "code",
   "execution_count": null,
   "metadata": {
    "id": "w6reke-znqEj",
    "outputId": "7e09d72b-8260-4a78-8ac1-12145e60608c"
   },
   "outputs": [
    {
     "data": {
      "text/plain": [
       "<AxesSubplot:xlabel='Source', ylabel='count'>"
      ]
     },
     "execution_count": 78,
     "metadata": {
      "tags": []
     },
     "output_type": "execute_result"
    },
    {
     "data": {
      "image/png": "[encoded data removed]",
      "text/plain": [
       "<Figure size 1584x504 with 1 Axes>"
      ]
     },
     "metadata": {
      "needs_background": "light",
      "tags": []
     },
     "output_type": "display_data"
    }
   ],
   "source": [
    "#Check from where the most numnber of flights take-off\n",
    "plt.figure(figsize=(22,7))\n",
    "sns.countplot(x=\"Source\",data=df)"
   ]
  },
  {
   "cell_type": "raw",
   "metadata": {
    "id": "e7G6_6HMnqEk"
   },
   "source": [
    "Observation: Delhi handles most number of take-offs followed by Kolkata & Bangalore."
   ]
  },
  {
   "cell_type": "code",
   "execution_count": null,
   "metadata": {
    "id": "yahXMQwGnqEl",
    "outputId": "83dcec1d-b028-45fd-b1f8-f0eece5fcf8c"
   },
   "outputs": [
    {
     "data": {
      "text/plain": [
       "<AxesSubplot:xlabel='time_day', ylabel='count'>"
      ]
     },
     "execution_count": 141,
     "metadata": {
      "tags": []
     },
     "output_type": "execute_result"
    },
    {
     "data": {
      "image/png": "[encoded data removed]",
      "text/plain": [
       "<Figure size 1584x504 with 1 Axes>"
      ]
     },
     "metadata": {
      "needs_background": "light",
      "tags": []
     },
     "output_type": "display_data"
    }
   ],
   "source": [
    "#Check the the preferred time of day for take=offs\n",
    "plt.figure(figsize=(22,7))\n",
    "sns.countplot(x=\"time_day\",data=df)"
   ]
  },
  {
   "cell_type": "raw",
   "metadata": {
    "id": "JT5LOsnxnqEm"
   },
   "source": [
    "Observation: Majority of flights depart in morning ie 6am to 12pm"
   ]
  },
  {
   "cell_type": "code",
   "execution_count": null,
   "metadata": {
    "id": "SdMf8vO4nqEm",
    "outputId": "ef36437c-7179-4277-931b-04855cf4921e"
   },
   "outputs": [
    {
     "data": {
      "text/plain": [
       "<AxesSubplot:xlabel='Airline', ylabel='Price'>"
      ]
     },
     "execution_count": 80,
     "metadata": {
      "tags": []
     },
     "output_type": "execute_result"
    },
    {
     "data": {
      "image/png": "[encoded data removed]",
      "text/plain": [
       "<Figure size 1584x504 with 1 Axes>"
      ]
     },
     "metadata": {
      "needs_background": "light",
      "tags": []
     },
     "output_type": "display_data"
    }
   ],
   "source": [
    "#Bi-variate Analysis\n",
    "plt.figure(figsize=(22,7))\n",
    "sns.barplot(x=\"Airline\",y=\"Price\",data=df,hue=\"Source\")"
   ]
  },
  {
   "cell_type": "raw",
   "metadata": {
    "id": "qpY32wjinqEn"
   },
   "source": [
    "Observation:\n",
    "1.Vistara handles most of its operations from Mumbai as it take-offs are more at Mumbai.\n",
    "2.Most Indigo flights take-off from Delhi.\n",
    "3.Air India have evenly distributed operations form Bangalore,Kolkata & Mumbai."
   ]
  },
  {
   "cell_type": "code",
   "execution_count": null,
   "metadata": {
    "id": "HIMO9gxEnqEo",
    "outputId": "4421498c-b588-4ed2-fab1-aab1b4a79563"
   },
   "outputs": [
    {
     "data": {
      "image/png": "[encoded data removed]",
      "text/plain": [
       "<Figure size 432x288 with 2 Axes>"
      ]
     },
     "metadata": {
      "needs_background": "light",
      "tags": []
     },
     "output_type": "display_data"
    }
   ],
   "source": [
    "#Correlation between price & travel duration\n",
    "sns.heatmap(df.corr(),annot=True,linewidth=0.1,linecolor=\"Black\")\n",
    "plt.show()"
   ]
  },
  {
   "cell_type": "raw",
   "metadata": {
    "id": "asoeESuonqEo"
   },
   "source": [
    "Observation: Price & travel duration has moderately positiove correlation"
   ]
  },
  {
   "cell_type": "code",
   "execution_count": null,
   "metadata": {
    "id": "YAGad3vSnqEp",
    "outputId": "f6defb5a-4353-40bd-eeee-ba4cace374b3"
   },
   "outputs": [
    {
     "data": {
      "text/plain": [
       "<AxesSubplot:xlabel='Total_Stops', ylabel='Price'>"
      ]
     },
     "execution_count": 665,
     "metadata": {
      "tags": []
     },
     "output_type": "execute_result"
    },
    {
     "data": {
      "image/png": "[encoded data removed]",
      "text/plain": [
       "<Figure size 1584x504 with 1 Axes>"
      ]
     },
     "metadata": {
      "needs_background": "light",
      "tags": []
     },
     "output_type": "display_data"
    }
   ],
   "source": [
    "#Check price vs no of stops\n",
    "plt.figure(figsize=(22,7))\n",
    "sns.lineplot(x=\"Total_Stops\",y=\"Price\",data=df)"
   ]
  },
  {
   "cell_type": "raw",
   "metadata": {
    "id": "AH2PWaa3nqEq"
   },
   "source": [
    "Observation: As number of stops increase, price increase. But there relatively less price hike between \"2 stops\" & \"3 stops\""
   ]
  },
  {
   "cell_type": "code",
   "execution_count": null,
   "metadata": {
    "id": "9-2uCa8ynqEq",
    "outputId": "f71a6be3-090c-4edb-fb07-ea433f878666"
   },
   "outputs": [
    {
     "data": {
      "text/plain": [
       "<AxesSubplot:xlabel='Total_Stops', ylabel='travel_duration'>"
      ]
     },
     "execution_count": 668,
     "metadata": {
      "tags": []
     },
     "output_type": "execute_result"
    },
    {
     "data": {
      "image/png": "[encoded data removed]",
      "text/plain": [
       "<Figure size 1584x504 with 1 Axes>"
      ]
     },
     "metadata": {
      "needs_background": "light",
      "tags": []
     },
     "output_type": "display_data"
    }
   ],
   "source": [
    "#Relation between independent variables\n",
    "plt.figure(figsize=(22,7))\n",
    "sns.lineplot(x=\"Total_Stops\",y=\"travel_duration\",data=df)"
   ]
  },
  {
   "cell_type": "raw",
   "metadata": {
    "id": "w86ct1TInqEr"
   },
   "source": [
    "Observation: As total stops increase , travel duration increase."
   ]
  },
  {
   "cell_type": "code",
   "execution_count": null,
   "metadata": {
    "id": "PGR7b5AdnqEs",
    "outputId": "d0125d17-801a-4947-d9d2-9e81e8fc2477"
   },
   "outputs": [
    {
     "data": {
      "text/plain": [
       "(13353, 13)"
      ]
     },
     "execution_count": 599,
     "metadata": {
      "tags": []
     },
     "output_type": "execute_result"
    }
   ],
   "source": [
    "df.shape"
   ]
  },
  {
   "cell_type": "code",
   "execution_count": null,
   "metadata": {
    "id": "zZqVbiNanqEs",
    "outputId": "52cb43d6-f17c-4127-c529-5694b2eeccff"
   },
   "outputs": [
    {
     "data": {
      "image/png": "[encoded data removed]",
      "text/plain": [
       "<Figure size 720x504 with 2 Axes>"
      ]
     },
     "metadata": {
      "needs_background": "light",
      "tags": []
     },
     "output_type": "display_data"
    }
   ],
   "source": [
    "#Multi variate analysis\n",
    "#Correlation between price & travel duration\n",
    "plt.figure(figsize=(10,7))\n",
    "sns.heatmap(df.corr(),annot=True,linewidth=0.1,linecolor=\"Black\")\n",
    "plt.show()"
   ]
  },
  {
   "cell_type": "raw",
   "metadata": {
    "id": "PfQULK04nqEt"
   },
   "source": [
    "Observations:\n",
    "1. Price is increases with total_stops & travel duration.\n",
    "2.Total stops & duration are positively correlated."
   ]
  },
  {
   "cell_type": "markdown",
   "metadata": {
    "id": "qCKLSAstnqEu"
   },
   "source": [
    "# Pre-processing Pipeline"
   ]
  },
  {
   "cell_type": "code",
   "execution_count": 67,
   "metadata": {
    "colab": {
     "base_uri": "https://localhost:8080/",
     "height": 204
    },
    "executionInfo": {
     "elapsed": 372,
     "status": "ok",
     "timestamp": 1625857278779,
     "user": {
      "displayName": "Akash Talwar",
      "photoUrl": "https://lh3.googleusercontent.com/a-/AOh14GhsGyfKUqb496jz_lKHO4lCUdAD6jrECtPc4YCoNA=s64",
      "userId": "00480072323501141751"
     },
     "user_tz": -330
    },
    "id": "ThpQ-ql0nqEu",
    "outputId": "790e3ba1-68e0-4222-d623-520c4097a8ab"
   },
   "outputs": [
    {
     "data": {
      "text/html": [
       "<div>\n",
       "<style scoped>\n",
       "    .dataframe tbody tr th:only-of-type {\n",
       "        vertical-align: middle;\n",
       "    }\n",
       "\n",
       "    .dataframe tbody tr th {\n",
       "        vertical-align: top;\n",
       "    }\n",
       "\n",
       "    .dataframe thead th {\n",
       "        text-align: right;\n",
       "    }\n",
       "</style>\n",
       "<table border=\"1\" class=\"dataframe\">\n",
       "  <thead>\n",
       "    <tr style=\"text-align: right;\">\n",
       "      <th></th>\n",
       "      <th>Airline</th>\n",
       "      <th>Source</th>\n",
       "      <th>Destination</th>\n",
       "      <th>Total_Stops</th>\n",
       "      <th>Additional_Info</th>\n",
       "      <th>Price</th>\n",
       "      <th>ref</th>\n",
       "      <th>Month_journey</th>\n",
       "      <th>time_day</th>\n",
       "      <th>travel_duration</th>\n",
       "    </tr>\n",
       "  </thead>\n",
       "  <tbody>\n",
       "    <tr>\n",
       "      <th>0</th>\n",
       "      <td>IndiGo</td>\n",
       "      <td>Banglore</td>\n",
       "      <td>New Delhi</td>\n",
       "      <td>0</td>\n",
       "      <td>No info</td>\n",
       "      <td>3897.0</td>\n",
       "      <td>train</td>\n",
       "      <td>03</td>\n",
       "      <td>Night</td>\n",
       "      <td>2.833333</td>\n",
       "    </tr>\n",
       "    <tr>\n",
       "      <th>1</th>\n",
       "      <td>Air India</td>\n",
       "      <td>Kolkata</td>\n",
       "      <td>Banglore</td>\n",
       "      <td>2</td>\n",
       "      <td>No info</td>\n",
       "      <td>7662.0</td>\n",
       "      <td>train</td>\n",
       "      <td>05</td>\n",
       "      <td>Midnight</td>\n",
       "      <td>7.416667</td>\n",
       "    </tr>\n",
       "    <tr>\n",
       "      <th>2</th>\n",
       "      <td>Jet Airways</td>\n",
       "      <td>Delhi</td>\n",
       "      <td>Cochin</td>\n",
       "      <td>2</td>\n",
       "      <td>No info</td>\n",
       "      <td>13882.0</td>\n",
       "      <td>train</td>\n",
       "      <td>06</td>\n",
       "      <td>Morning</td>\n",
       "      <td>19.000000</td>\n",
       "    </tr>\n",
       "    <tr>\n",
       "      <th>3</th>\n",
       "      <td>IndiGo</td>\n",
       "      <td>Kolkata</td>\n",
       "      <td>Banglore</td>\n",
       "      <td>1</td>\n",
       "      <td>No info</td>\n",
       "      <td>6218.0</td>\n",
       "      <td>train</td>\n",
       "      <td>05</td>\n",
       "      <td>Night</td>\n",
       "      <td>5.416667</td>\n",
       "    </tr>\n",
       "    <tr>\n",
       "      <th>4</th>\n",
       "      <td>IndiGo</td>\n",
       "      <td>Banglore</td>\n",
       "      <td>New Delhi</td>\n",
       "      <td>1</td>\n",
       "      <td>No info</td>\n",
       "      <td>13302.0</td>\n",
       "      <td>train</td>\n",
       "      <td>03</td>\n",
       "      <td>Afternoon</td>\n",
       "      <td>4.750000</td>\n",
       "    </tr>\n",
       "  </tbody>\n",
       "</table>\n",
       "</div>"
      ],
      "text/plain": [
       "       Airline    Source Destination  ...  Month_journey   time_day  travel_duration\n",
       "0       IndiGo  Banglore   New Delhi  ...             03      Night         2.833333\n",
       "1    Air India   Kolkata    Banglore  ...             05   Midnight         7.416667\n",
       "2  Jet Airways     Delhi      Cochin  ...             06    Morning        19.000000\n",
       "3       IndiGo   Kolkata    Banglore  ...             05      Night         5.416667\n",
       "4       IndiGo  Banglore   New Delhi  ...             03  Afternoon         4.750000\n",
       "\n",
       "[5 rows x 10 columns]"
      ]
     },
     "execution_count": 67,
     "metadata": {
      "tags": []
     },
     "output_type": "execute_result"
    }
   ],
   "source": [
    "#Check data\n",
    "df.head()"
   ]
  },
  {
   "cell_type": "code",
   "execution_count": 68,
   "metadata": {
    "colab": {
     "base_uri": "https://localhost:8080/"
    },
    "executionInfo": {
     "elapsed": 373,
     "status": "ok",
     "timestamp": 1625857292400,
     "user": {
      "displayName": "Akash Talwar",
      "photoUrl": "https://lh3.googleusercontent.com/a-/AOh14GhsGyfKUqb496jz_lKHO4lCUdAD6jrECtPc4YCoNA=s64",
      "userId": "00480072323501141751"
     },
     "user_tz": -330
    },
    "id": "4lHp2g_HnqEv",
    "outputId": "c8be42da-dca7-4a85-d490-912c5d223a83"
   },
   "outputs": [
    {
     "name": "stdout",
     "output_type": "stream",
     "text": [
      "(13353, 10)\n",
      "<class 'pandas.core.frame.DataFrame'>\n",
      "RangeIndex: 13353 entries, 0 to 13352\n",
      "Data columns (total 10 columns):\n",
      " #   Column           Non-Null Count  Dtype  \n",
      "---  ------           --------------  -----  \n",
      " 0   Airline          13353 non-null  object \n",
      " 1   Source           13353 non-null  object \n",
      " 2   Destination      13353 non-null  object \n",
      " 3   Total_Stops      13353 non-null  int64  \n",
      " 4   Additional_Info  13353 non-null  object \n",
      " 5   Price            10682 non-null  float64\n",
      " 6   ref              13353 non-null  object \n",
      " 7   Month_journey    13353 non-null  object \n",
      " 8   time_day         13353 non-null  object \n",
      " 9   travel_duration  13353 non-null  float64\n",
      "dtypes: float64(2), int64(1), object(7)\n",
      "memory usage: 1.0+ MB\n"
     ]
    }
   ],
   "source": [
    "#Check shape\n",
    "print(df.shape)\n",
    "df.info()"
   ]
  },
  {
   "cell_type": "code",
   "execution_count": 69,
   "metadata": {
    "colab": {
     "base_uri": "https://localhost:8080/"
    },
    "executionInfo": {
     "elapsed": 373,
     "status": "ok",
     "timestamp": 1625857337524,
     "user": {
      "displayName": "Akash Talwar",
      "photoUrl": "https://lh3.googleusercontent.com/a-/AOh14GhsGyfKUqb496jz_lKHO4lCUdAD6jrECtPc4YCoNA=s64",
      "userId": "00480072323501141751"
     },
     "user_tz": -330
    },
    "id": "wqXKlj4OnqEw",
    "outputId": "e609fbe7-75dc-44f1-c1ba-23fbc380105a"
   },
   "outputs": [
    {
     "data": {
      "text/plain": [
       "(13353, 35)"
      ]
     },
     "execution_count": 69,
     "metadata": {
      "tags": []
     },
     "output_type": "execute_result"
    }
   ],
   "source": [
    "#Using get dummies convert data to numeric\n",
    "df_final=pd.get_dummies(df,columns=[\"Airline\",\"Source\",\"Destination\",\"Additional_Info\",\"Month_journey\",\"time_day\"],drop_first=True)\n",
    "df_final.shape"
   ]
  },
  {
   "cell_type": "code",
   "execution_count": 70,
   "metadata": {
    "colab": {
     "base_uri": "https://localhost:8080/",
     "height": 258
    },
    "executionInfo": {
     "elapsed": 393,
     "status": "ok",
     "timestamp": 1625857353716,
     "user": {
      "displayName": "Akash Talwar",
      "photoUrl": "https://lh3.googleusercontent.com/a-/AOh14GhsGyfKUqb496jz_lKHO4lCUdAD6jrECtPc4YCoNA=s64",
      "userId": "00480072323501141751"
     },
     "user_tz": -330
    },
    "id": "QsoD6liOnqEx",
    "outputId": "69ff6a5b-f6aa-41a1-b261-5e505b8510b8"
   },
   "outputs": [
    {
     "data": {
      "text/html": [
       "<div>\n",
       "<style scoped>\n",
       "    .dataframe tbody tr th:only-of-type {\n",
       "        vertical-align: middle;\n",
       "    }\n",
       "\n",
       "    .dataframe tbody tr th {\n",
       "        vertical-align: top;\n",
       "    }\n",
       "\n",
       "    .dataframe thead th {\n",
       "        text-align: right;\n",
       "    }\n",
       "</style>\n",
       "<table border=\"1\" class=\"dataframe\">\n",
       "  <thead>\n",
       "    <tr style=\"text-align: right;\">\n",
       "      <th></th>\n",
       "      <th>Total_Stops</th>\n",
       "      <th>Price</th>\n",
       "      <th>ref</th>\n",
       "      <th>travel_duration</th>\n",
       "      <th>Airline_Air India</th>\n",
       "      <th>Airline_GoAir</th>\n",
       "      <th>Airline_IndiGo</th>\n",
       "      <th>Airline_Jet Airways</th>\n",
       "      <th>Airline_Multiple carriers</th>\n",
       "      <th>Airline_SpiceJet</th>\n",
       "      <th>Airline_Trujet</th>\n",
       "      <th>Airline_Vistara</th>\n",
       "      <th>Source_Chennai</th>\n",
       "      <th>Source_Delhi</th>\n",
       "      <th>Source_Kolkata</th>\n",
       "      <th>Source_Mumbai</th>\n",
       "      <th>Destination_Cochin</th>\n",
       "      <th>Destination_Delhi</th>\n",
       "      <th>Destination_Hyderabad</th>\n",
       "      <th>Destination_Kolkata</th>\n",
       "      <th>Destination_New Delhi</th>\n",
       "      <th>Additional_Info_1 Short layover</th>\n",
       "      <th>Additional_Info_2 Long layover</th>\n",
       "      <th>Additional_Info_Business class</th>\n",
       "      <th>Additional_Info_Change airports</th>\n",
       "      <th>Additional_Info_In-flight meal not included</th>\n",
       "      <th>Additional_Info_No check-in baggage included</th>\n",
       "      <th>Additional_Info_No info</th>\n",
       "      <th>Additional_Info_Red-eye flight</th>\n",
       "      <th>Month_journey_04</th>\n",
       "      <th>Month_journey_05</th>\n",
       "      <th>Month_journey_06</th>\n",
       "      <th>time_day_Midnight</th>\n",
       "      <th>time_day_Morning</th>\n",
       "      <th>time_day_Night</th>\n",
       "    </tr>\n",
       "  </thead>\n",
       "  <tbody>\n",
       "    <tr>\n",
       "      <th>10682</th>\n",
       "      <td>1</td>\n",
       "      <td>NaN</td>\n",
       "      <td>test</td>\n",
       "      <td>10.916667</td>\n",
       "      <td>0</td>\n",
       "      <td>0</td>\n",
       "      <td>0</td>\n",
       "      <td>1</td>\n",
       "      <td>0</td>\n",
       "      <td>0</td>\n",
       "      <td>0</td>\n",
       "      <td>0</td>\n",
       "      <td>0</td>\n",
       "      <td>1</td>\n",
       "      <td>0</td>\n",
       "      <td>0</td>\n",
       "      <td>1</td>\n",
       "      <td>0</td>\n",
       "      <td>0</td>\n",
       "      <td>0</td>\n",
       "      <td>0</td>\n",
       "      <td>0</td>\n",
       "      <td>0</td>\n",
       "      <td>0</td>\n",
       "      <td>0</td>\n",
       "      <td>0</td>\n",
       "      <td>0</td>\n",
       "      <td>1</td>\n",
       "      <td>0</td>\n",
       "      <td>0</td>\n",
       "      <td>0</td>\n",
       "      <td>1</td>\n",
       "      <td>0</td>\n",
       "      <td>0</td>\n",
       "      <td>0</td>\n",
       "    </tr>\n",
       "    <tr>\n",
       "      <th>10683</th>\n",
       "      <td>1</td>\n",
       "      <td>NaN</td>\n",
       "      <td>test</td>\n",
       "      <td>4.000000</td>\n",
       "      <td>0</td>\n",
       "      <td>0</td>\n",
       "      <td>1</td>\n",
       "      <td>0</td>\n",
       "      <td>0</td>\n",
       "      <td>0</td>\n",
       "      <td>0</td>\n",
       "      <td>0</td>\n",
       "      <td>0</td>\n",
       "      <td>0</td>\n",
       "      <td>1</td>\n",
       "      <td>0</td>\n",
       "      <td>0</td>\n",
       "      <td>0</td>\n",
       "      <td>0</td>\n",
       "      <td>0</td>\n",
       "      <td>0</td>\n",
       "      <td>0</td>\n",
       "      <td>0</td>\n",
       "      <td>0</td>\n",
       "      <td>0</td>\n",
       "      <td>0</td>\n",
       "      <td>0</td>\n",
       "      <td>1</td>\n",
       "      <td>0</td>\n",
       "      <td>0</td>\n",
       "      <td>1</td>\n",
       "      <td>0</td>\n",
       "      <td>0</td>\n",
       "      <td>1</td>\n",
       "      <td>0</td>\n",
       "    </tr>\n",
       "    <tr>\n",
       "      <th>10684</th>\n",
       "      <td>1</td>\n",
       "      <td>NaN</td>\n",
       "      <td>test</td>\n",
       "      <td>23.750000</td>\n",
       "      <td>0</td>\n",
       "      <td>0</td>\n",
       "      <td>0</td>\n",
       "      <td>1</td>\n",
       "      <td>0</td>\n",
       "      <td>0</td>\n",
       "      <td>0</td>\n",
       "      <td>0</td>\n",
       "      <td>0</td>\n",
       "      <td>1</td>\n",
       "      <td>0</td>\n",
       "      <td>0</td>\n",
       "      <td>1</td>\n",
       "      <td>0</td>\n",
       "      <td>0</td>\n",
       "      <td>0</td>\n",
       "      <td>0</td>\n",
       "      <td>0</td>\n",
       "      <td>0</td>\n",
       "      <td>0</td>\n",
       "      <td>0</td>\n",
       "      <td>1</td>\n",
       "      <td>0</td>\n",
       "      <td>0</td>\n",
       "      <td>0</td>\n",
       "      <td>0</td>\n",
       "      <td>1</td>\n",
       "      <td>0</td>\n",
       "      <td>0</td>\n",
       "      <td>0</td>\n",
       "      <td>1</td>\n",
       "    </tr>\n",
       "    <tr>\n",
       "      <th>10685</th>\n",
       "      <td>1</td>\n",
       "      <td>NaN</td>\n",
       "      <td>test</td>\n",
       "      <td>13.000000</td>\n",
       "      <td>0</td>\n",
       "      <td>0</td>\n",
       "      <td>0</td>\n",
       "      <td>0</td>\n",
       "      <td>1</td>\n",
       "      <td>0</td>\n",
       "      <td>0</td>\n",
       "      <td>0</td>\n",
       "      <td>0</td>\n",
       "      <td>1</td>\n",
       "      <td>0</td>\n",
       "      <td>0</td>\n",
       "      <td>1</td>\n",
       "      <td>0</td>\n",
       "      <td>0</td>\n",
       "      <td>0</td>\n",
       "      <td>0</td>\n",
       "      <td>0</td>\n",
       "      <td>0</td>\n",
       "      <td>0</td>\n",
       "      <td>0</td>\n",
       "      <td>0</td>\n",
       "      <td>0</td>\n",
       "      <td>1</td>\n",
       "      <td>0</td>\n",
       "      <td>0</td>\n",
       "      <td>1</td>\n",
       "      <td>0</td>\n",
       "      <td>0</td>\n",
       "      <td>1</td>\n",
       "      <td>0</td>\n",
       "    </tr>\n",
       "    <tr>\n",
       "      <th>10686</th>\n",
       "      <td>0</td>\n",
       "      <td>NaN</td>\n",
       "      <td>test</td>\n",
       "      <td>2.833333</td>\n",
       "      <td>0</td>\n",
       "      <td>0</td>\n",
       "      <td>0</td>\n",
       "      <td>0</td>\n",
       "      <td>0</td>\n",
       "      <td>0</td>\n",
       "      <td>0</td>\n",
       "      <td>0</td>\n",
       "      <td>0</td>\n",
       "      <td>0</td>\n",
       "      <td>0</td>\n",
       "      <td>0</td>\n",
       "      <td>0</td>\n",
       "      <td>1</td>\n",
       "      <td>0</td>\n",
       "      <td>0</td>\n",
       "      <td>0</td>\n",
       "      <td>0</td>\n",
       "      <td>0</td>\n",
       "      <td>0</td>\n",
       "      <td>0</td>\n",
       "      <td>0</td>\n",
       "      <td>0</td>\n",
       "      <td>1</td>\n",
       "      <td>0</td>\n",
       "      <td>0</td>\n",
       "      <td>0</td>\n",
       "      <td>1</td>\n",
       "      <td>0</td>\n",
       "      <td>0</td>\n",
       "      <td>1</td>\n",
       "    </tr>\n",
       "  </tbody>\n",
       "</table>\n",
       "</div>"
      ],
      "text/plain": [
       "       Total_Stops  Price  ... time_day_Morning  time_day_Night\n",
       "10682            1    NaN  ...                0               0\n",
       "10683            1    NaN  ...                1               0\n",
       "10684            1    NaN  ...                0               1\n",
       "10685            1    NaN  ...                1               0\n",
       "10686            0    NaN  ...                0               1\n",
       "\n",
       "[5 rows x 35 columns]"
      ]
     },
     "execution_count": 70,
     "metadata": {
      "tags": []
     },
     "output_type": "execute_result"
    }
   ],
   "source": [
    "#Test data set\n",
    "df_test_final=df_final[df_final[\"ref\"]==\"test\"]\n",
    "df_test_final.head()"
   ]
  },
  {
   "cell_type": "code",
   "execution_count": 71,
   "metadata": {
    "colab": {
     "base_uri": "https://localhost:8080/"
    },
    "executionInfo": {
     "elapsed": 369,
     "status": "ok",
     "timestamp": 1625857361580,
     "user": {
      "displayName": "Akash Talwar",
      "photoUrl": "https://lh3.googleusercontent.com/a-/AOh14GhsGyfKUqb496jz_lKHO4lCUdAD6jrECtPc4YCoNA=s64",
      "userId": "00480072323501141751"
     },
     "user_tz": -330
    },
    "id": "mqp-WqcGnqEy",
    "outputId": "495d7122-66ac-4be5-85c7-6decbdf44c5d"
   },
   "outputs": [
    {
     "name": "stdout",
     "output_type": "stream",
     "text": [
      "(row,columns)= (2671, 35)\n"
     ]
    },
    {
     "data": {
      "text/plain": [
       "Total_Stops                                        0\n",
       "Price                                           2671\n",
       "ref                                                0\n",
       "travel_duration                                    0\n",
       "Airline_Air India                                  0\n",
       "Airline_GoAir                                      0\n",
       "Airline_IndiGo                                     0\n",
       "Airline_Jet Airways                                0\n",
       "Airline_Multiple carriers                          0\n",
       "Airline_SpiceJet                                   0\n",
       "Airline_Trujet                                     0\n",
       "Airline_Vistara                                    0\n",
       "Source_Chennai                                     0\n",
       "Source_Delhi                                       0\n",
       "Source_Kolkata                                     0\n",
       "Source_Mumbai                                      0\n",
       "Destination_Cochin                                 0\n",
       "Destination_Delhi                                  0\n",
       "Destination_Hyderabad                              0\n",
       "Destination_Kolkata                                0\n",
       "Destination_New Delhi                              0\n",
       "Additional_Info_1 Short layover                    0\n",
       "Additional_Info_2 Long layover                     0\n",
       "Additional_Info_Business class                     0\n",
       "Additional_Info_Change airports                    0\n",
       "Additional_Info_In-flight meal not included        0\n",
       "Additional_Info_No check-in baggage included       0\n",
       "Additional_Info_No info                            0\n",
       "Additional_Info_Red-eye flight                     0\n",
       "Month_journey_04                                   0\n",
       "Month_journey_05                                   0\n",
       "Month_journey_06                                   0\n",
       "time_day_Midnight                                  0\n",
       "time_day_Morning                                   0\n",
       "time_day_Night                                     0\n",
       "dtype: int64"
      ]
     },
     "execution_count": 71,
     "metadata": {
      "tags": []
     },
     "output_type": "execute_result"
    }
   ],
   "source": [
    "#Check Test data set\n",
    "print(\"(row,columns)=\",df_test_final.shape)\n",
    "df_test_final.isnull().sum()"
   ]
  },
  {
   "cell_type": "code",
   "execution_count": 72,
   "metadata": {
    "colab": {
     "base_uri": "https://localhost:8080/"
    },
    "executionInfo": {
     "elapsed": 405,
     "status": "ok",
     "timestamp": 1625857371734,
     "user": {
      "displayName": "Akash Talwar",
      "photoUrl": "https://lh3.googleusercontent.com/a-/AOh14GhsGyfKUqb496jz_lKHO4lCUdAD6jrECtPc4YCoNA=s64",
      "userId": "00480072323501141751"
     },
     "user_tz": -330
    },
    "id": "iLInEuaWnqEz",
    "outputId": "e319a9fe-57c9-4f83-dc27-061f7453da98"
   },
   "outputs": [
    {
     "data": {
      "text/plain": [
       "(2671, 33)"
      ]
     },
     "execution_count": 72,
     "metadata": {
      "tags": []
     },
     "output_type": "execute_result"
    }
   ],
   "source": [
    "#Drop price columns from test dataset\n",
    "df_test_final.drop(columns=[\"Price\",\"ref\"],inplace=True)\n",
    "df_test_final.shape"
   ]
  },
  {
   "cell_type": "code",
   "execution_count": 73,
   "metadata": {
    "colab": {
     "base_uri": "https://localhost:8080/",
     "height": 258
    },
    "executionInfo": {
     "elapsed": 647,
     "status": "ok",
     "timestamp": 1625857385748,
     "user": {
      "displayName": "Akash Talwar",
      "photoUrl": "https://lh3.googleusercontent.com/a-/AOh14GhsGyfKUqb496jz_lKHO4lCUdAD6jrECtPc4YCoNA=s64",
      "userId": "00480072323501141751"
     },
     "user_tz": -330
    },
    "id": "LqFkzpm1nqEz",
    "outputId": "be4dabb9-5a34-425c-a9bd-5fcff3499306"
   },
   "outputs": [
    {
     "data": {
      "text/html": [
       "<div>\n",
       "<style scoped>\n",
       "    .dataframe tbody tr th:only-of-type {\n",
       "        vertical-align: middle;\n",
       "    }\n",
       "\n",
       "    .dataframe tbody tr th {\n",
       "        vertical-align: top;\n",
       "    }\n",
       "\n",
       "    .dataframe thead th {\n",
       "        text-align: right;\n",
       "    }\n",
       "</style>\n",
       "<table border=\"1\" class=\"dataframe\">\n",
       "  <thead>\n",
       "    <tr style=\"text-align: right;\">\n",
       "      <th></th>\n",
       "      <th>Total_Stops</th>\n",
       "      <th>Price</th>\n",
       "      <th>ref</th>\n",
       "      <th>travel_duration</th>\n",
       "      <th>Airline_Air India</th>\n",
       "      <th>Airline_GoAir</th>\n",
       "      <th>Airline_IndiGo</th>\n",
       "      <th>Airline_Jet Airways</th>\n",
       "      <th>Airline_Multiple carriers</th>\n",
       "      <th>Airline_SpiceJet</th>\n",
       "      <th>Airline_Trujet</th>\n",
       "      <th>Airline_Vistara</th>\n",
       "      <th>Source_Chennai</th>\n",
       "      <th>Source_Delhi</th>\n",
       "      <th>Source_Kolkata</th>\n",
       "      <th>Source_Mumbai</th>\n",
       "      <th>Destination_Cochin</th>\n",
       "      <th>Destination_Delhi</th>\n",
       "      <th>Destination_Hyderabad</th>\n",
       "      <th>Destination_Kolkata</th>\n",
       "      <th>Destination_New Delhi</th>\n",
       "      <th>Additional_Info_1 Short layover</th>\n",
       "      <th>Additional_Info_2 Long layover</th>\n",
       "      <th>Additional_Info_Business class</th>\n",
       "      <th>Additional_Info_Change airports</th>\n",
       "      <th>Additional_Info_In-flight meal not included</th>\n",
       "      <th>Additional_Info_No check-in baggage included</th>\n",
       "      <th>Additional_Info_No info</th>\n",
       "      <th>Additional_Info_Red-eye flight</th>\n",
       "      <th>Month_journey_04</th>\n",
       "      <th>Month_journey_05</th>\n",
       "      <th>Month_journey_06</th>\n",
       "      <th>time_day_Midnight</th>\n",
       "      <th>time_day_Morning</th>\n",
       "      <th>time_day_Night</th>\n",
       "    </tr>\n",
       "  </thead>\n",
       "  <tbody>\n",
       "    <tr>\n",
       "      <th>0</th>\n",
       "      <td>0</td>\n",
       "      <td>3897.0</td>\n",
       "      <td>train</td>\n",
       "      <td>2.833333</td>\n",
       "      <td>0</td>\n",
       "      <td>0</td>\n",
       "      <td>1</td>\n",
       "      <td>0</td>\n",
       "      <td>0</td>\n",
       "      <td>0</td>\n",
       "      <td>0</td>\n",
       "      <td>0</td>\n",
       "      <td>0</td>\n",
       "      <td>0</td>\n",
       "      <td>0</td>\n",
       "      <td>0</td>\n",
       "      <td>0</td>\n",
       "      <td>0</td>\n",
       "      <td>0</td>\n",
       "      <td>0</td>\n",
       "      <td>1</td>\n",
       "      <td>0</td>\n",
       "      <td>0</td>\n",
       "      <td>0</td>\n",
       "      <td>0</td>\n",
       "      <td>0</td>\n",
       "      <td>0</td>\n",
       "      <td>1</td>\n",
       "      <td>0</td>\n",
       "      <td>0</td>\n",
       "      <td>0</td>\n",
       "      <td>0</td>\n",
       "      <td>0</td>\n",
       "      <td>0</td>\n",
       "      <td>1</td>\n",
       "    </tr>\n",
       "    <tr>\n",
       "      <th>1</th>\n",
       "      <td>2</td>\n",
       "      <td>7662.0</td>\n",
       "      <td>train</td>\n",
       "      <td>7.416667</td>\n",
       "      <td>1</td>\n",
       "      <td>0</td>\n",
       "      <td>0</td>\n",
       "      <td>0</td>\n",
       "      <td>0</td>\n",
       "      <td>0</td>\n",
       "      <td>0</td>\n",
       "      <td>0</td>\n",
       "      <td>0</td>\n",
       "      <td>0</td>\n",
       "      <td>1</td>\n",
       "      <td>0</td>\n",
       "      <td>0</td>\n",
       "      <td>0</td>\n",
       "      <td>0</td>\n",
       "      <td>0</td>\n",
       "      <td>0</td>\n",
       "      <td>0</td>\n",
       "      <td>0</td>\n",
       "      <td>0</td>\n",
       "      <td>0</td>\n",
       "      <td>0</td>\n",
       "      <td>0</td>\n",
       "      <td>1</td>\n",
       "      <td>0</td>\n",
       "      <td>0</td>\n",
       "      <td>1</td>\n",
       "      <td>0</td>\n",
       "      <td>1</td>\n",
       "      <td>0</td>\n",
       "      <td>0</td>\n",
       "    </tr>\n",
       "    <tr>\n",
       "      <th>2</th>\n",
       "      <td>2</td>\n",
       "      <td>13882.0</td>\n",
       "      <td>train</td>\n",
       "      <td>19.000000</td>\n",
       "      <td>0</td>\n",
       "      <td>0</td>\n",
       "      <td>0</td>\n",
       "      <td>1</td>\n",
       "      <td>0</td>\n",
       "      <td>0</td>\n",
       "      <td>0</td>\n",
       "      <td>0</td>\n",
       "      <td>0</td>\n",
       "      <td>1</td>\n",
       "      <td>0</td>\n",
       "      <td>0</td>\n",
       "      <td>1</td>\n",
       "      <td>0</td>\n",
       "      <td>0</td>\n",
       "      <td>0</td>\n",
       "      <td>0</td>\n",
       "      <td>0</td>\n",
       "      <td>0</td>\n",
       "      <td>0</td>\n",
       "      <td>0</td>\n",
       "      <td>0</td>\n",
       "      <td>0</td>\n",
       "      <td>1</td>\n",
       "      <td>0</td>\n",
       "      <td>0</td>\n",
       "      <td>0</td>\n",
       "      <td>1</td>\n",
       "      <td>0</td>\n",
       "      <td>1</td>\n",
       "      <td>0</td>\n",
       "    </tr>\n",
       "    <tr>\n",
       "      <th>3</th>\n",
       "      <td>1</td>\n",
       "      <td>6218.0</td>\n",
       "      <td>train</td>\n",
       "      <td>5.416667</td>\n",
       "      <td>0</td>\n",
       "      <td>0</td>\n",
       "      <td>1</td>\n",
       "      <td>0</td>\n",
       "      <td>0</td>\n",
       "      <td>0</td>\n",
       "      <td>0</td>\n",
       "      <td>0</td>\n",
       "      <td>0</td>\n",
       "      <td>0</td>\n",
       "      <td>1</td>\n",
       "      <td>0</td>\n",
       "      <td>0</td>\n",
       "      <td>0</td>\n",
       "      <td>0</td>\n",
       "      <td>0</td>\n",
       "      <td>0</td>\n",
       "      <td>0</td>\n",
       "      <td>0</td>\n",
       "      <td>0</td>\n",
       "      <td>0</td>\n",
       "      <td>0</td>\n",
       "      <td>0</td>\n",
       "      <td>1</td>\n",
       "      <td>0</td>\n",
       "      <td>0</td>\n",
       "      <td>1</td>\n",
       "      <td>0</td>\n",
       "      <td>0</td>\n",
       "      <td>0</td>\n",
       "      <td>1</td>\n",
       "    </tr>\n",
       "    <tr>\n",
       "      <th>4</th>\n",
       "      <td>1</td>\n",
       "      <td>13302.0</td>\n",
       "      <td>train</td>\n",
       "      <td>4.750000</td>\n",
       "      <td>0</td>\n",
       "      <td>0</td>\n",
       "      <td>1</td>\n",
       "      <td>0</td>\n",
       "      <td>0</td>\n",
       "      <td>0</td>\n",
       "      <td>0</td>\n",
       "      <td>0</td>\n",
       "      <td>0</td>\n",
       "      <td>0</td>\n",
       "      <td>0</td>\n",
       "      <td>0</td>\n",
       "      <td>0</td>\n",
       "      <td>0</td>\n",
       "      <td>0</td>\n",
       "      <td>0</td>\n",
       "      <td>1</td>\n",
       "      <td>0</td>\n",
       "      <td>0</td>\n",
       "      <td>0</td>\n",
       "      <td>0</td>\n",
       "      <td>0</td>\n",
       "      <td>0</td>\n",
       "      <td>1</td>\n",
       "      <td>0</td>\n",
       "      <td>0</td>\n",
       "      <td>0</td>\n",
       "      <td>0</td>\n",
       "      <td>0</td>\n",
       "      <td>0</td>\n",
       "      <td>0</td>\n",
       "    </tr>\n",
       "  </tbody>\n",
       "</table>\n",
       "</div>"
      ],
      "text/plain": [
       "   Total_Stops    Price  ... time_day_Morning  time_day_Night\n",
       "0            0   3897.0  ...                0               1\n",
       "1            2   7662.0  ...                0               0\n",
       "2            2  13882.0  ...                1               0\n",
       "3            1   6218.0  ...                0               1\n",
       "4            1  13302.0  ...                0               0\n",
       "\n",
       "[5 rows x 35 columns]"
      ]
     },
     "execution_count": 73,
     "metadata": {
      "tags": []
     },
     "output_type": "execute_result"
    }
   ],
   "source": [
    "#Train data\n",
    "df_train_final=df_final[df_final[\"ref\"]==\"train\"]\n",
    "df_train_final.head()"
   ]
  },
  {
   "cell_type": "code",
   "execution_count": 74,
   "metadata": {
    "colab": {
     "base_uri": "https://localhost:8080/"
    },
    "executionInfo": {
     "elapsed": 405,
     "status": "ok",
     "timestamp": 1625857393416,
     "user": {
      "displayName": "Akash Talwar",
      "photoUrl": "https://lh3.googleusercontent.com/a-/AOh14GhsGyfKUqb496jz_lKHO4lCUdAD6jrECtPc4YCoNA=s64",
      "userId": "00480072323501141751"
     },
     "user_tz": -330
    },
    "id": "g03Nz4fgnqE1",
    "outputId": "50681407-f1d6-4c18-ae7c-24d4ed54ad61"
   },
   "outputs": [
    {
     "name": "stdout",
     "output_type": "stream",
     "text": [
      "(row,columns)= (10682, 35)\n"
     ]
    },
    {
     "data": {
      "text/plain": [
       "Total_Stops                                     0\n",
       "Price                                           0\n",
       "ref                                             0\n",
       "travel_duration                                 0\n",
       "Airline_Air India                               0\n",
       "Airline_GoAir                                   0\n",
       "Airline_IndiGo                                  0\n",
       "Airline_Jet Airways                             0\n",
       "Airline_Multiple carriers                       0\n",
       "Airline_SpiceJet                                0\n",
       "Airline_Trujet                                  0\n",
       "Airline_Vistara                                 0\n",
       "Source_Chennai                                  0\n",
       "Source_Delhi                                    0\n",
       "Source_Kolkata                                  0\n",
       "Source_Mumbai                                   0\n",
       "Destination_Cochin                              0\n",
       "Destination_Delhi                               0\n",
       "Destination_Hyderabad                           0\n",
       "Destination_Kolkata                             0\n",
       "Destination_New Delhi                           0\n",
       "Additional_Info_1 Short layover                 0\n",
       "Additional_Info_2 Long layover                  0\n",
       "Additional_Info_Business class                  0\n",
       "Additional_Info_Change airports                 0\n",
       "Additional_Info_In-flight meal not included     0\n",
       "Additional_Info_No check-in baggage included    0\n",
       "Additional_Info_No info                         0\n",
       "Additional_Info_Red-eye flight                  0\n",
       "Month_journey_04                                0\n",
       "Month_journey_05                                0\n",
       "Month_journey_06                                0\n",
       "time_day_Midnight                               0\n",
       "time_day_Morning                                0\n",
       "time_day_Night                                  0\n",
       "dtype: int64"
      ]
     },
     "execution_count": 74,
     "metadata": {
      "tags": []
     },
     "output_type": "execute_result"
    }
   ],
   "source": [
    "#Check df_train_final\n",
    "print(\"(row,columns)=\",df_train_final.shape)\n",
    "df_train_final.isnull().sum()"
   ]
  },
  {
   "cell_type": "code",
   "execution_count": 75,
   "metadata": {
    "colab": {
     "base_uri": "https://localhost:8080/"
    },
    "executionInfo": {
     "elapsed": 405,
     "status": "ok",
     "timestamp": 1625857402529,
     "user": {
      "displayName": "Akash Talwar",
      "photoUrl": "https://lh3.googleusercontent.com/a-/AOh14GhsGyfKUqb496jz_lKHO4lCUdAD6jrECtPc4YCoNA=s64",
      "userId": "00480072323501141751"
     },
     "user_tz": -330
    },
    "id": "YIixDplPnqE2",
    "outputId": "8d18364f-9b0e-460a-c4ae-0eb4250dd73f"
   },
   "outputs": [
    {
     "data": {
      "text/plain": [
       "(10682, 34)"
      ]
     },
     "execution_count": 75,
     "metadata": {
      "tags": []
     },
     "output_type": "execute_result"
    }
   ],
   "source": [
    "#Drop \"ref\" coulmns\n",
    "df_train_final.drop(columns=[\"ref\"],inplace=True)\n",
    "df_train_final.shape"
   ]
  },
  {
   "cell_type": "code",
   "execution_count": 76,
   "metadata": {
    "colab": {
     "base_uri": "https://localhost:8080/"
    },
    "executionInfo": {
     "elapsed": 637,
     "status": "ok",
     "timestamp": 1625857404866,
     "user": {
      "displayName": "Akash Talwar",
      "photoUrl": "https://lh3.googleusercontent.com/a-/AOh14GhsGyfKUqb496jz_lKHO4lCUdAD6jrECtPc4YCoNA=s64",
      "userId": "00480072323501141751"
     },
     "user_tz": -330
    },
    "id": "1VlCS-W_nqE2",
    "outputId": "f326f5bb-3e16-494c-a4f7-b32c12d92b11"
   },
   "outputs": [
    {
     "name": "stdout",
     "output_type": "stream",
     "text": [
      "(10682, 33) (10682,)\n"
     ]
    }
   ],
   "source": [
    "#Lets split training data into dependent & independent variables\n",
    "df_x=df_train_final.drop(columns=[\"Price\"])\n",
    "y=df_train_final[\"Price\"] #Independent variables\n",
    "print(df_x.shape,y.shape) # Dependent variables"
   ]
  },
  {
   "cell_type": "code",
   "execution_count": 77,
   "metadata": {
    "colab": {
     "base_uri": "https://localhost:8080/",
     "height": 258
    },
    "executionInfo": {
     "elapsed": 631,
     "status": "ok",
     "timestamp": 1625857411718,
     "user": {
      "displayName": "Akash Talwar",
      "photoUrl": "https://lh3.googleusercontent.com/a-/AOh14GhsGyfKUqb496jz_lKHO4lCUdAD6jrECtPc4YCoNA=s64",
      "userId": "00480072323501141751"
     },
     "user_tz": -330
    },
    "id": "KqnJeMUAnqE3",
    "outputId": "b071a288-56e8-4239-e65d-9351ef58b7dc"
   },
   "outputs": [
    {
     "data": {
      "text/html": [
       "<div>\n",
       "<style scoped>\n",
       "    .dataframe tbody tr th:only-of-type {\n",
       "        vertical-align: middle;\n",
       "    }\n",
       "\n",
       "    .dataframe tbody tr th {\n",
       "        vertical-align: top;\n",
       "    }\n",
       "\n",
       "    .dataframe thead th {\n",
       "        text-align: right;\n",
       "    }\n",
       "</style>\n",
       "<table border=\"1\" class=\"dataframe\">\n",
       "  <thead>\n",
       "    <tr style=\"text-align: right;\">\n",
       "      <th></th>\n",
       "      <th>Total_Stops</th>\n",
       "      <th>travel_duration</th>\n",
       "      <th>Airline_Air India</th>\n",
       "      <th>Airline_GoAir</th>\n",
       "      <th>Airline_IndiGo</th>\n",
       "      <th>Airline_Jet Airways</th>\n",
       "      <th>Airline_Multiple carriers</th>\n",
       "      <th>Airline_SpiceJet</th>\n",
       "      <th>Airline_Trujet</th>\n",
       "      <th>Airline_Vistara</th>\n",
       "      <th>Source_Chennai</th>\n",
       "      <th>Source_Delhi</th>\n",
       "      <th>Source_Kolkata</th>\n",
       "      <th>Source_Mumbai</th>\n",
       "      <th>Destination_Cochin</th>\n",
       "      <th>Destination_Delhi</th>\n",
       "      <th>Destination_Hyderabad</th>\n",
       "      <th>Destination_Kolkata</th>\n",
       "      <th>Destination_New Delhi</th>\n",
       "      <th>Additional_Info_1 Short layover</th>\n",
       "      <th>Additional_Info_2 Long layover</th>\n",
       "      <th>Additional_Info_Business class</th>\n",
       "      <th>Additional_Info_Change airports</th>\n",
       "      <th>Additional_Info_In-flight meal not included</th>\n",
       "      <th>Additional_Info_No check-in baggage included</th>\n",
       "      <th>Additional_Info_No info</th>\n",
       "      <th>Additional_Info_Red-eye flight</th>\n",
       "      <th>Month_journey_04</th>\n",
       "      <th>Month_journey_05</th>\n",
       "      <th>Month_journey_06</th>\n",
       "      <th>time_day_Midnight</th>\n",
       "      <th>time_day_Morning</th>\n",
       "      <th>time_day_Night</th>\n",
       "    </tr>\n",
       "  </thead>\n",
       "  <tbody>\n",
       "    <tr>\n",
       "      <th>0</th>\n",
       "      <td>-1.220666</td>\n",
       "      <td>-0.931601</td>\n",
       "      <td>-0.442785</td>\n",
       "      <td>-0.136005</td>\n",
       "      <td>2.050151</td>\n",
       "      <td>-0.751445</td>\n",
       "      <td>-0.357248</td>\n",
       "      <td>-0.287972</td>\n",
       "      <td>-0.009676</td>\n",
       "      <td>-0.217382</td>\n",
       "      <td>-0.192319</td>\n",
       "      <td>-0.859093</td>\n",
       "      <td>-0.606266</td>\n",
       "      <td>-0.264206</td>\n",
       "      <td>-0.859093</td>\n",
       "      <td>-0.366513</td>\n",
       "      <td>-0.264206</td>\n",
       "      <td>-0.192319</td>\n",
       "      <td>3.234405</td>\n",
       "      <td>-0.009676</td>\n",
       "      <td>-0.009676</td>\n",
       "      <td>-0.019355</td>\n",
       "      <td>-0.025607</td>\n",
       "      <td>-0.477301</td>\n",
       "      <td>-0.175733</td>\n",
       "      <td>0.528906</td>\n",
       "      <td>-0.009676</td>\n",
       "      <td>-0.335203</td>\n",
       "      <td>-0.692904</td>\n",
       "      <td>-0.685369</td>\n",
       "      <td>-0.337788</td>\n",
       "      <td>-0.817962</td>\n",
       "      <td>1.718537</td>\n",
       "    </tr>\n",
       "    <tr>\n",
       "      <th>1</th>\n",
       "      <td>1.741432</td>\n",
       "      <td>-0.390028</td>\n",
       "      <td>2.258432</td>\n",
       "      <td>-0.136005</td>\n",
       "      <td>-0.487769</td>\n",
       "      <td>-0.751445</td>\n",
       "      <td>-0.357248</td>\n",
       "      <td>-0.287972</td>\n",
       "      <td>-0.009676</td>\n",
       "      <td>-0.217382</td>\n",
       "      <td>-0.192319</td>\n",
       "      <td>-0.859093</td>\n",
       "      <td>1.649441</td>\n",
       "      <td>-0.264206</td>\n",
       "      <td>-0.859093</td>\n",
       "      <td>-0.366513</td>\n",
       "      <td>-0.264206</td>\n",
       "      <td>-0.192319</td>\n",
       "      <td>-0.309176</td>\n",
       "      <td>-0.009676</td>\n",
       "      <td>-0.009676</td>\n",
       "      <td>-0.019355</td>\n",
       "      <td>-0.025607</td>\n",
       "      <td>-0.477301</td>\n",
       "      <td>-0.175733</td>\n",
       "      <td>0.528906</td>\n",
       "      <td>-0.009676</td>\n",
       "      <td>-0.335203</td>\n",
       "      <td>1.443201</td>\n",
       "      <td>-0.685369</td>\n",
       "      <td>2.960434</td>\n",
       "      <td>-0.817962</td>\n",
       "      <td>-0.581890</td>\n",
       "    </tr>\n",
       "    <tr>\n",
       "      <th>2</th>\n",
       "      <td>1.741432</td>\n",
       "      <td>0.978676</td>\n",
       "      <td>-0.442785</td>\n",
       "      <td>-0.136005</td>\n",
       "      <td>-0.487769</td>\n",
       "      <td>1.330769</td>\n",
       "      <td>-0.357248</td>\n",
       "      <td>-0.287972</td>\n",
       "      <td>-0.009676</td>\n",
       "      <td>-0.217382</td>\n",
       "      <td>-0.192319</td>\n",
       "      <td>1.164018</td>\n",
       "      <td>-0.606266</td>\n",
       "      <td>-0.264206</td>\n",
       "      <td>1.164018</td>\n",
       "      <td>-0.366513</td>\n",
       "      <td>-0.264206</td>\n",
       "      <td>-0.192319</td>\n",
       "      <td>-0.309176</td>\n",
       "      <td>-0.009676</td>\n",
       "      <td>-0.009676</td>\n",
       "      <td>-0.019355</td>\n",
       "      <td>-0.025607</td>\n",
       "      <td>-0.477301</td>\n",
       "      <td>-0.175733</td>\n",
       "      <td>0.528906</td>\n",
       "      <td>-0.009676</td>\n",
       "      <td>-0.335203</td>\n",
       "      <td>-0.692904</td>\n",
       "      <td>1.459069</td>\n",
       "      <td>-0.337788</td>\n",
       "      <td>1.222550</td>\n",
       "      <td>-0.581890</td>\n",
       "    </tr>\n",
       "    <tr>\n",
       "      <th>3</th>\n",
       "      <td>0.260383</td>\n",
       "      <td>-0.626351</td>\n",
       "      <td>-0.442785</td>\n",
       "      <td>-0.136005</td>\n",
       "      <td>2.050151</td>\n",
       "      <td>-0.751445</td>\n",
       "      <td>-0.357248</td>\n",
       "      <td>-0.287972</td>\n",
       "      <td>-0.009676</td>\n",
       "      <td>-0.217382</td>\n",
       "      <td>-0.192319</td>\n",
       "      <td>-0.859093</td>\n",
       "      <td>1.649441</td>\n",
       "      <td>-0.264206</td>\n",
       "      <td>-0.859093</td>\n",
       "      <td>-0.366513</td>\n",
       "      <td>-0.264206</td>\n",
       "      <td>-0.192319</td>\n",
       "      <td>-0.309176</td>\n",
       "      <td>-0.009676</td>\n",
       "      <td>-0.009676</td>\n",
       "      <td>-0.019355</td>\n",
       "      <td>-0.025607</td>\n",
       "      <td>-0.477301</td>\n",
       "      <td>-0.175733</td>\n",
       "      <td>0.528906</td>\n",
       "      <td>-0.009676</td>\n",
       "      <td>-0.335203</td>\n",
       "      <td>1.443201</td>\n",
       "      <td>-0.685369</td>\n",
       "      <td>-0.337788</td>\n",
       "      <td>-0.817962</td>\n",
       "      <td>1.718537</td>\n",
       "    </tr>\n",
       "    <tr>\n",
       "      <th>4</th>\n",
       "      <td>0.260383</td>\n",
       "      <td>-0.705125</td>\n",
       "      <td>-0.442785</td>\n",
       "      <td>-0.136005</td>\n",
       "      <td>2.050151</td>\n",
       "      <td>-0.751445</td>\n",
       "      <td>-0.357248</td>\n",
       "      <td>-0.287972</td>\n",
       "      <td>-0.009676</td>\n",
       "      <td>-0.217382</td>\n",
       "      <td>-0.192319</td>\n",
       "      <td>-0.859093</td>\n",
       "      <td>-0.606266</td>\n",
       "      <td>-0.264206</td>\n",
       "      <td>-0.859093</td>\n",
       "      <td>-0.366513</td>\n",
       "      <td>-0.264206</td>\n",
       "      <td>-0.192319</td>\n",
       "      <td>3.234405</td>\n",
       "      <td>-0.009676</td>\n",
       "      <td>-0.009676</td>\n",
       "      <td>-0.019355</td>\n",
       "      <td>-0.025607</td>\n",
       "      <td>-0.477301</td>\n",
       "      <td>-0.175733</td>\n",
       "      <td>0.528906</td>\n",
       "      <td>-0.009676</td>\n",
       "      <td>-0.335203</td>\n",
       "      <td>-0.692904</td>\n",
       "      <td>-0.685369</td>\n",
       "      <td>-0.337788</td>\n",
       "      <td>-0.817962</td>\n",
       "      <td>-0.581890</td>\n",
       "    </tr>\n",
       "  </tbody>\n",
       "</table>\n",
       "</div>"
      ],
      "text/plain": [
       "   Total_Stops  travel_duration  ...  time_day_Morning  time_day_Night\n",
       "0    -1.220666        -0.931601  ...         -0.817962        1.718537\n",
       "1     1.741432        -0.390028  ...         -0.817962       -0.581890\n",
       "2     1.741432         0.978676  ...          1.222550       -0.581890\n",
       "3     0.260383        -0.626351  ...         -0.817962        1.718537\n",
       "4     0.260383        -0.705125  ...         -0.817962       -0.581890\n",
       "\n",
       "[5 rows x 33 columns]"
      ]
     },
     "execution_count": 77,
     "metadata": {
      "tags": []
     },
     "output_type": "execute_result"
    }
   ],
   "source": [
    "#Data scaling to achieve more accuracy\n",
    "from sklearn.preprocessing import StandardScaler\n",
    "sc=StandardScaler()\n",
    "x=sc.fit_transform(df_x)\n",
    "x=pd.DataFrame(x,columns=df_x.columns)\n",
    "x.head()"
   ]
  },
  {
   "cell_type": "code",
   "execution_count": 78,
   "metadata": {
    "colab": {
     "base_uri": "https://localhost:8080/"
    },
    "executionInfo": {
     "elapsed": 436,
     "status": "ok",
     "timestamp": 1625857416960,
     "user": {
      "displayName": "Akash Talwar",
      "photoUrl": "https://lh3.googleusercontent.com/a-/AOh14GhsGyfKUqb496jz_lKHO4lCUdAD6jrECtPc4YCoNA=s64",
      "userId": "00480072323501141751"
     },
     "user_tz": -330
    },
    "id": "op70dcGmnqE4",
    "outputId": "8aa3771a-9fe9-4ff0-e861-96a48d7dc493"
   },
   "outputs": [
    {
     "name": "stdout",
     "output_type": "stream",
     "text": [
      "Percentage info retained in data= 99.99999999999999\n"
     ]
    }
   ],
   "source": [
    "#Considering n_components\n",
    "from sklearn.decomposition import PCA\n",
    "pca=PCA(n_components=30)\n",
    "pc_x=pca.fit_transform(x)\n",
    "\n",
    "#Information retained in data after dimensionality reduction\n",
    "print(\"Percentage info retained in data=\",(sum(pca.explained_variance_ratio_)*100))"
   ]
  },
  {
   "cell_type": "markdown",
   "metadata": {
    "id": "FdPPqSVbnqE5"
   },
   "source": [
    "# Building Machine Learning Models"
   ]
  },
  {
   "cell_type": "code",
   "execution_count": 79,
   "metadata": {
    "executionInfo": {
     "elapsed": 366,
     "status": "ok",
     "timestamp": 1625857425523,
     "user": {
      "displayName": "Akash Talwar",
      "photoUrl": "https://lh3.googleusercontent.com/a-/AOh14GhsGyfKUqb496jz_lKHO4lCUdAD6jrECtPc4YCoNA=s64",
      "userId": "00480072323501141751"
     },
     "user_tz": -330
    },
    "id": "skz1JdEHnqE5"
   },
   "outputs": [],
   "source": [
    "#Check best random state: Considering r2 metrics\n",
    "#User-defined function to find r2 score:\n",
    "from sklearn.metrics import mean_absolute_error\n",
    "from sklearn.metrics import mean_squared_error\n",
    "from sklearn.metrics import r2_score\n",
    "from sklearn.model_selection import train_test_split\n",
    "def maxr2_score(regr,x,y):\n",
    "    max_r_score=0\n",
    "    for r_state in range(42,100):\n",
    "        x_train, x_test, y_train, y_test = train_test_split(x, y,random_state = r_state,test_size=0.20)\n",
    "        regr.fit(x_train,y_train)\n",
    "        y_pred = regr.predict(x_test)\n",
    "        r2_scr=r2_score(y_test,y_pred)\n",
    "        if r2_scr>max_r_score:\n",
    "            max_r_score=r2_scr\n",
    "            final_r_state=r_state\n",
    "    print(\"max r2 score corresponding to \",final_r_state,\" is \",max_r_score)\n",
    "    return final_r_state"
   ]
  },
  {
   "cell_type": "code",
   "execution_count": 80,
   "metadata": {
    "executionInfo": {
     "elapsed": 390,
     "status": "ok",
     "timestamp": 1625857439198,
     "user": {
      "displayName": "Akash Talwar",
      "photoUrl": "https://lh3.googleusercontent.com/a-/AOh14GhsGyfKUqb496jz_lKHO4lCUdAD6jrECtPc4YCoNA=s64",
      "userId": "00480072323501141751"
     },
     "user_tz": -330
    },
    "id": "ANnb5DABnqE6"
   },
   "outputs": [],
   "source": [
    "#User defined function for cross-validation\n",
    "from sklearn.model_selection import cross_val_score\n",
    "def cross_val(model,x,y):\n",
    "    cv=cross_val_score(model,x,y,cv=5,scoring=\"r2\")\n",
    "    print(\"Mean r2 score for regressor: \",cv.mean())\n",
    "    print(cv)"
   ]
  },
  {
   "cell_type": "code",
   "execution_count": 81,
   "metadata": {
    "executionInfo": {
     "elapsed": 640,
     "status": "ok",
     "timestamp": 1625857443265,
     "user": {
      "displayName": "Akash Talwar",
      "photoUrl": "https://lh3.googleusercontent.com/a-/AOh14GhsGyfKUqb496jz_lKHO4lCUdAD6jrECtPc4YCoNA=s64",
      "userId": "00480072323501141751"
     },
     "user_tz": -330
    },
    "id": "9Waqwx7gnqE7"
   },
   "outputs": [],
   "source": [
    "#As datapoints are huge in number, we will check model for best \"r2- score\" then proceed with hyper-parameter tuning."
   ]
  },
  {
   "cell_type": "markdown",
   "metadata": {
    "id": "fGGSCFgUnqE8"
   },
   "source": [
    "# 1. Decision Tree Regression"
   ]
  },
  {
   "cell_type": "code",
   "execution_count": 84,
   "metadata": {
    "colab": {
     "base_uri": "https://localhost:8080/"
    },
    "executionInfo": {
     "elapsed": 15242,
     "status": "ok",
     "timestamp": 1625857560123,
     "user": {
      "displayName": "Akash Talwar",
      "photoUrl": "https://lh3.googleusercontent.com/a-/AOh14GhsGyfKUqb496jz_lKHO4lCUdAD6jrECtPc4YCoNA=s64",
      "userId": "00480072323501141751"
     },
     "user_tz": -330
    },
    "id": "0aWPTtxSnqE8",
    "outputId": "a85029bb-42a0-4999-f2d0-d4dcf77a42eb"
   },
   "outputs": [
    {
     "name": "stdout",
     "output_type": "stream",
     "text": [
      "max r2 score corresponding to  75  is  0.7307276887055678\n"
     ]
    }
   ],
   "source": [
    "#Decision tree regressor\n",
    "from sklearn.tree import DecisionTreeRegressor\n",
    "dtr=DecisionTreeRegressor()\n",
    "dt_r2=maxr2_score(dtr,pc_x,y)"
   ]
  },
  {
   "cell_type": "code",
   "execution_count": 85,
   "metadata": {
    "colab": {
     "base_uri": "https://localhost:8080/"
    },
    "executionInfo": {
     "elapsed": 1067,
     "status": "ok",
     "timestamp": 1625857561163,
     "user": {
      "displayName": "Akash Talwar",
      "photoUrl": "https://lh3.googleusercontent.com/a-/AOh14GhsGyfKUqb496jz_lKHO4lCUdAD6jrECtPc4YCoNA=s64",
      "userId": "00480072323501141751"
     },
     "user_tz": -330
    },
    "id": "VfGAESbmnqE9",
    "outputId": "a4f77ab6-2d96-45a7-f862-aafb3aa4af82"
   },
   "outputs": [
    {
     "name": "stdout",
     "output_type": "stream",
     "text": [
      "Mean r2 score for regressor:  0.6495712169717708\n",
      "[0.65064417 0.63546176 0.65711433 0.61770705 0.68692878]\n"
     ]
    }
   ],
   "source": [
    "#Cross validation (Decision tree)\n",
    "cross_val(dtr,pc_x,y)"
   ]
  },
  {
   "cell_type": "markdown",
   "metadata": {
    "id": "QNzqjIjanqE-"
   },
   "source": [
    "# 2. K-Nearest Neighbor Regressor"
   ]
  },
  {
   "cell_type": "code",
   "execution_count": 86,
   "metadata": {
    "colab": {
     "base_uri": "https://localhost:8080/"
    },
    "executionInfo": {
     "elapsed": 7152,
     "status": "ok",
     "timestamp": 1625857590831,
     "user": {
      "displayName": "Akash Talwar",
      "photoUrl": "https://lh3.googleusercontent.com/a-/AOh14GhsGyfKUqb496jz_lKHO4lCUdAD6jrECtPc4YCoNA=s64",
      "userId": "00480072323501141751"
     },
     "user_tz": -330
    },
    "id": "n7ZDtyWKnqE-",
    "outputId": "39b3d210-a921-45fb-9d87-e6af86eae038"
   },
   "outputs": [
    {
     "name": "stdout",
     "output_type": "stream",
     "text": [
      "max r2 score corresponding to  98  is  0.7643862665654877\n"
     ]
    }
   ],
   "source": [
    "from sklearn.neighbors import KNeighborsRegressor\n",
    "knr=KNeighborsRegressor()\n",
    "r_state=maxr2_score(knr,pc_x,y)"
   ]
  },
  {
   "cell_type": "code",
   "execution_count": 87,
   "metadata": {
    "colab": {
     "base_uri": "https://localhost:8080/"
    },
    "executionInfo": {
     "elapsed": 1013,
     "status": "ok",
     "timestamp": 1625857601282,
     "user": {
      "displayName": "Akash Talwar",
      "photoUrl": "https://lh3.googleusercontent.com/a-/AOh14GhsGyfKUqb496jz_lKHO4lCUdAD6jrECtPc4YCoNA=s64",
      "userId": "00480072323501141751"
     },
     "user_tz": -330
    },
    "id": "D2vjoqevnqE_",
    "outputId": "496e430c-c33a-4f55-ed16-08c800854a7b"
   },
   "outputs": [
    {
     "name": "stdout",
     "output_type": "stream",
     "text": [
      "Mean r2 score for regressor:  0.7317701629043782\n",
      "[0.72845965 0.75428919 0.7298101  0.7219862  0.72430568]\n"
     ]
    }
   ],
   "source": [
    "#Cross validation (KNN Classifier)\n",
    "cross_val(knr,pc_x,y)"
   ]
  },
  {
   "cell_type": "markdown",
   "metadata": {
    "id": "olQ8BfDSnqFA"
   },
   "source": [
    "# 3. Support Vector Regressor"
   ]
  },
  {
   "cell_type": "code",
   "execution_count": 88,
   "metadata": {
    "colab": {
     "base_uri": "https://localhost:8080/"
    },
    "executionInfo": {
     "elapsed": 534200,
     "status": "ok",
     "timestamp": 1625858181000,
     "user": {
      "displayName": "Akash Talwar",
      "photoUrl": "https://lh3.googleusercontent.com/a-/AOh14GhsGyfKUqb496jz_lKHO4lCUdAD6jrECtPc4YCoNA=s64",
      "userId": "00480072323501141751"
     },
     "user_tz": -330
    },
    "id": "5GGVGITanqFA",
    "outputId": "9886920a-77b3-4e78-cea9-ca99e2862d96"
   },
   "outputs": [
    {
     "name": "stdout",
     "output_type": "stream",
     "text": [
      "max r2 score corresponding to  64  is  0.08270371862471748\n"
     ]
    }
   ],
   "source": [
    "from sklearn.svm import SVR\n",
    "svr=SVR()\n",
    "svr_r2=maxr2_score(svr,pc_x,y)"
   ]
  },
  {
   "cell_type": "code",
   "execution_count": 89,
   "metadata": {
    "colab": {
     "base_uri": "https://localhost:8080/"
    },
    "executionInfo": {
     "elapsed": 45633,
     "status": "ok",
     "timestamp": 1625858226622,
     "user": {
      "displayName": "Akash Talwar",
      "photoUrl": "https://lh3.googleusercontent.com/a-/AOh14GhsGyfKUqb496jz_lKHO4lCUdAD6jrECtPc4YCoNA=s64",
      "userId": "00480072323501141751"
     },
     "user_tz": -330
    },
    "id": "zrx3ZrXBnqFB",
    "outputId": "e753b5e8-efc3-4c49-e367-fd957db12423"
   },
   "outputs": [
    {
     "name": "stdout",
     "output_type": "stream",
     "text": [
      "Mean r2 score for regressor:  0.05833071850657736\n",
      "[0.05435583 0.0426462  0.06507786 0.07585491 0.0537188 ]\n"
     ]
    }
   ],
   "source": [
    "#Cross validation (SVR)\n",
    "cross_val(svr,pc_x,y)"
   ]
  },
  {
   "cell_type": "markdown",
   "metadata": {
    "id": "Cuqdik9_nqFB"
   },
   "source": [
    "# 4. Random Forest Regressor"
   ]
  },
  {
   "cell_type": "code",
   "execution_count": 90,
   "metadata": {
    "colab": {
     "base_uri": "https://localhost:8080/"
    },
    "executionInfo": {
     "elapsed": 1001468,
     "status": "ok",
     "timestamp": 1625859228066,
     "user": {
      "displayName": "Akash Talwar",
      "photoUrl": "https://lh3.googleusercontent.com/a-/AOh14GhsGyfKUqb496jz_lKHO4lCUdAD6jrECtPc4YCoNA=s64",
      "userId": "00480072323501141751"
     },
     "user_tz": -330
    },
    "id": "E1IVdTeAnqFC",
    "outputId": "196b424d-4fed-4c46-b667-5ee1d1185f55"
   },
   "outputs": [
    {
     "name": "stdout",
     "output_type": "stream",
     "text": [
      "max r2 score corresponding to  81  is  0.7678926079900379\n"
     ]
    }
   ],
   "source": [
    "#Check maxr2_score function\n",
    "from sklearn.ensemble import RandomForestRegressor\n",
    "rfr=RandomForestRegressor()\n",
    "rfr_r2=maxr2_score(rfr,pc_x,y)"
   ]
  },
  {
   "cell_type": "code",
   "execution_count": 91,
   "metadata": {
    "colab": {
     "base_uri": "https://localhost:8080/"
    },
    "executionInfo": {
     "elapsed": 87211,
     "status": "ok",
     "timestamp": 1625859315250,
     "user": {
      "displayName": "Akash Talwar",
      "photoUrl": "https://lh3.googleusercontent.com/a-/AOh14GhsGyfKUqb496jz_lKHO4lCUdAD6jrECtPc4YCoNA=s64",
      "userId": "00480072323501141751"
     },
     "user_tz": -330
    },
    "id": "E4es730nnqFD",
    "outputId": "c717511b-b57e-40a8-fa1b-0a25baa061e4"
   },
   "outputs": [
    {
     "name": "stdout",
     "output_type": "stream",
     "text": [
      "Mean r2 score for regressor:  0.7249212924487041\n",
      "[0.70547105 0.7288491  0.7190134  0.72126606 0.75000686]\n"
     ]
    }
   ],
   "source": [
    "#Cross validation (Random Forest)\n",
    "cross_val(rfr,pc_x,y)"
   ]
  },
  {
   "cell_type": "markdown",
   "metadata": {
    "id": "-3_jIcAbnqFD"
   },
   "source": [
    "# 5. Ada-Boost Regressor"
   ]
  },
  {
   "cell_type": "code",
   "execution_count": 92,
   "metadata": {
    "colab": {
     "base_uri": "https://localhost:8080/"
    },
    "executionInfo": {
     "elapsed": 61673,
     "status": "ok",
     "timestamp": 1625859376899,
     "user": {
      "displayName": "Akash Talwar",
      "photoUrl": "https://lh3.googleusercontent.com/a-/AOh14GhsGyfKUqb496jz_lKHO4lCUdAD6jrECtPc4YCoNA=s64",
      "userId": "00480072323501141751"
     },
     "user_tz": -330
    },
    "id": "N-R_sp6BnqFE",
    "outputId": "226e8167-c873-4920-f29c-037dc59208d6"
   },
   "outputs": [
    {
     "name": "stdout",
     "output_type": "stream",
     "text": [
      "max r2 score corresponding to  75  is  0.5834932166116553\n"
     ]
    }
   ],
   "source": [
    "from sklearn.ensemble import AdaBoostRegressor\n",
    "adr=AdaBoostRegressor()\n",
    "r_state=maxr2_score(adr,pc_x,y)"
   ]
  },
  {
   "cell_type": "code",
   "execution_count": 93,
   "metadata": {
    "colab": {
     "base_uri": "https://localhost:8080/"
    },
    "executionInfo": {
     "elapsed": 5817,
     "status": "ok",
     "timestamp": 1625859382686,
     "user": {
      "displayName": "Akash Talwar",
      "photoUrl": "https://lh3.googleusercontent.com/a-/AOh14GhsGyfKUqb496jz_lKHO4lCUdAD6jrECtPc4YCoNA=s64",
      "userId": "00480072323501141751"
     },
     "user_tz": -330
    },
    "id": "Q6bUuZP_nqFE",
    "outputId": "a63c251e-094d-4a09-fb69-31a639a182f3"
   },
   "outputs": [
    {
     "name": "stdout",
     "output_type": "stream",
     "text": [
      "Mean r2 score for regressor:  0.4514272207916214\n",
      "[0.4801641  0.42514035 0.40611249 0.39933072 0.54638844]\n"
     ]
    }
   ],
   "source": [
    "#Cross validation (Adaboost Regressor)\n",
    "cross_val(adr,pc_x,y)"
   ]
  },
  {
   "cell_type": "markdown",
   "metadata": {
    "id": "4AmAsGlvnqFF"
   },
   "source": [
    "# 6. Linear Regression"
   ]
  },
  {
   "cell_type": "code",
   "execution_count": 94,
   "metadata": {
    "colab": {
     "base_uri": "https://localhost:8080/"
    },
    "executionInfo": {
     "elapsed": 1735,
     "status": "ok",
     "timestamp": 1625859384389,
     "user": {
      "displayName": "Akash Talwar",
      "photoUrl": "https://lh3.googleusercontent.com/a-/AOh14GhsGyfKUqb496jz_lKHO4lCUdAD6jrECtPc4YCoNA=s64",
      "userId": "00480072323501141751"
     },
     "user_tz": -330
    },
    "id": "eoO0A6UTnqFG",
    "outputId": "c83bee23-69ed-4efe-8543-0920a195ce9e"
   },
   "outputs": [
    {
     "name": "stdout",
     "output_type": "stream",
     "text": [
      "max r2 score corresponding to  75  is  0.7211372788790399\n"
     ]
    }
   ],
   "source": [
    "#Linear Regressor\n",
    "from sklearn.linear_model import LinearRegression\n",
    "lr=LinearRegression()\n",
    "r_state=maxr2_score(lr,pc_x,y)"
   ]
  },
  {
   "cell_type": "code",
   "execution_count": 95,
   "metadata": {
    "colab": {
     "base_uri": "https://localhost:8080/"
    },
    "executionInfo": {
     "elapsed": 27,
     "status": "ok",
     "timestamp": 1625859384390,
     "user": {
      "displayName": "Akash Talwar",
      "photoUrl": "https://lh3.googleusercontent.com/a-/AOh14GhsGyfKUqb496jz_lKHO4lCUdAD6jrECtPc4YCoNA=s64",
      "userId": "00480072323501141751"
     },
     "user_tz": -330
    },
    "id": "gTHu-HpMnqFI",
    "outputId": "627ce03e-703f-4492-a504-5ac84b3e544a"
   },
   "outputs": [
    {
     "name": "stdout",
     "output_type": "stream",
     "text": [
      "Mean r2 score for regressor:  -1.1260919275284046e+19\n",
      "[ 6.31613986e-01 -1.75268860e+19  6.68841911e-01 -3.76168643e+19\n",
      " -1.16084609e+18]\n"
     ]
    }
   ],
   "source": [
    "#Cross validation (Linear Regressor)\n",
    "cross_val(lr,pc_x,y)"
   ]
  },
  {
   "cell_type": "code",
   "execution_count": 102,
   "metadata": {
    "executionInfo": {
     "elapsed": 399,
     "status": "ok",
     "timestamp": 1625860495085,
     "user": {
      "displayName": "Akash Talwar",
      "photoUrl": "https://lh3.googleusercontent.com/a-/AOh14GhsGyfKUqb496jz_lKHO4lCUdAD6jrECtPc4YCoNA=s64",
      "userId": "00480072323501141751"
     },
     "user_tz": -330
    },
    "id": "CaduuE_fwHDF"
   },
   "outputs": [],
   "source": [
    "# Random forest & KNNR are the best performing model"
   ]
  },
  {
   "cell_type": "code",
   "execution_count": 98,
   "metadata": {
    "colab": {
     "base_uri": "https://localhost:8080/"
    },
    "executionInfo": {
     "elapsed": 42488,
     "status": "ok",
     "timestamp": 1625860006912,
     "user": {
      "displayName": "Akash Talwar",
      "photoUrl": "https://lh3.googleusercontent.com/a-/AOh14GhsGyfKUqb496jz_lKHO4lCUdAD6jrECtPc4YCoNA=s64",
      "userId": "00480072323501141751"
     },
     "user_tz": -330
    },
    "id": "pJCsmz8lwEvI",
    "outputId": "2808a85f-920d-48d4-e008-34c5201d6a4f"
   },
   "outputs": [
    {
     "data": {
      "text/plain": [
       "{'n_neighbors': 5}"
      ]
     },
     "execution_count": 98,
     "metadata": {
      "tags": []
     },
     "output_type": "execute_result"
    }
   ],
   "source": [
    "#Hyper parameter tuning\n",
    "#Lets use KNN regressor but we will find the optimal value of n_neigbors using grid search\n",
    "from sklearn.neighbors import KNeighborsRegressor\n",
    "from sklearn.model_selection import GridSearchCV\n",
    "knr=KNeighborsRegressor()\n",
    "parameters = {\"n_neighbors\":range(2,30)}\n",
    "rgr = GridSearchCV(knr, parameters, cv=10)\n",
    "rgr.fit(pc_x, y)\n",
    "rgr.best_params_"
   ]
  },
  {
   "cell_type": "code",
   "execution_count": 99,
   "metadata": {
    "colab": {
     "base_uri": "https://localhost:8080/"
    },
    "executionInfo": {
     "elapsed": 6884,
     "status": "ok",
     "timestamp": 1625860067689,
     "user": {
      "displayName": "Akash Talwar",
      "photoUrl": "https://lh3.googleusercontent.com/a-/AOh14GhsGyfKUqb496jz_lKHO4lCUdAD6jrECtPc4YCoNA=s64",
      "userId": "00480072323501141751"
     },
     "user_tz": -330
    },
    "id": "jW0TBSYpzlO9",
    "outputId": "ab240bcd-aa79-489d-a65b-02d141d7bd5f"
   },
   "outputs": [
    {
     "name": "stdout",
     "output_type": "stream",
     "text": [
      "max r2 score corresponding to  98  is  0.7643862665654877\n"
     ]
    }
   ],
   "source": [
    "from sklearn.neighbors import KNeighborsRegressor\n",
    "knr=KNeighborsRegressor(n_neighbors=5)\n",
    "r_state=maxr2_score(knr,pc_x,y)"
   ]
  },
  {
   "cell_type": "code",
   "execution_count": 101,
   "metadata": {
    "colab": {
     "base_uri": "https://localhost:8080/"
    },
    "executionInfo": {
     "elapsed": 391,
     "status": "ok",
     "timestamp": 1625860407461,
     "user": {
      "displayName": "Akash Talwar",
      "photoUrl": "https://lh3.googleusercontent.com/a-/AOh14GhsGyfKUqb496jz_lKHO4lCUdAD6jrECtPc4YCoNA=s64",
      "userId": "00480072323501141751"
     },
     "user_tz": -330
    },
    "id": "tr37gCauwE16",
    "outputId": "346fe5ee-c9ef-43d9-ac43-c562d7db653f"
   },
   "outputs": [
    {
     "name": "stdout",
     "output_type": "stream",
     "text": [
      "R2 score= 0.7643862665654877\n",
      "RMSE= 2076.27144931712\n",
      "Mean abs error= 1153.1884885353297\n"
     ]
    }
   ],
   "source": [
    "#KNNR with hyper parameters\n",
    "# Random state= 98\n",
    "# Parameter={'n_neighbors': 5}\n",
    "x_train,x_test,y_train,y_test=train_test_split(pc_x,y,test_size=0.2,random_state=98)\n",
    "knr=KNeighborsRegressor(n_neighbors=5)\n",
    "knr.fit(x_train,y_train)\n",
    "y_pred=knr.predict(x_test)\n",
    "print(\"R2 score=\",r2_score(y_test,y_pred))\n",
    "print(\"RMSE=\",np.sqrt(mean_squared_error(y_test,y_pred)))\n",
    "print(\"Mean abs error=\",mean_absolute_error(y_test,y_pred))"
   ]
  },
  {
   "cell_type": "code",
   "execution_count": 103,
   "metadata": {
    "colab": {
     "base_uri": "https://localhost:8080/"
    },
    "executionInfo": {
     "elapsed": 635660,
     "status": "ok",
     "timestamp": 1625861320157,
     "user": {
      "displayName": "Akash Talwar",
      "photoUrl": "https://lh3.googleusercontent.com/a-/AOh14GhsGyfKUqb496jz_lKHO4lCUdAD6jrECtPc4YCoNA=s64",
      "userId": "00480072323501141751"
     },
     "user_tz": -330
    },
    "id": "3oD3-ON817_2",
    "outputId": "53ab4ab6-21d6-4e58-9d04-06af204dd19e"
   },
   "outputs": [
    {
     "data": {
      "text/plain": [
       "{'n_estimators': 500}"
      ]
     },
     "execution_count": 103,
     "metadata": {
      "tags": []
     },
     "output_type": "execute_result"
    }
   ],
   "source": [
    "#Hyper Parameter tuning (random forest regressor)\n",
    "from sklearn.ensemble import RandomForestRegressor\n",
    "from sklearn.model_selection import GridSearchCV\n",
    "rfr=RandomForestRegressor()\n",
    "parameters = {\"n_estimators\":[10,100,500]}\n",
    "rgr = GridSearchCV(rfr, parameters, cv=5)\n",
    "rgr.fit(pc_x, y)\n",
    "rgr.best_params_"
   ]
  },
  {
   "cell_type": "code",
   "execution_count": 104,
   "metadata": {
    "colab": {
     "base_uri": "https://localhost:8080/"
    },
    "executionInfo": {
     "elapsed": 87141,
     "status": "ok",
     "timestamp": 1625861488065,
     "user": {
      "displayName": "Akash Talwar",
      "photoUrl": "https://lh3.googleusercontent.com/a-/AOh14GhsGyfKUqb496jz_lKHO4lCUdAD6jrECtPc4YCoNA=s64",
      "userId": "00480072323501141751"
     },
     "user_tz": -330
    },
    "id": "tA8dpFDE18JR",
    "outputId": "b1d94e9c-4d93-4395-d030-c8f443e989b3"
   },
   "outputs": [
    {
     "name": "stdout",
     "output_type": "stream",
     "text": [
      "R2 score= 0.7651406576986968\n",
      "RMSE= 2153.460303395442\n",
      "Mean abs error= 1066.6920228571516\n"
     ]
    }
   ],
   "source": [
    "#Random Forest with hyper parameters\n",
    "# Random state= 81\n",
    "# Parameter={'n_estimators': 500}\n",
    "\n",
    "x_train,x_test,y_train,y_test=train_test_split(pc_x,y,test_size=0.2,random_state=81)\n",
    "rfr=RandomForestRegressor(n_estimators=500)\n",
    "rfr.fit(x_train,y_train)\n",
    "y_pred=rfr.predict(x_test)\n",
    "print(\"R2 score=\",r2_score(y_test,y_pred))\n",
    "print(\"RMSE=\",np.sqrt(mean_squared_error(y_test,y_pred)))\n",
    "print(\"Mean abs error=\",mean_absolute_error(y_test,y_pred))"
   ]
  },
  {
   "cell_type": "code",
   "execution_count": null,
   "metadata": {
    "id": "JY4f09lT5Gai"
   },
   "outputs": [],
   "source": [
    "#K-Nearest Neighbor Regressor has relatively high R2 score & less RMSE. \n",
    "#Therefore KNNR is best performing model."
   ]
  },
  {
   "cell_type": "code",
   "execution_count": 105,
   "metadata": {
    "executionInfo": {
     "elapsed": 382,
     "status": "ok",
     "timestamp": 1625862078620,
     "user": {
      "displayName": "Akash Talwar",
      "photoUrl": "https://lh3.googleusercontent.com/a-/AOh14GhsGyfKUqb496jz_lKHO4lCUdAD6jrECtPc4YCoNA=s64",
      "userId": "00480072323501141751"
     },
     "user_tz": -330
    },
    "id": "qoTRYROB5Gfg"
   },
   "outputs": [],
   "source": [
    "#Predict the values for test dataset\n",
    "#Transform test dataset as per PCA\n",
    "pca=PCA(n_components=30)\n",
    "pc_x_test=pca.fit_transform(df_test_final)"
   ]
  },
  {
   "cell_type": "code",
   "execution_count": 106,
   "metadata": {
    "executionInfo": {
     "elapsed": 1689,
     "status": "ok",
     "timestamp": 1625862346322,
     "user": {
      "displayName": "Akash Talwar",
      "photoUrl": "https://lh3.googleusercontent.com/a-/AOh14GhsGyfKUqb496jz_lKHO4lCUdAD6jrECtPc4YCoNA=s64",
      "userId": "00480072323501141751"
     },
     "user_tz": -330
    },
    "id": "8I0tB1n_7CbB"
   },
   "outputs": [],
   "source": [
    "#Predict price for test dataset using KNNR\n",
    "pred_price=knr.predict(pc_x_test)\n"
   ]
  },
  {
   "cell_type": "code",
   "execution_count": 107,
   "metadata": {
    "executionInfo": {
     "elapsed": 397,
     "status": "ok",
     "timestamp": 1625862426336,
     "user": {
      "displayName": "Akash Talwar",
      "photoUrl": "https://lh3.googleusercontent.com/a-/AOh14GhsGyfKUqb496jz_lKHO4lCUdAD6jrECtPc4YCoNA=s64",
      "userId": "00480072323501141751"
     },
     "user_tz": -330
    },
    "id": "k9smEuvy8p4A"
   },
   "outputs": [],
   "source": [
    "#Save into dataframe\n",
    "pred_price=pd.DataFrame(pred_price,columns=[\"Price\"])"
   ]
  },
  {
   "cell_type": "code",
   "execution_count": 109,
   "metadata": {
    "executionInfo": {
     "elapsed": 405,
     "status": "ok",
     "timestamp": 1625862605350,
     "user": {
      "displayName": "Akash Talwar",
      "photoUrl": "https://lh3.googleusercontent.com/a-/AOh14GhsGyfKUqb496jz_lKHO4lCUdAD6jrECtPc4YCoNA=s64",
      "userId": "00480072323501141751"
     },
     "user_tz": -330
    },
    "id": "05pkHGjm898U"
   },
   "outputs": [],
   "source": [
    "#Save in CSV format\n",
    "pred_price.to_csv(\"Flight_Prices_Prediction.csv\",index=False)"
   ]
  },
  {
   "cell_type": "code",
   "execution_count": 111,
   "metadata": {
    "colab": {
     "base_uri": "https://localhost:8080/",
     "height": 17
    },
    "executionInfo": {
     "elapsed": 449,
     "status": "ok",
     "timestamp": 1625862917306,
     "user": {
      "displayName": "Akash Talwar",
      "photoUrl": "https://lh3.googleusercontent.com/a-/AOh14GhsGyfKUqb496jz_lKHO4lCUdAD6jrECtPc4YCoNA=s64",
      "userId": "00480072323501141751"
     },
     "user_tz": -330
    },
    "id": "kdhFxtD7-dSO",
    "outputId": "8907ee1c-1dce-4cea-bf5f-f7a022fd7faa"
   },
   "outputs": [
    {
     "data": {
      "application/javascript": [
       "\n",
       "    async function download(id, filename, size) {\n",
       "      if (!google.colab.kernel.accessAllowed) {\n",
       "        return;\n",
       "      }\n",
       "      const div = document.createElement('div');\n",
       "      const label = document.createElement('label');\n",
       "      label.textContent = `Downloading \"${filename}\": `;\n",
       "      div.appendChild(label);\n",
       "      const progress = document.createElement('progress');\n",
       "      progress.max = size;\n",
       "      div.appendChild(progress);\n",
       "      document.body.appendChild(div);\n",
       "\n",
       "      const buffers = [];\n",
       "      let downloaded = 0;\n",
       "\n",
       "      const channel = await google.colab.kernel.comms.open(id);\n",
       "      // Send a message to notify the kernel that we're ready.\n",
       "      channel.send({})\n",
       "\n",
       "      for await (const message of channel.messages) {\n",
       "        // Send a message to notify the kernel that we're ready.\n",
       "        channel.send({})\n",
       "        if (message.buffers) {\n",
       "          for (const buffer of message.buffers) {\n",
       "            buffers.push(buffer);\n",
       "            downloaded += buffer.byteLength;\n",
       "            progress.value = downloaded;\n",
       "          }\n",
       "        }\n",
       "      }\n",
       "      const blob = new Blob(buffers, {type: 'application/binary'});\n",
       "      const a = document.createElement('a');\n",
       "      a.href = window.URL.createObjectURL(blob);\n",
       "      a.download = filename;\n",
       "      div.appendChild(a);\n",
       "      a.click();\n",
       "      div.remove();\n",
       "    }\n",
       "  "
      ],
      "text/plain": [
       "<IPython.core.display.Javascript object>"
      ]
     },
     "metadata": {
      "tags": []
     },
     "output_type": "display_data"
    },
    {
     "data": {
      "application/javascript": [
       "download(\"download_1d6fe467-cbbb-4454-87b8-a2275761a602\", \"Flight_Prices_Prediction.csv\", 32187)"
      ],
      "text/plain": [
       "<IPython.core.display.Javascript object>"
      ]
     },
     "metadata": {
      "tags": []
     },
     "output_type": "display_data"
    }
   ],
   "source": [
    "from google.colab import files\n",
    "pred_price.to_csv('Flight_Prices_Prediction.csv')         \n",
    "files.download('Flight_Prices_Prediction.csv')"
   ]
  }
 ],
 "metadata": {
  "colab": {
   "collapsed_sections": [],
   "name": "Evaluation Project7- Flight Price Prediction_Regression.ipynb",
   "provenance": []
  },
  "kernelspec": {
   "display_name": "Python 3",
   "language": "python",
   "name": "python3"
  },
  "language_info": {
   "codemirror_mode": {
    "name": "ipython",
    "version": 3
   },
   "file_extension": ".py",
   "mimetype": "text/x-python",
   "name": "python",
   "nbconvert_exporter": "python",
   "pygments_lexer": "ipython3",
   "version": "3.8.5"
  }
 },
 "nbformat": 4,
 "nbformat_minor": 0
}
