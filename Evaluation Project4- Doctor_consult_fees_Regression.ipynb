{
 "cells": [
  {
   "cell_type": "markdown",
   "metadata": {},
   "source": [
    "# Doctor's Consultation Fees Prediction"
   ]
  },
  {
   "cell_type": "raw",
   "metadata": {},
   "source": [
    "Doctor's Consultation Fees Prediction\n",
    "Problem Statement:\n",
    "Predict A Doctor's Consultation Fee \n",
    "\n",
    "We have all been in situation where we go to a doctor in emergency and find that the consultation fees are too high. As a data scientist we all should do better. What if you have data that records important details about a doctor and you get to build a model to predict the doctor’s consulting fee.? This is the use case that let's you do that. \n",
    "\n",
    "Size of training set: 5961 records\n",
    "\n",
    "Size of test set: 1987 records\n",
    "\n",
    "FEATURES:\n",
    "\n",
    "Qualification: Qualification and degrees held by the doctor\n",
    "\n",
    "Experience: Experience of the doctor in number of years\n",
    "\n",
    "Rating: Rating given by patients\n",
    "\n",
    "Profile: Type of the doctor\n",
    "\n",
    "Miscellaneous_Info: Extra information about the doctor\n",
    "\n",
    "Fees: Fees charged by the doctor (Target Variable)\n",
    "\n",
    "Place: Area and the city where the doctor is located."
   ]
  },
  {
   "cell_type": "code",
   "execution_count": 2,
   "metadata": {},
   "outputs": [],
   "source": [
    "#Import libraries\n",
    "import pandas as pd\n",
    "import numpy as np\n",
    "import matplotlib.pyplot as plt\n",
    "import seaborn as sns\n",
    "import warnings\n",
    "warnings.filterwarnings(\"ignore\")"
   ]
  },
  {
   "cell_type": "code",
   "execution_count": 3,
   "metadata": {},
   "outputs": [
    {
     "data": {
      "text/html": [
       "<div>\n",
       "<style scoped>\n",
       "    .dataframe tbody tr th:only-of-type {\n",
       "        vertical-align: middle;\n",
       "    }\n",
       "\n",
       "    .dataframe tbody tr th {\n",
       "        vertical-align: top;\n",
       "    }\n",
       "\n",
       "    .dataframe thead th {\n",
       "        text-align: right;\n",
       "    }\n",
       "</style>\n",
       "<table border=\"1\" class=\"dataframe\">\n",
       "  <thead>\n",
       "    <tr style=\"text-align: right;\">\n",
       "      <th></th>\n",
       "      <th>Qualification</th>\n",
       "      <th>Experience</th>\n",
       "      <th>Rating</th>\n",
       "      <th>Place</th>\n",
       "      <th>Profile</th>\n",
       "      <th>Miscellaneous_Info</th>\n",
       "      <th>Fees</th>\n",
       "    </tr>\n",
       "  </thead>\n",
       "  <tbody>\n",
       "    <tr>\n",
       "      <th>0</th>\n",
       "      <td>BHMS, MD - Homeopathy</td>\n",
       "      <td>24 years experience</td>\n",
       "      <td>100%</td>\n",
       "      <td>Kakkanad, Ernakulam</td>\n",
       "      <td>Homeopath</td>\n",
       "      <td>100% 16 Feedback Kakkanad, Ernakulam</td>\n",
       "      <td>100</td>\n",
       "    </tr>\n",
       "    <tr>\n",
       "      <th>1</th>\n",
       "      <td>BAMS, MD - Ayurveda Medicine</td>\n",
       "      <td>12 years experience</td>\n",
       "      <td>98%</td>\n",
       "      <td>Whitefield, Bangalore</td>\n",
       "      <td>Ayurveda</td>\n",
       "      <td>98% 76 Feedback Whitefield, Bangalore</td>\n",
       "      <td>350</td>\n",
       "    </tr>\n",
       "    <tr>\n",
       "      <th>2</th>\n",
       "      <td>MBBS, MS - Otorhinolaryngology</td>\n",
       "      <td>9 years experience</td>\n",
       "      <td>NaN</td>\n",
       "      <td>Mathikere - BEL, Bangalore</td>\n",
       "      <td>ENT Specialist</td>\n",
       "      <td>NaN</td>\n",
       "      <td>300</td>\n",
       "    </tr>\n",
       "    <tr>\n",
       "      <th>3</th>\n",
       "      <td>BSc - Zoology, BAMS</td>\n",
       "      <td>12 years experience</td>\n",
       "      <td>NaN</td>\n",
       "      <td>Bannerghatta Road, Bangalore</td>\n",
       "      <td>Ayurveda</td>\n",
       "      <td>Bannerghatta Road, Bangalore ₹250 Available on...</td>\n",
       "      <td>250</td>\n",
       "    </tr>\n",
       "    <tr>\n",
       "      <th>4</th>\n",
       "      <td>BAMS</td>\n",
       "      <td>20 years experience</td>\n",
       "      <td>100%</td>\n",
       "      <td>Keelkattalai, Chennai</td>\n",
       "      <td>Ayurveda</td>\n",
       "      <td>100% 4 Feedback Keelkattalai, Chennai</td>\n",
       "      <td>250</td>\n",
       "    </tr>\n",
       "    <tr>\n",
       "      <th>...</th>\n",
       "      <td>...</td>\n",
       "      <td>...</td>\n",
       "      <td>...</td>\n",
       "      <td>...</td>\n",
       "      <td>...</td>\n",
       "      <td>...</td>\n",
       "      <td>...</td>\n",
       "    </tr>\n",
       "    <tr>\n",
       "      <th>5956</th>\n",
       "      <td>MBBS, MS - ENT</td>\n",
       "      <td>19 years experience</td>\n",
       "      <td>98%</td>\n",
       "      <td>Basavanagudi, Bangalore</td>\n",
       "      <td>ENT Specialist</td>\n",
       "      <td>98% 45 Feedback Basavanagudi, Bangalore</td>\n",
       "      <td>300</td>\n",
       "    </tr>\n",
       "    <tr>\n",
       "      <th>5957</th>\n",
       "      <td>MBBS</td>\n",
       "      <td>33 years experience</td>\n",
       "      <td>NaN</td>\n",
       "      <td>Nungambakkam, Chennai</td>\n",
       "      <td>General Medicine</td>\n",
       "      <td>NaN</td>\n",
       "      <td>100</td>\n",
       "    </tr>\n",
       "    <tr>\n",
       "      <th>5958</th>\n",
       "      <td>MBBS</td>\n",
       "      <td>41 years experience</td>\n",
       "      <td>97%</td>\n",
       "      <td>Greater Kailash Part 2, Delhi</td>\n",
       "      <td>General Medicine</td>\n",
       "      <td>97% 11 Feedback Greater Kailash Part 2, Delhi</td>\n",
       "      <td>600</td>\n",
       "    </tr>\n",
       "    <tr>\n",
       "      <th>5959</th>\n",
       "      <td>MBBS, MD - General Medicine</td>\n",
       "      <td>15 years experience</td>\n",
       "      <td>90%</td>\n",
       "      <td>Vileparle West, Mumbai</td>\n",
       "      <td>General Medicine</td>\n",
       "      <td>General Medical Consultation Viral Fever Treat...</td>\n",
       "      <td>100</td>\n",
       "    </tr>\n",
       "    <tr>\n",
       "      <th>5960</th>\n",
       "      <td>BDS, MDS - Orthodontics</td>\n",
       "      <td>17 years experience</td>\n",
       "      <td>100%</td>\n",
       "      <td>Pitampura, Delhi</td>\n",
       "      <td>Dentist</td>\n",
       "      <td>Acrylic Partial Denture Crowns and Bridges Fix...</td>\n",
       "      <td>200</td>\n",
       "    </tr>\n",
       "  </tbody>\n",
       "</table>\n",
       "<p>5961 rows × 7 columns</p>\n",
       "</div>"
      ],
      "text/plain": [
       "                       Qualification           Experience Rating  \\\n",
       "0              BHMS, MD - Homeopathy  24 years experience   100%   \n",
       "1       BAMS, MD - Ayurveda Medicine  12 years experience    98%   \n",
       "2     MBBS, MS - Otorhinolaryngology   9 years experience    NaN   \n",
       "3                BSc - Zoology, BAMS  12 years experience    NaN   \n",
       "4                               BAMS  20 years experience   100%   \n",
       "...                              ...                  ...    ...   \n",
       "5956                  MBBS, MS - ENT  19 years experience    98%   \n",
       "5957                            MBBS  33 years experience    NaN   \n",
       "5958                            MBBS  41 years experience    97%   \n",
       "5959     MBBS, MD - General Medicine  15 years experience    90%   \n",
       "5960         BDS, MDS - Orthodontics  17 years experience   100%   \n",
       "\n",
       "                              Place           Profile  \\\n",
       "0               Kakkanad, Ernakulam         Homeopath   \n",
       "1             Whitefield, Bangalore          Ayurveda   \n",
       "2        Mathikere - BEL, Bangalore    ENT Specialist   \n",
       "3      Bannerghatta Road, Bangalore          Ayurveda   \n",
       "4             Keelkattalai, Chennai          Ayurveda   \n",
       "...                             ...               ...   \n",
       "5956        Basavanagudi, Bangalore    ENT Specialist   \n",
       "5957          Nungambakkam, Chennai  General Medicine   \n",
       "5958  Greater Kailash Part 2, Delhi  General Medicine   \n",
       "5959         Vileparle West, Mumbai  General Medicine   \n",
       "5960               Pitampura, Delhi           Dentist   \n",
       "\n",
       "                                     Miscellaneous_Info  Fees  \n",
       "0                  100% 16 Feedback Kakkanad, Ernakulam   100  \n",
       "1                 98% 76 Feedback Whitefield, Bangalore   350  \n",
       "2                                                   NaN   300  \n",
       "3     Bannerghatta Road, Bangalore ₹250 Available on...   250  \n",
       "4                 100% 4 Feedback Keelkattalai, Chennai   250  \n",
       "...                                                 ...   ...  \n",
       "5956            98% 45 Feedback Basavanagudi, Bangalore   300  \n",
       "5957                                                NaN   100  \n",
       "5958      97% 11 Feedback Greater Kailash Part 2, Delhi   600  \n",
       "5959  General Medical Consultation Viral Fever Treat...   100  \n",
       "5960  Acrylic Partial Denture Crowns and Bridges Fix...   200  \n",
       "\n",
       "[5961 rows x 7 columns]"
      ]
     },
     "execution_count": 3,
     "metadata": {},
     "output_type": "execute_result"
    }
   ],
   "source": [
    "#Import Train Data\n",
    "df_train=pd.read_excel(\"Doctor_fee_Train.xlsx\")\n",
    "df_train"
   ]
  },
  {
   "cell_type": "raw",
   "metadata": {},
   "source": [
    "Observation:\n",
    "1.Supervised ML problem as target variable is given & target variable is numeric in nature.\n",
    "2.Regression model to be trained to predict values for test data."
   ]
  },
  {
   "cell_type": "code",
   "execution_count": 4,
   "metadata": {},
   "outputs": [
    {
     "data": {
      "text/plain": [
       "Qualification            0\n",
       "Experience               0\n",
       "Rating                3302\n",
       "Place                   25\n",
       "Profile                  0\n",
       "Miscellaneous_Info    2620\n",
       "Fees                     0\n",
       "dtype: int64"
      ]
     },
     "execution_count": 4,
     "metadata": {},
     "output_type": "execute_result"
    }
   ],
   "source": [
    "#Check null values\n",
    "df_train.isnull().sum()\n",
    "#NaN values found "
   ]
  },
  {
   "cell_type": "code",
   "execution_count": 5,
   "metadata": {},
   "outputs": [
    {
     "name": "stdout",
     "output_type": "stream",
     "text": [
      "<class 'pandas.core.frame.DataFrame'>\n",
      "RangeIndex: 5961 entries, 0 to 5960\n",
      "Data columns (total 7 columns):\n",
      " #   Column              Non-Null Count  Dtype \n",
      "---  ------              --------------  ----- \n",
      " 0   Qualification       5961 non-null   object\n",
      " 1   Experience          5961 non-null   object\n",
      " 2   Rating              2659 non-null   object\n",
      " 3   Place               5936 non-null   object\n",
      " 4   Profile             5961 non-null   object\n",
      " 5   Miscellaneous_Info  3341 non-null   object\n",
      " 6   Fees                5961 non-null   int64 \n",
      "dtypes: int64(1), object(6)\n",
      "memory usage: 326.1+ KB\n"
     ]
    }
   ],
   "source": [
    "#Check feature data type\n",
    "df_train.info()"
   ]
  },
  {
   "cell_type": "raw",
   "metadata": {},
   "source": [
    "Observation: All the independent variables are of Object datatype & Target variable is numeric in nature."
   ]
  },
  {
   "cell_type": "code",
   "execution_count": 6,
   "metadata": {},
   "outputs": [
    {
     "data": {
      "text/html": [
       "<div>\n",
       "<style scoped>\n",
       "    .dataframe tbody tr th:only-of-type {\n",
       "        vertical-align: middle;\n",
       "    }\n",
       "\n",
       "    .dataframe tbody tr th {\n",
       "        vertical-align: top;\n",
       "    }\n",
       "\n",
       "    .dataframe thead th {\n",
       "        text-align: right;\n",
       "    }\n",
       "</style>\n",
       "<table border=\"1\" class=\"dataframe\">\n",
       "  <thead>\n",
       "    <tr style=\"text-align: right;\">\n",
       "      <th></th>\n",
       "      <th>Qualification</th>\n",
       "      <th>Experience</th>\n",
       "      <th>Rating</th>\n",
       "      <th>Place</th>\n",
       "      <th>Profile</th>\n",
       "      <th>Miscellaneous_Info</th>\n",
       "    </tr>\n",
       "  </thead>\n",
       "  <tbody>\n",
       "    <tr>\n",
       "      <th>0</th>\n",
       "      <td>MBBS</td>\n",
       "      <td>35 years experience</td>\n",
       "      <td>NaN</td>\n",
       "      <td>Ghatkopar East, Mumbai</td>\n",
       "      <td>General Medicine</td>\n",
       "      <td>NaN</td>\n",
       "    </tr>\n",
       "    <tr>\n",
       "      <th>1</th>\n",
       "      <td>MBBS, Diploma in Otorhinolaryngology (DLO)</td>\n",
       "      <td>31 years experience</td>\n",
       "      <td>NaN</td>\n",
       "      <td>West Marredpally, Hyderabad</td>\n",
       "      <td>ENT Specialist</td>\n",
       "      <td>NaN</td>\n",
       "    </tr>\n",
       "    <tr>\n",
       "      <th>2</th>\n",
       "      <td>MBBS, DDVL</td>\n",
       "      <td>40 years experience</td>\n",
       "      <td>70%</td>\n",
       "      <td>KK Nagar, Chennai</td>\n",
       "      <td>Dermatologists</td>\n",
       "      <td>70% 4 Feedback KK Nagar, Chennai</td>\n",
       "    </tr>\n",
       "    <tr>\n",
       "      <th>3</th>\n",
       "      <td>BAMS</td>\n",
       "      <td>0 years experience</td>\n",
       "      <td>NaN</td>\n",
       "      <td>New Ashok Nagar, Delhi</td>\n",
       "      <td>Ayurveda</td>\n",
       "      <td>NaN</td>\n",
       "    </tr>\n",
       "    <tr>\n",
       "      <th>4</th>\n",
       "      <td>BDS, MDS - Conservative Dentistry &amp; Endodontics</td>\n",
       "      <td>16 years experience</td>\n",
       "      <td>100%</td>\n",
       "      <td>Kanakpura Road, Bangalore</td>\n",
       "      <td>Dentist</td>\n",
       "      <td>General Dentistry Conservative Dentistry Cosme...</td>\n",
       "    </tr>\n",
       "    <tr>\n",
       "      <th>...</th>\n",
       "      <td>...</td>\n",
       "      <td>...</td>\n",
       "      <td>...</td>\n",
       "      <td>...</td>\n",
       "      <td>...</td>\n",
       "      <td>...</td>\n",
       "    </tr>\n",
       "    <tr>\n",
       "      <th>1982</th>\n",
       "      <td>BAMS, Doctor of Medicine</td>\n",
       "      <td>10 years experience</td>\n",
       "      <td>NaN</td>\n",
       "      <td>Basavanagudi, Bangalore</td>\n",
       "      <td>Ayurveda</td>\n",
       "      <td>NaN</td>\n",
       "    </tr>\n",
       "    <tr>\n",
       "      <th>1983</th>\n",
       "      <td>MD - Dermatology , Venereology &amp; Leprosy, MBBS</td>\n",
       "      <td>4 years experience</td>\n",
       "      <td>NaN</td>\n",
       "      <td>Choolai, Chennai</td>\n",
       "      <td>Dermatologists</td>\n",
       "      <td>NaN</td>\n",
       "    </tr>\n",
       "    <tr>\n",
       "      <th>1984</th>\n",
       "      <td>MBBS, MD / MS - Obstetrics &amp; Gynaecology</td>\n",
       "      <td>9 years experience</td>\n",
       "      <td>NaN</td>\n",
       "      <td>Porur, Chennai</td>\n",
       "      <td>General Medicine</td>\n",
       "      <td>NaN</td>\n",
       "    </tr>\n",
       "    <tr>\n",
       "      <th>1985</th>\n",
       "      <td>BDS</td>\n",
       "      <td>12 years experience</td>\n",
       "      <td>98%</td>\n",
       "      <td>Arekere, Bangalore</td>\n",
       "      <td>Dentist</td>\n",
       "      <td>RCT - Root Canal Treatment Root Canal Treatmen...</td>\n",
       "    </tr>\n",
       "    <tr>\n",
       "      <th>1986</th>\n",
       "      <td>MBBS, MD - Dermatology , Venereology &amp; Leprosy</td>\n",
       "      <td>8 years experience</td>\n",
       "      <td>NaN</td>\n",
       "      <td>Pallikaranai, Chennai</td>\n",
       "      <td>Dermatologists</td>\n",
       "      <td>1 Feedback Pallikaranai, Chennai ₹500</td>\n",
       "    </tr>\n",
       "  </tbody>\n",
       "</table>\n",
       "<p>1987 rows × 6 columns</p>\n",
       "</div>"
      ],
      "text/plain": [
       "                                        Qualification           Experience  \\\n",
       "0                                                MBBS  35 years experience   \n",
       "1          MBBS, Diploma in Otorhinolaryngology (DLO)  31 years experience   \n",
       "2                                          MBBS, DDVL  40 years experience   \n",
       "3                                                BAMS   0 years experience   \n",
       "4     BDS, MDS - Conservative Dentistry & Endodontics  16 years experience   \n",
       "...                                               ...                  ...   \n",
       "1982                         BAMS, Doctor of Medicine  10 years experience   \n",
       "1983   MD - Dermatology , Venereology & Leprosy, MBBS   4 years experience   \n",
       "1984         MBBS, MD / MS - Obstetrics & Gynaecology   9 years experience   \n",
       "1985                                              BDS  12 years experience   \n",
       "1986   MBBS, MD - Dermatology , Venereology & Leprosy   8 years experience   \n",
       "\n",
       "     Rating                        Place           Profile  \\\n",
       "0       NaN       Ghatkopar East, Mumbai  General Medicine   \n",
       "1       NaN  West Marredpally, Hyderabad    ENT Specialist   \n",
       "2       70%            KK Nagar, Chennai    Dermatologists   \n",
       "3       NaN       New Ashok Nagar, Delhi          Ayurveda   \n",
       "4      100%    Kanakpura Road, Bangalore           Dentist   \n",
       "...     ...                          ...               ...   \n",
       "1982    NaN      Basavanagudi, Bangalore          Ayurveda   \n",
       "1983    NaN             Choolai, Chennai    Dermatologists   \n",
       "1984    NaN               Porur, Chennai  General Medicine   \n",
       "1985    98%           Arekere, Bangalore           Dentist   \n",
       "1986    NaN        Pallikaranai, Chennai    Dermatologists   \n",
       "\n",
       "                                     Miscellaneous_Info  \n",
       "0                                                   NaN  \n",
       "1                                                   NaN  \n",
       "2                      70% 4 Feedback KK Nagar, Chennai  \n",
       "3                                                   NaN  \n",
       "4     General Dentistry Conservative Dentistry Cosme...  \n",
       "...                                                 ...  \n",
       "1982                                                NaN  \n",
       "1983                                                NaN  \n",
       "1984                                                NaN  \n",
       "1985  RCT - Root Canal Treatment Root Canal Treatmen...  \n",
       "1986              1 Feedback Pallikaranai, Chennai ₹500  \n",
       "\n",
       "[1987 rows x 6 columns]"
      ]
     },
     "execution_count": 6,
     "metadata": {},
     "output_type": "execute_result"
    }
   ],
   "source": [
    "#Import Test Data\n",
    "df_test=pd.read_excel(\"Doctor_fee_Test.xlsx\")\n",
    "df_test"
   ]
  },
  {
   "cell_type": "code",
   "execution_count": 7,
   "metadata": {},
   "outputs": [
    {
     "data": {
      "text/plain": [
       "Qualification            0\n",
       "Experience               0\n",
       "Rating                1090\n",
       "Place                    6\n",
       "Profile                  0\n",
       "Miscellaneous_Info     834\n",
       "dtype: int64"
      ]
     },
     "execution_count": 7,
     "metadata": {},
     "output_type": "execute_result"
    }
   ],
   "source": [
    "#Check null values in test dataset\n",
    "df_test.isnull().sum()"
   ]
  },
  {
   "cell_type": "code",
   "execution_count": 8,
   "metadata": {},
   "outputs": [
    {
     "name": "stdout",
     "output_type": "stream",
     "text": [
      "<class 'pandas.core.frame.DataFrame'>\n",
      "RangeIndex: 1987 entries, 0 to 1986\n",
      "Data columns (total 6 columns):\n",
      " #   Column              Non-Null Count  Dtype \n",
      "---  ------              --------------  ----- \n",
      " 0   Qualification       1987 non-null   object\n",
      " 1   Experience          1987 non-null   object\n",
      " 2   Rating              897 non-null    object\n",
      " 3   Place               1981 non-null   object\n",
      " 4   Profile             1987 non-null   object\n",
      " 5   Miscellaneous_Info  1153 non-null   object\n",
      "dtypes: object(6)\n",
      "memory usage: 93.3+ KB\n"
     ]
    }
   ],
   "source": [
    "#Check datatypes of features in test data type.\n",
    "df_test.info()"
   ]
  },
  {
   "cell_type": "code",
   "execution_count": 9,
   "metadata": {},
   "outputs": [
    {
     "data": {
      "text/html": [
       "<div>\n",
       "<style scoped>\n",
       "    .dataframe tbody tr th:only-of-type {\n",
       "        vertical-align: middle;\n",
       "    }\n",
       "\n",
       "    .dataframe tbody tr th {\n",
       "        vertical-align: top;\n",
       "    }\n",
       "\n",
       "    .dataframe thead th {\n",
       "        text-align: right;\n",
       "    }\n",
       "</style>\n",
       "<table border=\"1\" class=\"dataframe\">\n",
       "  <thead>\n",
       "    <tr style=\"text-align: right;\">\n",
       "      <th></th>\n",
       "      <th>Qualification</th>\n",
       "      <th>Experience</th>\n",
       "      <th>Rating</th>\n",
       "      <th>Place</th>\n",
       "      <th>Profile</th>\n",
       "      <th>Miscellaneous_Info</th>\n",
       "      <th>Fees</th>\n",
       "    </tr>\n",
       "  </thead>\n",
       "  <tbody>\n",
       "    <tr>\n",
       "      <th>0</th>\n",
       "      <td>BHMS, MD - Homeopathy</td>\n",
       "      <td>24 years experience</td>\n",
       "      <td>100%</td>\n",
       "      <td>Kakkanad, Ernakulam</td>\n",
       "      <td>Homeopath</td>\n",
       "      <td>100% 16 Feedback Kakkanad, Ernakulam</td>\n",
       "      <td>100</td>\n",
       "    </tr>\n",
       "    <tr>\n",
       "      <th>1</th>\n",
       "      <td>BAMS, MD - Ayurveda Medicine</td>\n",
       "      <td>12 years experience</td>\n",
       "      <td>98%</td>\n",
       "      <td>Whitefield, Bangalore</td>\n",
       "      <td>Ayurveda</td>\n",
       "      <td>98% 76 Feedback Whitefield, Bangalore</td>\n",
       "      <td>350</td>\n",
       "    </tr>\n",
       "    <tr>\n",
       "      <th>2</th>\n",
       "      <td>MBBS, MS - Otorhinolaryngology</td>\n",
       "      <td>9 years experience</td>\n",
       "      <td>NaN</td>\n",
       "      <td>Mathikere - BEL, Bangalore</td>\n",
       "      <td>ENT Specialist</td>\n",
       "      <td>NaN</td>\n",
       "      <td>300</td>\n",
       "    </tr>\n",
       "    <tr>\n",
       "      <th>3</th>\n",
       "      <td>BSc - Zoology, BAMS</td>\n",
       "      <td>12 years experience</td>\n",
       "      <td>NaN</td>\n",
       "      <td>Bannerghatta Road, Bangalore</td>\n",
       "      <td>Ayurveda</td>\n",
       "      <td>Bannerghatta Road, Bangalore ₹250 Available on...</td>\n",
       "      <td>250</td>\n",
       "    </tr>\n",
       "    <tr>\n",
       "      <th>4</th>\n",
       "      <td>BAMS</td>\n",
       "      <td>20 years experience</td>\n",
       "      <td>100%</td>\n",
       "      <td>Keelkattalai, Chennai</td>\n",
       "      <td>Ayurveda</td>\n",
       "      <td>100% 4 Feedback Keelkattalai, Chennai</td>\n",
       "      <td>250</td>\n",
       "    </tr>\n",
       "  </tbody>\n",
       "</table>\n",
       "</div>"
      ],
      "text/plain": [
       "                    Qualification           Experience Rating  \\\n",
       "0           BHMS, MD - Homeopathy  24 years experience   100%   \n",
       "1    BAMS, MD - Ayurveda Medicine  12 years experience    98%   \n",
       "2  MBBS, MS - Otorhinolaryngology   9 years experience    NaN   \n",
       "3             BSc - Zoology, BAMS  12 years experience    NaN   \n",
       "4                            BAMS  20 years experience   100%   \n",
       "\n",
       "                          Place         Profile  \\\n",
       "0           Kakkanad, Ernakulam       Homeopath   \n",
       "1         Whitefield, Bangalore        Ayurveda   \n",
       "2    Mathikere - BEL, Bangalore  ENT Specialist   \n",
       "3  Bannerghatta Road, Bangalore        Ayurveda   \n",
       "4         Keelkattalai, Chennai        Ayurveda   \n",
       "\n",
       "                                  Miscellaneous_Info  Fees  \n",
       "0               100% 16 Feedback Kakkanad, Ernakulam   100  \n",
       "1              98% 76 Feedback Whitefield, Bangalore   350  \n",
       "2                                                NaN   300  \n",
       "3  Bannerghatta Road, Bangalore ₹250 Available on...   250  \n",
       "4              100% 4 Feedback Keelkattalai, Chennai   250  "
      ]
     },
     "execution_count": 9,
     "metadata": {},
     "output_type": "execute_result"
    }
   ],
   "source": [
    "#Check data \n",
    "df_train.head()"
   ]
  },
  {
   "cell_type": "raw",
   "metadata": {},
   "source": [
    "Observation:\n",
    "1.As the independent variables are of \"Object datatype\", feature engineering to be done to convert data.We will combine test & train data for feature engineering"
   ]
  },
  {
   "cell_type": "markdown",
   "metadata": {},
   "source": [
    "# Feature engineering"
   ]
  },
  {
   "cell_type": "code",
   "execution_count": 10,
   "metadata": {},
   "outputs": [
    {
     "data": {
      "text/html": [
       "<div>\n",
       "<style scoped>\n",
       "    .dataframe tbody tr th:only-of-type {\n",
       "        vertical-align: middle;\n",
       "    }\n",
       "\n",
       "    .dataframe tbody tr th {\n",
       "        vertical-align: top;\n",
       "    }\n",
       "\n",
       "    .dataframe thead th {\n",
       "        text-align: right;\n",
       "    }\n",
       "</style>\n",
       "<table border=\"1\" class=\"dataframe\">\n",
       "  <thead>\n",
       "    <tr style=\"text-align: right;\">\n",
       "      <th></th>\n",
       "      <th>Qualification</th>\n",
       "      <th>Experience</th>\n",
       "      <th>Rating</th>\n",
       "      <th>Place</th>\n",
       "      <th>Profile</th>\n",
       "      <th>Miscellaneous_Info</th>\n",
       "      <th>Fees</th>\n",
       "      <th>ref</th>\n",
       "    </tr>\n",
       "  </thead>\n",
       "  <tbody>\n",
       "    <tr>\n",
       "      <th>0</th>\n",
       "      <td>BHMS, MD - Homeopathy</td>\n",
       "      <td>24 years experience</td>\n",
       "      <td>100%</td>\n",
       "      <td>Kakkanad, Ernakulam</td>\n",
       "      <td>Homeopath</td>\n",
       "      <td>100% 16 Feedback Kakkanad, Ernakulam</td>\n",
       "      <td>100.0</td>\n",
       "      <td>train</td>\n",
       "    </tr>\n",
       "    <tr>\n",
       "      <th>1</th>\n",
       "      <td>BAMS, MD - Ayurveda Medicine</td>\n",
       "      <td>12 years experience</td>\n",
       "      <td>98%</td>\n",
       "      <td>Whitefield, Bangalore</td>\n",
       "      <td>Ayurveda</td>\n",
       "      <td>98% 76 Feedback Whitefield, Bangalore</td>\n",
       "      <td>350.0</td>\n",
       "      <td>train</td>\n",
       "    </tr>\n",
       "    <tr>\n",
       "      <th>2</th>\n",
       "      <td>MBBS, MS - Otorhinolaryngology</td>\n",
       "      <td>9 years experience</td>\n",
       "      <td>NaN</td>\n",
       "      <td>Mathikere - BEL, Bangalore</td>\n",
       "      <td>ENT Specialist</td>\n",
       "      <td>NaN</td>\n",
       "      <td>300.0</td>\n",
       "      <td>train</td>\n",
       "    </tr>\n",
       "    <tr>\n",
       "      <th>3</th>\n",
       "      <td>BSc - Zoology, BAMS</td>\n",
       "      <td>12 years experience</td>\n",
       "      <td>NaN</td>\n",
       "      <td>Bannerghatta Road, Bangalore</td>\n",
       "      <td>Ayurveda</td>\n",
       "      <td>Bannerghatta Road, Bangalore ₹250 Available on...</td>\n",
       "      <td>250.0</td>\n",
       "      <td>train</td>\n",
       "    </tr>\n",
       "    <tr>\n",
       "      <th>4</th>\n",
       "      <td>BAMS</td>\n",
       "      <td>20 years experience</td>\n",
       "      <td>100%</td>\n",
       "      <td>Keelkattalai, Chennai</td>\n",
       "      <td>Ayurveda</td>\n",
       "      <td>100% 4 Feedback Keelkattalai, Chennai</td>\n",
       "      <td>250.0</td>\n",
       "      <td>train</td>\n",
       "    </tr>\n",
       "    <tr>\n",
       "      <th>...</th>\n",
       "      <td>...</td>\n",
       "      <td>...</td>\n",
       "      <td>...</td>\n",
       "      <td>...</td>\n",
       "      <td>...</td>\n",
       "      <td>...</td>\n",
       "      <td>...</td>\n",
       "      <td>...</td>\n",
       "    </tr>\n",
       "    <tr>\n",
       "      <th>1982</th>\n",
       "      <td>BAMS, Doctor of Medicine</td>\n",
       "      <td>10 years experience</td>\n",
       "      <td>NaN</td>\n",
       "      <td>Basavanagudi, Bangalore</td>\n",
       "      <td>Ayurveda</td>\n",
       "      <td>NaN</td>\n",
       "      <td>NaN</td>\n",
       "      <td>test</td>\n",
       "    </tr>\n",
       "    <tr>\n",
       "      <th>1983</th>\n",
       "      <td>MD - Dermatology , Venereology &amp; Leprosy, MBBS</td>\n",
       "      <td>4 years experience</td>\n",
       "      <td>NaN</td>\n",
       "      <td>Choolai, Chennai</td>\n",
       "      <td>Dermatologists</td>\n",
       "      <td>NaN</td>\n",
       "      <td>NaN</td>\n",
       "      <td>test</td>\n",
       "    </tr>\n",
       "    <tr>\n",
       "      <th>1984</th>\n",
       "      <td>MBBS, MD / MS - Obstetrics &amp; Gynaecology</td>\n",
       "      <td>9 years experience</td>\n",
       "      <td>NaN</td>\n",
       "      <td>Porur, Chennai</td>\n",
       "      <td>General Medicine</td>\n",
       "      <td>NaN</td>\n",
       "      <td>NaN</td>\n",
       "      <td>test</td>\n",
       "    </tr>\n",
       "    <tr>\n",
       "      <th>1985</th>\n",
       "      <td>BDS</td>\n",
       "      <td>12 years experience</td>\n",
       "      <td>98%</td>\n",
       "      <td>Arekere, Bangalore</td>\n",
       "      <td>Dentist</td>\n",
       "      <td>RCT - Root Canal Treatment Root Canal Treatmen...</td>\n",
       "      <td>NaN</td>\n",
       "      <td>test</td>\n",
       "    </tr>\n",
       "    <tr>\n",
       "      <th>1986</th>\n",
       "      <td>MBBS, MD - Dermatology , Venereology &amp; Leprosy</td>\n",
       "      <td>8 years experience</td>\n",
       "      <td>NaN</td>\n",
       "      <td>Pallikaranai, Chennai</td>\n",
       "      <td>Dermatologists</td>\n",
       "      <td>1 Feedback Pallikaranai, Chennai ₹500</td>\n",
       "      <td>NaN</td>\n",
       "      <td>test</td>\n",
       "    </tr>\n",
       "  </tbody>\n",
       "</table>\n",
       "<p>7948 rows × 8 columns</p>\n",
       "</div>"
      ],
      "text/plain": [
       "                                       Qualification           Experience  \\\n",
       "0                              BHMS, MD - Homeopathy  24 years experience   \n",
       "1                       BAMS, MD - Ayurveda Medicine  12 years experience   \n",
       "2                     MBBS, MS - Otorhinolaryngology   9 years experience   \n",
       "3                                BSc - Zoology, BAMS  12 years experience   \n",
       "4                                               BAMS  20 years experience   \n",
       "...                                              ...                  ...   \n",
       "1982                        BAMS, Doctor of Medicine  10 years experience   \n",
       "1983  MD - Dermatology , Venereology & Leprosy, MBBS   4 years experience   \n",
       "1984        MBBS, MD / MS - Obstetrics & Gynaecology   9 years experience   \n",
       "1985                                             BDS  12 years experience   \n",
       "1986  MBBS, MD - Dermatology , Venereology & Leprosy   8 years experience   \n",
       "\n",
       "     Rating                         Place           Profile  \\\n",
       "0      100%           Kakkanad, Ernakulam         Homeopath   \n",
       "1       98%         Whitefield, Bangalore          Ayurveda   \n",
       "2       NaN    Mathikere - BEL, Bangalore    ENT Specialist   \n",
       "3       NaN  Bannerghatta Road, Bangalore          Ayurveda   \n",
       "4      100%         Keelkattalai, Chennai          Ayurveda   \n",
       "...     ...                           ...               ...   \n",
       "1982    NaN       Basavanagudi, Bangalore          Ayurveda   \n",
       "1983    NaN              Choolai, Chennai    Dermatologists   \n",
       "1984    NaN                Porur, Chennai  General Medicine   \n",
       "1985    98%            Arekere, Bangalore           Dentist   \n",
       "1986    NaN         Pallikaranai, Chennai    Dermatologists   \n",
       "\n",
       "                                     Miscellaneous_Info   Fees    ref  \n",
       "0                  100% 16 Feedback Kakkanad, Ernakulam  100.0  train  \n",
       "1                 98% 76 Feedback Whitefield, Bangalore  350.0  train  \n",
       "2                                                   NaN  300.0  train  \n",
       "3     Bannerghatta Road, Bangalore ₹250 Available on...  250.0  train  \n",
       "4                 100% 4 Feedback Keelkattalai, Chennai  250.0  train  \n",
       "...                                                 ...    ...    ...  \n",
       "1982                                                NaN    NaN   test  \n",
       "1983                                                NaN    NaN   test  \n",
       "1984                                                NaN    NaN   test  \n",
       "1985  RCT - Root Canal Treatment Root Canal Treatmen...    NaN   test  \n",
       "1986              1 Feedback Pallikaranai, Chennai ₹500    NaN   test  \n",
       "\n",
       "[7948 rows x 8 columns]"
      ]
     },
     "execution_count": 10,
     "metadata": {},
     "output_type": "execute_result"
    }
   ],
   "source": [
    "#Combining Train & Test dataset along a column\n",
    "df_train[\"ref\"]=\"train\"\n",
    "df_test[\"ref\"]=\"test\"\n",
    "df=pd.concat([df_train,df_test])\n",
    "df"
   ]
  },
  {
   "cell_type": "code",
   "execution_count": 11,
   "metadata": {},
   "outputs": [],
   "source": [
    "#Reset index\n",
    "df.reset_index(drop=True,inplace=True)"
   ]
  },
  {
   "cell_type": "code",
   "execution_count": 12,
   "metadata": {},
   "outputs": [
    {
     "data": {
      "text/html": [
       "<div>\n",
       "<style scoped>\n",
       "    .dataframe tbody tr th:only-of-type {\n",
       "        vertical-align: middle;\n",
       "    }\n",
       "\n",
       "    .dataframe tbody tr th {\n",
       "        vertical-align: top;\n",
       "    }\n",
       "\n",
       "    .dataframe thead th {\n",
       "        text-align: right;\n",
       "    }\n",
       "</style>\n",
       "<table border=\"1\" class=\"dataframe\">\n",
       "  <thead>\n",
       "    <tr style=\"text-align: right;\">\n",
       "      <th></th>\n",
       "      <th>Qualification</th>\n",
       "      <th>Experience</th>\n",
       "      <th>Rating</th>\n",
       "      <th>Place</th>\n",
       "      <th>Profile</th>\n",
       "      <th>Miscellaneous_Info</th>\n",
       "      <th>Fees</th>\n",
       "      <th>ref</th>\n",
       "    </tr>\n",
       "  </thead>\n",
       "  <tbody>\n",
       "    <tr>\n",
       "      <th>0</th>\n",
       "      <td>BHMS, MD - Homeopathy</td>\n",
       "      <td>24 years experience</td>\n",
       "      <td>100%</td>\n",
       "      <td>Kakkanad, Ernakulam</td>\n",
       "      <td>Homeopath</td>\n",
       "      <td>100% 16 Feedback Kakkanad, Ernakulam</td>\n",
       "      <td>100.0</td>\n",
       "      <td>train</td>\n",
       "    </tr>\n",
       "    <tr>\n",
       "      <th>1</th>\n",
       "      <td>BAMS, MD - Ayurveda Medicine</td>\n",
       "      <td>12 years experience</td>\n",
       "      <td>98%</td>\n",
       "      <td>Whitefield, Bangalore</td>\n",
       "      <td>Ayurveda</td>\n",
       "      <td>98% 76 Feedback Whitefield, Bangalore</td>\n",
       "      <td>350.0</td>\n",
       "      <td>train</td>\n",
       "    </tr>\n",
       "    <tr>\n",
       "      <th>2</th>\n",
       "      <td>MBBS, MS - Otorhinolaryngology</td>\n",
       "      <td>9 years experience</td>\n",
       "      <td>NaN</td>\n",
       "      <td>Mathikere - BEL, Bangalore</td>\n",
       "      <td>ENT Specialist</td>\n",
       "      <td>NaN</td>\n",
       "      <td>300.0</td>\n",
       "      <td>train</td>\n",
       "    </tr>\n",
       "    <tr>\n",
       "      <th>3</th>\n",
       "      <td>BSc - Zoology, BAMS</td>\n",
       "      <td>12 years experience</td>\n",
       "      <td>NaN</td>\n",
       "      <td>Bannerghatta Road, Bangalore</td>\n",
       "      <td>Ayurveda</td>\n",
       "      <td>Bannerghatta Road, Bangalore ₹250 Available on...</td>\n",
       "      <td>250.0</td>\n",
       "      <td>train</td>\n",
       "    </tr>\n",
       "    <tr>\n",
       "      <th>4</th>\n",
       "      <td>BAMS</td>\n",
       "      <td>20 years experience</td>\n",
       "      <td>100%</td>\n",
       "      <td>Keelkattalai, Chennai</td>\n",
       "      <td>Ayurveda</td>\n",
       "      <td>100% 4 Feedback Keelkattalai, Chennai</td>\n",
       "      <td>250.0</td>\n",
       "      <td>train</td>\n",
       "    </tr>\n",
       "    <tr>\n",
       "      <th>...</th>\n",
       "      <td>...</td>\n",
       "      <td>...</td>\n",
       "      <td>...</td>\n",
       "      <td>...</td>\n",
       "      <td>...</td>\n",
       "      <td>...</td>\n",
       "      <td>...</td>\n",
       "      <td>...</td>\n",
       "    </tr>\n",
       "    <tr>\n",
       "      <th>7943</th>\n",
       "      <td>BAMS, Doctor of Medicine</td>\n",
       "      <td>10 years experience</td>\n",
       "      <td>NaN</td>\n",
       "      <td>Basavanagudi, Bangalore</td>\n",
       "      <td>Ayurveda</td>\n",
       "      <td>NaN</td>\n",
       "      <td>NaN</td>\n",
       "      <td>test</td>\n",
       "    </tr>\n",
       "    <tr>\n",
       "      <th>7944</th>\n",
       "      <td>MD - Dermatology , Venereology &amp; Leprosy, MBBS</td>\n",
       "      <td>4 years experience</td>\n",
       "      <td>NaN</td>\n",
       "      <td>Choolai, Chennai</td>\n",
       "      <td>Dermatologists</td>\n",
       "      <td>NaN</td>\n",
       "      <td>NaN</td>\n",
       "      <td>test</td>\n",
       "    </tr>\n",
       "    <tr>\n",
       "      <th>7945</th>\n",
       "      <td>MBBS, MD / MS - Obstetrics &amp; Gynaecology</td>\n",
       "      <td>9 years experience</td>\n",
       "      <td>NaN</td>\n",
       "      <td>Porur, Chennai</td>\n",
       "      <td>General Medicine</td>\n",
       "      <td>NaN</td>\n",
       "      <td>NaN</td>\n",
       "      <td>test</td>\n",
       "    </tr>\n",
       "    <tr>\n",
       "      <th>7946</th>\n",
       "      <td>BDS</td>\n",
       "      <td>12 years experience</td>\n",
       "      <td>98%</td>\n",
       "      <td>Arekere, Bangalore</td>\n",
       "      <td>Dentist</td>\n",
       "      <td>RCT - Root Canal Treatment Root Canal Treatmen...</td>\n",
       "      <td>NaN</td>\n",
       "      <td>test</td>\n",
       "    </tr>\n",
       "    <tr>\n",
       "      <th>7947</th>\n",
       "      <td>MBBS, MD - Dermatology , Venereology &amp; Leprosy</td>\n",
       "      <td>8 years experience</td>\n",
       "      <td>NaN</td>\n",
       "      <td>Pallikaranai, Chennai</td>\n",
       "      <td>Dermatologists</td>\n",
       "      <td>1 Feedback Pallikaranai, Chennai ₹500</td>\n",
       "      <td>NaN</td>\n",
       "      <td>test</td>\n",
       "    </tr>\n",
       "  </tbody>\n",
       "</table>\n",
       "<p>7948 rows × 8 columns</p>\n",
       "</div>"
      ],
      "text/plain": [
       "                                       Qualification           Experience  \\\n",
       "0                              BHMS, MD - Homeopathy  24 years experience   \n",
       "1                       BAMS, MD - Ayurveda Medicine  12 years experience   \n",
       "2                     MBBS, MS - Otorhinolaryngology   9 years experience   \n",
       "3                                BSc - Zoology, BAMS  12 years experience   \n",
       "4                                               BAMS  20 years experience   \n",
       "...                                              ...                  ...   \n",
       "7943                        BAMS, Doctor of Medicine  10 years experience   \n",
       "7944  MD - Dermatology , Venereology & Leprosy, MBBS   4 years experience   \n",
       "7945        MBBS, MD / MS - Obstetrics & Gynaecology   9 years experience   \n",
       "7946                                             BDS  12 years experience   \n",
       "7947  MBBS, MD - Dermatology , Venereology & Leprosy   8 years experience   \n",
       "\n",
       "     Rating                         Place           Profile  \\\n",
       "0      100%           Kakkanad, Ernakulam         Homeopath   \n",
       "1       98%         Whitefield, Bangalore          Ayurveda   \n",
       "2       NaN    Mathikere - BEL, Bangalore    ENT Specialist   \n",
       "3       NaN  Bannerghatta Road, Bangalore          Ayurveda   \n",
       "4      100%         Keelkattalai, Chennai          Ayurveda   \n",
       "...     ...                           ...               ...   \n",
       "7943    NaN       Basavanagudi, Bangalore          Ayurveda   \n",
       "7944    NaN              Choolai, Chennai    Dermatologists   \n",
       "7945    NaN                Porur, Chennai  General Medicine   \n",
       "7946    98%            Arekere, Bangalore           Dentist   \n",
       "7947    NaN         Pallikaranai, Chennai    Dermatologists   \n",
       "\n",
       "                                     Miscellaneous_Info   Fees    ref  \n",
       "0                  100% 16 Feedback Kakkanad, Ernakulam  100.0  train  \n",
       "1                 98% 76 Feedback Whitefield, Bangalore  350.0  train  \n",
       "2                                                   NaN  300.0  train  \n",
       "3     Bannerghatta Road, Bangalore ₹250 Available on...  250.0  train  \n",
       "4                 100% 4 Feedback Keelkattalai, Chennai  250.0  train  \n",
       "...                                                 ...    ...    ...  \n",
       "7943                                                NaN    NaN   test  \n",
       "7944                                                NaN    NaN   test  \n",
       "7945                                                NaN    NaN   test  \n",
       "7946  RCT - Root Canal Treatment Root Canal Treatmen...    NaN   test  \n",
       "7947              1 Feedback Pallikaranai, Chennai ₹500    NaN   test  \n",
       "\n",
       "[7948 rows x 8 columns]"
      ]
     },
     "execution_count": 12,
     "metadata": {},
     "output_type": "execute_result"
    }
   ],
   "source": [
    "#Check data\n",
    "df"
   ]
  },
  {
   "cell_type": "code",
   "execution_count": 13,
   "metadata": {},
   "outputs": [
    {
     "data": {
      "text/plain": [
       "Qualification            0\n",
       "Experience               0\n",
       "Rating                4392\n",
       "Place                   31\n",
       "Profile                  0\n",
       "Miscellaneous_Info    3454\n",
       "Fees                  1987\n",
       "ref                      0\n",
       "dtype: int64"
      ]
     },
     "execution_count": 13,
     "metadata": {},
     "output_type": "execute_result"
    }
   ],
   "source": [
    "#Check null values\n",
    "df.isnull().sum()"
   ]
  },
  {
   "cell_type": "code",
   "execution_count": 14,
   "metadata": {},
   "outputs": [
    {
     "data": {
      "text/plain": [
       "0       24\n",
       "1       12\n",
       "2        9\n",
       "3       12\n",
       "4       20\n",
       "        ..\n",
       "7943    10\n",
       "7944     4\n",
       "7945     9\n",
       "7946    12\n",
       "7947     8\n",
       "Name: Experience, Length: 7948, dtype: object"
      ]
     },
     "execution_count": 14,
     "metadata": {},
     "output_type": "execute_result"
    }
   ],
   "source": [
    "#1. Experience\n",
    "#Feature \"experience\" can be converted to numeric by extracting integer data\n",
    "df[\"Experience\"].str.split().str[0]"
   ]
  },
  {
   "cell_type": "code",
   "execution_count": 15,
   "metadata": {},
   "outputs": [],
   "source": [
    "#Assign to the column and convert to int dtype\n",
    "df[\"Experience\"]=df[\"Experience\"].str.split().str[0]\n",
    "df[\"Experience\"]=df[\"Experience\"].astype(int)"
   ]
  },
  {
   "cell_type": "code",
   "execution_count": 16,
   "metadata": {},
   "outputs": [
    {
     "data": {
      "text/plain": [
       "0       24\n",
       "1       12\n",
       "2        9\n",
       "3       12\n",
       "4       20\n",
       "        ..\n",
       "7943    10\n",
       "7944     4\n",
       "7945     9\n",
       "7946    12\n",
       "7947     8\n",
       "Name: Experience, Length: 7948, dtype: int32"
      ]
     },
     "execution_count": 16,
     "metadata": {},
     "output_type": "execute_result"
    }
   ],
   "source": [
    "#Check column experience\n",
    "df[\"Experience\"]"
   ]
  },
  {
   "cell_type": "code",
   "execution_count": 17,
   "metadata": {},
   "outputs": [],
   "source": [
    "#2.Rating\n",
    "#Convert column rating into \"int dtype\"\n",
    "df[\"Rating\"]=df[\"Rating\"].str.strip(\"%\")\n",
    "df[\"Rating\"]=df[\"Rating\"].astype(float)"
   ]
  },
  {
   "cell_type": "code",
   "execution_count": 18,
   "metadata": {},
   "outputs": [
    {
     "data": {
      "text/plain": [
       "0       100.0\n",
       "1        98.0\n",
       "2         NaN\n",
       "3         NaN\n",
       "4       100.0\n",
       "        ...  \n",
       "7943      NaN\n",
       "7944      NaN\n",
       "7945      NaN\n",
       "7946     98.0\n",
       "7947      NaN\n",
       "Name: Rating, Length: 7948, dtype: float64"
      ]
     },
     "execution_count": 18,
     "metadata": {},
     "output_type": "execute_result"
    }
   ],
   "source": [
    "df[\"Rating\"]"
   ]
  },
  {
   "cell_type": "code",
   "execution_count": 19,
   "metadata": {},
   "outputs": [],
   "source": [
    "#Lets replace null values in rating by 0.\n",
    "df[\"Rating\"].fillna(0,inplace=True)"
   ]
  },
  {
   "cell_type": "code",
   "execution_count": 20,
   "metadata": {},
   "outputs": [
    {
     "data": {
      "text/plain": [
       "Qualification            0\n",
       "Experience               0\n",
       "Rating                   0\n",
       "Place                   31\n",
       "Profile                  0\n",
       "Miscellaneous_Info    3454\n",
       "Fees                  1987\n",
       "ref                      0\n",
       "dtype: int64"
      ]
     },
     "execution_count": 20,
     "metadata": {},
     "output_type": "execute_result"
    }
   ],
   "source": [
    "#Check null values\n",
    "df.isnull().sum()"
   ]
  },
  {
   "cell_type": "code",
   "execution_count": 21,
   "metadata": {},
   "outputs": [],
   "source": [
    "#Place\n",
    "#Fill the null values in \"place\" as unknown then divide the place into [area & city] \n",
    "df[\"Place\"].fillna(\"unknown,unknown\",inplace=True)"
   ]
  },
  {
   "cell_type": "code",
   "execution_count": 22,
   "metadata": {},
   "outputs": [],
   "source": [
    "#Divide feature Place into Area,City\n",
    "df[\"Area\"]=df[\"Place\"].str.split(\",\").str[0]\n",
    "df[\"City\"]=df[\"Place\"].str.split(\",\").str[1]"
   ]
  },
  {
   "cell_type": "code",
   "execution_count": 23,
   "metadata": {},
   "outputs": [
    {
     "data": {
      "text/html": [
       "<div>\n",
       "<style scoped>\n",
       "    .dataframe tbody tr th:only-of-type {\n",
       "        vertical-align: middle;\n",
       "    }\n",
       "\n",
       "    .dataframe tbody tr th {\n",
       "        vertical-align: top;\n",
       "    }\n",
       "\n",
       "    .dataframe thead th {\n",
       "        text-align: right;\n",
       "    }\n",
       "</style>\n",
       "<table border=\"1\" class=\"dataframe\">\n",
       "  <thead>\n",
       "    <tr style=\"text-align: right;\">\n",
       "      <th></th>\n",
       "      <th>Qualification</th>\n",
       "      <th>Experience</th>\n",
       "      <th>Rating</th>\n",
       "      <th>Profile</th>\n",
       "      <th>Miscellaneous_Info</th>\n",
       "      <th>Fees</th>\n",
       "      <th>ref</th>\n",
       "      <th>Area</th>\n",
       "      <th>City</th>\n",
       "    </tr>\n",
       "  </thead>\n",
       "  <tbody>\n",
       "    <tr>\n",
       "      <th>0</th>\n",
       "      <td>BHMS, MD - Homeopathy</td>\n",
       "      <td>24</td>\n",
       "      <td>100.0</td>\n",
       "      <td>Homeopath</td>\n",
       "      <td>100% 16 Feedback Kakkanad, Ernakulam</td>\n",
       "      <td>100.0</td>\n",
       "      <td>train</td>\n",
       "      <td>Kakkanad</td>\n",
       "      <td>Ernakulam</td>\n",
       "    </tr>\n",
       "    <tr>\n",
       "      <th>1</th>\n",
       "      <td>BAMS, MD - Ayurveda Medicine</td>\n",
       "      <td>12</td>\n",
       "      <td>98.0</td>\n",
       "      <td>Ayurveda</td>\n",
       "      <td>98% 76 Feedback Whitefield, Bangalore</td>\n",
       "      <td>350.0</td>\n",
       "      <td>train</td>\n",
       "      <td>Whitefield</td>\n",
       "      <td>Bangalore</td>\n",
       "    </tr>\n",
       "  </tbody>\n",
       "</table>\n",
       "</div>"
      ],
      "text/plain": [
       "                  Qualification  Experience  Rating    Profile  \\\n",
       "0         BHMS, MD - Homeopathy          24   100.0  Homeopath   \n",
       "1  BAMS, MD - Ayurveda Medicine          12    98.0   Ayurveda   \n",
       "\n",
       "                      Miscellaneous_Info   Fees    ref        Area        City  \n",
       "0   100% 16 Feedback Kakkanad, Ernakulam  100.0  train    Kakkanad   Ernakulam  \n",
       "1  98% 76 Feedback Whitefield, Bangalore  350.0  train  Whitefield   Bangalore  "
      ]
     },
     "execution_count": 23,
     "metadata": {},
     "output_type": "execute_result"
    }
   ],
   "source": [
    "#Drop column \"Place\" as it is already divided into Area & City\n",
    "df.drop(\"Place\",axis=1,inplace=True)\n",
    "df.head(2)"
   ]
  },
  {
   "cell_type": "code",
   "execution_count": 24,
   "metadata": {},
   "outputs": [
    {
     "name": "stdout",
     "output_type": "stream",
     "text": [
      "938\n",
      "10\n"
     ]
    }
   ],
   "source": [
    "#Check unique value in \"Area\" & \"City\"\n",
    "print(df[\"Area\"].nunique())\n",
    "print(df[\"City\"].nunique())"
   ]
  },
  {
   "cell_type": "code",
   "execution_count": 25,
   "metadata": {},
   "outputs": [
    {
     "data": {
      "text/plain": [
       "array(['Kakkanad', 'Whitefield', 'Mathikere - BEL', 'Bannerghatta Road',\n",
       "       'Keelkattalai', 'Porur', 'Karol Bagh', 'Arekere', 'Old City',\n",
       "       'Athani', 'Thousand Lights', 'Somajiguda', 'Coimbatore Racecourse',\n",
       "       'Jubilee Hills', 'Kondli', 'Saroor Nagar', 'Tambaram West',\n",
       "       'Purasawakkam', 'KPHB', 'HSR Layout', 'Pollachi',\n",
       "       'Vasundhra Enclave', 'Chembur', 'Thammanam', 'Andheri', 'Pattom',\n",
       "       'Kukatpally', 'Vadavalli', 'Defence Colony', 'Banjara Hills',\n",
       "       'Sion West', 'CR Park', 'Mogappair East', 'IP Extension',\n",
       "       'Safdarjung Enclave', 'New Friends Colony', 'Borivali West',\n",
       "       'Saket', 'Malad', 'Hyder Nagar', 'Dahisar West', 'RT Nagar',\n",
       "       'Powai', 'Basheerbagh', 'Musheerabad', 'AS Rao Nagar', 'Madhapur',\n",
       "       'Gandhinagar', 'Chetpet', 'Vileparle East', 'Yelahanka New Town',\n",
       "       'Kodambakkam', 'Malleswaram', 'Pallikaranai', 'Nallakunta',\n",
       "       'Paschim Vihar', 'Meera Bagh', 'Chattarpur', 'Andheri West',\n",
       "       'Himayat Nagar', 'Adambakkam', 'Punjabi Bagh', 'Mahalaxmi',\n",
       "       'Kalina', 'Attapur', 'Lakdikapul', 'Ambattur', 'Ramnagar',\n",
       "       'Shalimar Bagh', 'Nungambakkam', 'Miyapur', 'Sagarpur', 'Girgaon',\n",
       "       'Jayanagar', 'Palayam', 'Munirka', 'Tuglakabad', 'Moosarambagh',\n",
       "       'unknown', 'Anna Nagar East', 'Bandra West', 'Kanakpura Road',\n",
       "       'Green Park', 'Maduravoyal', 'Dahisar East', 'Moosapet',\n",
       "       'Koramangala', 'TV Medical College', 'Kadavanthra', 'Greams Road',\n",
       "       'Bommanahalli', 'T Nagar', 'Yelahanka', 'Hazrat Nizamuddin',\n",
       "       'Old Rajendra Nagar', 'Dadar West', 'Indiranagar', 'Perumbakkam',\n",
       "       'Shaikpet', 'Vyttila', 'Khar West', 'Goregaon West', 'Bakkarwala',\n",
       "       'Nesapakkam', 'BTM Layout 2nd Stage', 'Ashok Nagar', 'Chandivali',\n",
       "       'Uttam Nagar', 'Gujranwala Town', 'Greater Kailash Part 1',\n",
       "       'Panchsheel Park', 'Thoraipakkam', 'South Extension 2',\n",
       "       'Kandivali East', 'Pitampura', 'Banashankari 3rd Stage',\n",
       "       'Kolenchery', 'Kumaraswamy Layout', 'Vadapalani', 'Manikonda',\n",
       "       'Gandhipuram', 'Yeshwanthpur', 'Ayanavaram', 'Basaveshwaranagar',\n",
       "       'Malad West', 'Vikas Puri', 'Kondapur', 'Andheri East', 'Sulur',\n",
       "       'Adyar', 'Krishna Nagar', 'Langer House', 'Thiruvanmiyur',\n",
       "       'Dwarka', 'Bhandup West', 'Janak Puri', 'Rajajinagar',\n",
       "       'South Extension 1', 'Kemps Corner', 'Peelamedu', 'Kandivali West',\n",
       "       'Thevara', 'Wilson Garden', 'Wadala', 'Pahar Ganj', 'Chanchalguda',\n",
       "       'Chikkadpally', 'Pasur-avanashi', 'Nagarbhavi', 'Lajpat Nagar',\n",
       "       'Mayur Vihar Ph-I', 'Dilshad Garden', 'Vijayanagar', 'Alwarpet',\n",
       "       'Pappanamcode', 'Aluva', 'Nariman Point', 'Kilkattalai',\n",
       "       'Dilsukhnagar', 'Kurla West', 'Begumpet', 'Kaloor', 'Hitech City',\n",
       "       'Goregaon East', 'Velandipalayam', 'Ghatkopar East', 'Mulund West',\n",
       "       'Yousufguda', 'Ghatkopar West', 'TVM Beach', 'Vanagaram', 'Worli',\n",
       "       'Koramangala 1 Block', 'Saki Vihar Road', 'Versova',\n",
       "       'CV Raman Nagar', 'Secunderabad', 'BTM Layout 1st Stage',\n",
       "       'Ramkoti', 'MRC Nagar', 'Malkajgiri', 'Gachibowli',\n",
       "       'Mogappair West', 'Mayur Vihar Ph-III', 'Kurla East',\n",
       "       'Ashok Vihar', 'Mahim', 'Villivakkam', 'Srinagar Colony',\n",
       "       'Chromepet', 'Pammal', 'Banashankari', 'Velachery', 'Chanakyapuri',\n",
       "       'Kalyan Nagar', 'Oshiwara', 'Karapakkam', 'Borivali', 'Mylapore',\n",
       "       'Electronics City', 'Perungudi', 'Basavanagudi', 'MG Road',\n",
       "       'Thiruvottiyur', 'Greater Kailash Part 2', 'Bilekahalli',\n",
       "       'Nanganallur', 'Rohini', 'Thrikkakara', 'Manapakkam', 'Bellandur',\n",
       "       'Ameerpet', 'Thiruvallom', 'R.S. Puram', 'Kumarapuram',\n",
       "       'Palam Colony', 'Manali', 'Valasaravakkam', 'Barkatpura',\n",
       "       'Singanallur', 'Mulund', 'Dadar East', 'Borabanda', 'Model Town 3',\n",
       "       'Ulsoor', 'Bhayandar West', 'Hari Nagar', 'Horamavu',\n",
       "       'Santacruz East', 'OMR Road', 'Kammana Halli', 'Tilak Nagar',\n",
       "       'Panathur', 'Rajarajeshwarinagar', 'Paravur', 'Preet Vihar',\n",
       "       'Chembur East', 'Jakkur', 'Vanasthalipuram', 'Mandaveli',\n",
       "       'Kumara Park West', 'Domlur', 'Jeevanbhimanagar', 'Santacruz West',\n",
       "       'Shankar Vihar', 'Jogeshwari East', 'Kasavanahalli', 'Ambalamukku',\n",
       "       'Jhilmil Colony', 'Dwarka Sector 7', 'Tatabad', 'Marine Lines',\n",
       "       'Tolichowki', 'Sundarapuram', 'Kothanur', 'Chinmaya Nagar',\n",
       "       'Vasant Vihar', 'Mehdipatnam', 'Kadugodi', 'Ganapathy', 'SR Nagar',\n",
       "       'Perambur', 'Opera House', 'Selvapuram', 'Karkardooma',\n",
       "       'Alwarthirunagar', 'KR Puram', 'Ramesh Nagar', 'Malakpet',\n",
       "       'Tondiarpet', 'Vikrampuri Colony', 'Besant Nagar', 'Vasant Kunj',\n",
       "       'Banaswadi', 'BTM Layout', 'Medavakkam', 'Vileparle West',\n",
       "       'Sahakaranagar', 'LB Nagar', 'Punjagutta', 'Yamuna Vihar',\n",
       "       'Marathahalli', 'JP Nagar 2 Phase', 'Rani Bagh', 'Jayamahal',\n",
       "       'Nagpada', 'Kundalahalli', 'Kailash Colony', 'Pandav Nagar',\n",
       "       'Karkhana', 'West Mambalam', 'Aminjikarai', 'Madipakkam',\n",
       "       'Charkop', 'Adarsh Nagar', 'Dadar', 'Kaggadasapura', 'Matunga',\n",
       "       'Sun city', 'Mahadevapura', 'Kalady', 'Anna Nagar West',\n",
       "       'Mayur Vihar Ph-II', 'Tis Hazari', 'Vennala', 'Mira Road', 'Alwal',\n",
       "       'Trimulgherry', 'Raja Annamalai Puram', 'JP Nagar 7 Phase',\n",
       "       'Old Bowenpally', 'Santosh Nagar', 'Hope College', 'Mulund East',\n",
       "       'Mount Road', 'Patel Nagar West', 'Jayanagar 4 Block',\n",
       "       'West Marredpally', 'Jagriti Enclave', 'Sarita Vihar',\n",
       "       'Rajendra Nagar', 'Thudiyalur', 'Bhayandar East', 'Narayanguda',\n",
       "       'Kothapet', 'KK Nagar', 'Tripunithura', 'Model Town',\n",
       "       'Suchitra Circle', 'Pusa Road', 'Vijaynagar Colony', 'Alandur',\n",
       "       'Cuffe Parade', 'Kalkaji', 'Saibaba Colony', 'Kattakada',\n",
       "       'Jogeshwari West', 'Erragadda', 'Edapally', 'Patparganj',\n",
       "       'Sainikpuri', 'Nanjundapuram', 'Nizampet', 'Kolathur',\n",
       "       'Chamarajpet', 'Kala Ghoda', 'Padmarao Nagar', 'Uppal',\n",
       "       'Guduvanchery', 'Satya Niketan', 'Chanda Nagar', 'Sowripalayam',\n",
       "       'Vikhroli West', 'Rajouri Garden', 'Alaknanda', 'Millers Road',\n",
       "       'Kandanchavadi', 'Vigyan Vihar', 'Bandra East', 'Vilankurichi',\n",
       "       'Malad East', 'Prabhadevi', 'Ulloor', 'Rajakilpakkam',\n",
       "       'Greater Kailash', 'Madinaguda', 'Borivali East', 'Juhu',\n",
       "       'Mugalivakkam', 'Hebbal', 'Kirti Nagar', 'Balaramapuram',\n",
       "       'Bhandup East', 'VV Puram', 'Kilpauk', 'Jacob Circle',\n",
       "       'Singasandra', 'Khairatabad', 'Coimbatore Aerodrome', 'J.C Nagar',\n",
       "       'Naraina Vihar', 'Virugambakkam', 'RK Puram',\n",
       "       'Banashankari 1st Stage', 'Lajpat Nagar 4', 'Jayanagar 5 Block',\n",
       "       'Kalyanpuri', 'Tambaram', 'Laxmi Nagar', 'Anand Vihar',\n",
       "       'Charni Road', 'Patel Nagar East', 'Jayanagar 9 Block', 'Ecil',\n",
       "       'Ramamurthy Nagar', 'Raj Nagar - 2', 'Chunabhatti',\n",
       "       'Vikhroli East', 'Shakarpur', 'Shahdara', 'Govandi',\n",
       "       'Mira Bhayandar', 'Doddanekundi', 'Madhu Vihar', 'Guindy',\n",
       "       'Palarivattom', 'Charminar', 'Old Airport Road', 'Sarjapur Road',\n",
       "       'Okhla', 'Baghlingampally', 'Trombay', 'HRBR Layout', 'Fort',\n",
       "       'Shastri Nagar', 'Red Hills', 'New BEL Road', 'Park Town',\n",
       "       'Frazer Town', 'Falaknuma', 'Rohini Sector 7', 'East Of Kailash',\n",
       "       'Chintadripet', 'Tagore Garden', 'Tri Nagar', 'Muttada',\n",
       "       'Munnekollal', 'TV Museum', 'Shivalik', 'Neb Sarai',\n",
       "       'Mahalakshmi Layout', 'Mankhurd', 'Kamla Nagar', 'Saravanampatti',\n",
       "       'Selaiyur', 'Saligramam', 'Thirumullaivoyal', 'Teynampet', 'Kochi',\n",
       "       'Vidyaranyapura', 'Mogappair', 'Mazgaon', 'Shivaji Nagar',\n",
       "       'Jangpura', 'Kaudiar Square', 'Arumbakkam', 'Cherai',\n",
       "       'Mira-Bhayandar Road', 'Ram Nagar', 'Parel', 'Thanisandra',\n",
       "       'Pragathi Nagar', 'Karamana', 'AECS Layout', 'Nizamuddin East',\n",
       "       'Ramanathapuram', 'Anna Nagar', 'Shenoy Nagar', 'Siddhapudur',\n",
       "       'Keshav Puram', 'Edakochi', 'Nagawara', 'Chintal', 'Malviya Nagar',\n",
       "       'Karwan', 'Vazhakulam', 'PMG Jn', 'Dwarka Sector 6', 'Viveknagar',\n",
       "       'Balapur', 'Banashankari 2nd Stage', 'Azadpur', 'Moti Nagar',\n",
       "       'Sakinaka', 'Thoppumpady', 'Sanath Nagar', 'Royapettah',\n",
       "       'Koramangala 5 Block', 'Kanjurmarg', 'Ernakulam College',\n",
       "       'Urapakkam', 'Coimbatore Ukkadam', 'Sreekaryam', 'Ernakulam North',\n",
       "       'Sultanpur', 'Banerji Road', 'Balkampet', 'Kavundampalayam',\n",
       "       'Kanchanbagh', 'Patel Nagar', 'Kilokri', 'Hoodi', 'New Seemapuri',\n",
       "       'Seshadripuram', 'Vijaynagar', 'Bowenpally', 'Ondipudur',\n",
       "       'Triplicane', 'Richmond Town', 'New Rajendra Nagar',\n",
       "       'Jahangirpuri', 'Vivek Vihar', 'Malleshpalya', 'Pezhakkappilly',\n",
       "       'Lingampally', 'Jamia Nagar', 'Begum Bazar', 'Lower Parel',\n",
       "       'ECR Road', 'Nangloi', 'Chintalmet', 'West Of Chord Road',\n",
       "       'SV Road', 'JP Nagar 5 Phase', 'Sanjay Nagar', 'Panampilly Nagar',\n",
       "       'Dharavi', 'Abbigere', 'Manacaud', 'Poonamalle', 'Najafgarh',\n",
       "       'Uttarahalli', 'Sembakkam', 'Tarnaka', 'Nandanam', 'Saidapet',\n",
       "       'Choolaimedu', 'Perungalathur', 'Gulabi Bagh', 'Jasola',\n",
       "       'JP Nagar 3 Phase', 'Uppilipalayam', 'Sadashivanagar',\n",
       "       'Rohini Sector 24', 'Muvattupuzha', 'Khan Market', 'Abids',\n",
       "       'Geeta Colony', 'Madandapuram', 'Dwarka Sector 22', 'Grant Road',\n",
       "       'Jeedimetla', 'Tambaram East', 'Kothaguda', 'Hauz Khas',\n",
       "       'Habsiguda', 'Breach Candy', 'Vidyanagar', 'Begur', 'Dahisar',\n",
       "       'Pachalam', 'Perumbavoor', 'Avadi', 'Coimbatore Central',\n",
       "       'Lokhandwala', 'Tiruvottiyur', 'Ullal Upanagara', 'Perurkada',\n",
       "       'Ashok Vihar Phase 3', 'Walkeshwar', 'Saidabad',\n",
       "       'Koramangala 6 Block', 'New Ashok Nagar', 'Peddar Road',\n",
       "       'Aya Nagar', 'JP Nagar', 'Sasthamangalam', 'Yakutpura',\n",
       "       'Sampangiramnagar', 'Kasturi nagar', 'Pallavaram', 'Moti Bagh',\n",
       "       'Mukherjee Nagar', 'Byculla', 'Peeragarhi', 'Amberpet',\n",
       "       'JP Nagar 6 Phase', 'Sholinganallur', 'Langford Road',\n",
       "       'Cumballa Hill', 'Colaba', 'Qutab Institutional Area',\n",
       "       'Dommasandra', 'Malabar Hill', 'Koramangala 8 Block',\n",
       "       'Rohini Sector 22', 'Lothkunta', 'HAL 2nd Stage',\n",
       "       'Jayanagar 7 Block', 'Vadasserikonam', 'East Marredpally',\n",
       "       'Kelambakkam', 'Chinchpokli', 'Delhi Cantt', 'Padmanabhanagar',\n",
       "       'Sheikh Sarai', 'Washermenpet', 'Konanakunte',\n",
       "       'Ashok Vihar Phase 1', 'Thirumala', 'Sarjapura',\n",
       "       'JP Nagar 1 Phase', 'JB Nagar', 'Paruthippara', 'Vikhroli',\n",
       "       'JP Nagar 8 Phase', 'GTB Nagar', 'Masab Tank', 'Hafeezpet',\n",
       "       'Jeevan Park', 'Dwarka Sector 5', 'Civil Lines', 'Anand Niketan',\n",
       "       'Pappanaickenpalayam', 'Koovappady', 'Srirampuram', 'Korattur',\n",
       "       'Pappanaickenpudur', 'Gandhi Nagar', 'Vignan Nagar', 'Ganganagar',\n",
       "       'Elamakkara', 'Boduppal', 'Khetwadi', 'Kengeri', 'Sion East',\n",
       "       'Rohini Sector 6', 'Kazhakuttam', 'Goregaon', 'Peroor',\n",
       "       'New Thippasandra', 'Jalahalli', 'King Koti', 'Kallambalam',\n",
       "       'Dwarka Sector 13', 'Residency Road', 'Radhakrishnan Salai',\n",
       "       'Hulimavu', 'Dasarahalli', 'Vileparle', 'Delhi', 'Kachiguda',\n",
       "       'Venkitapuram', 'Kuniamuthur', 'TV Chalai', 'Serilingampally',\n",
       "       'RMV 2nd Stage', 'Champapet', 'Surya Niketan', 'Kovilpalayam',\n",
       "       'Nampally', 'Siddapura', 'Neredmet', 'Vellakinar', 'Egmore',\n",
       "       'Katwaria Sarai', 'Navalur', 'Mehrauli', 'HBR Layout',\n",
       "       'Subhash Nagar', 'Mallepally', 'Eroor South', 'Lajpat Nagar III',\n",
       "       'Kodungaiyur', 'Kuppakonanpudur', 'Paradise', 'Rohini Sector 4',\n",
       "       'Koramangala 4 Block', 'Dwarka Sector 3', 'Durga Puri',\n",
       "       'Kalamassery', 'Gulmohar Park', 'Adugodi', 'Nallagandla',\n",
       "       'Gowrivakkam', 'Periyar Nagar', 'Austin Town', 'Afzalgunj',\n",
       "       'Cotton Hill', 'Goldwins', 'Kuravankonam', 'Rohini Sector 3',\n",
       "       'Lado Sarai', 'Koramangala 2 Block', 'Madangir', 'Marine Drive',\n",
       "       'Angamaly', 'Neelankarai', 'Churchgate', 'Kalapatti', 'Nand Nagri',\n",
       "       'Kandivali', 'Madanpura', 'Hegde Nagar', 'Domalguda',\n",
       "       'Mumbai Central', 'Vasanthnagar', 'Kapashera',\n",
       "       'August Kranti Marg', 'Lal baug', 'Perumathura', 'Molarband',\n",
       "       'Piravom', 'Neeti Bagh', 'Kishanbagh', 'Shantinagar', 'Poojapura',\n",
       "       'Rathinapuri', 'Model Town 1', 'Koothattukulam', 'Anand Lok',\n",
       "       'Pappanaickenpalayam West', 'Subzi Mandi', 'Sion', 'Nagole',\n",
       "       'TVM Pettah', 'Changampuzha Nagar', 'Puzhal', 'Vanchiyur',\n",
       "       'Sukh Vihar', 'Kovalam', 'Swasthya Vihar', 'Tardeo',\n",
       "       'Vishnu Garden', 'Jayanagar 1 Block', 'Sion Koliwada', 'Marol',\n",
       "       'Kalkere', 'Sindhi Colony', 'Silampur', 'Varthur', 'Model Town 2',\n",
       "       'Surajmal Vihar', 'Chandni Chowk', 'Veerakeralam', 'T Dasarahalli',\n",
       "       'Kaggalipura', 'Thonnakkal', 'Manjapra', 'Yellareddyguda',\n",
       "       'Kovilambakkam', 'Broadway', 'Podanur', 'Kompally', 'Kottivakkam',\n",
       "       'Mansarover Garden', 'Mandapeshwar', 'Rohini Sector 15',\n",
       "       'Vaduthala', 'Hebbal Kempapura', 'Sithalapakkam', 'MKB Nagar',\n",
       "       'Darya Ganj', 'Venjaramoodu', 'Kotturpuram', 'Ramapuram',\n",
       "       'Karmanghat', 'Moula Ali', 'Netaji Nagar', 'Chandra Layout',\n",
       "       'Akshaya nagar', 'Nirman Vihar', 'Vasant Enclave',\n",
       "       'St Thomas Mount', 'Royapuram', 'Abhiramapuram', 'Inder Puri',\n",
       "       'Edayarpalayam', 'Deoli', 'Mulanthuruthy', 'Sukhdev Vihar', 'e',\n",
       "       'Kothamangalam', 'Harlur', 'Bolarum', 'Richards Town', 'Narela',\n",
       "       'Nehru Place', 'Ramanthapur', 'Bali Nagar', 'Palavakkam',\n",
       "       'Balanagar', 'Hyderguda', 'Cherannagar', 'Rohini Sector 11',\n",
       "       'Dwarka Sector 4', 'Palluruthy', 'Vizhinjam', 'Santacruz',\n",
       "       'Ganesh Nagar', 'Vengal Rao Nagar', 'Deonar', 'Edapally North',\n",
       "       'IDA Jeedimetla', 'Mettupalayam', 'Hayathnagar', 'Kakkanad West',\n",
       "       'Khajaguda', 'Rohini Sector 5', 'Saraswati Vihar', 'Kingsway Camp',\n",
       "       'Ramamangalam', 'Indirapuram', 'Parassala', 'Connaught Place',\n",
       "       'Gottigerre', 'Shivrampally', 'Vyasarpadi', 'Kovaipudur',\n",
       "       'Vallakkadavoo', 'Kattupakkam', 'Nellimoodu', 'Pondy Bazaar',\n",
       "       'Prashant Vihar', 'Chullickal', 'Murugeshpalya', 'Khanpur',\n",
       "       'Madiwala', 'Dwarka Sector 23', 'Badarpur', 'Peyad', 'Uday Park',\n",
       "       'Bandlaguda', 'Karukappilli', 'Rana Pratap Bagh', 'Kochi M.G.Road',\n",
       "       'Gopalapuram', 'Puthenvelikkara', 'Sowcarpet', 'Chitlapakkam',\n",
       "       'Malumichampatti', 'Rohini Sector 8', 'Rohini Sector 2',\n",
       "       'Dwarka Sector 10', 'Agaram', 'Poovachal', 'Shanti Niketan',\n",
       "       'Pothencode', 'Dickenson Road', 'RTC X Road', 'Film Nagar',\n",
       "       'Lodhi Colony', 'SG Palya (Kormangla)', 'Palkulangara',\n",
       "       'Mahalingapuram', 'Matunga West', 'Nettoor', 'Rani Khera',\n",
       "       'Beeramguda', 'Ramachandrapuram', 'Neyyattinkara Town', 'Gorai',\n",
       "       'Jayanagar 3 Block', 'Shakti Nagar', 'Sangam Vihar', 'Shakurpur',\n",
       "       'Chaitanyapuri', 'TVM Fort', 'JP Nagar 4 Phase', 'Nayandahalli',\n",
       "       'Valiathura', 'Kowdiar', 'Cunningham Road', 'Hennur', 'Peenya',\n",
       "       'Pattimattam', 'HAL', 'Madhavaram', 'Ramakrishna Puram',\n",
       "       'Vikas Nagar', 'Chandrayangutta', 'Ernakulam', 'Aroor',\n",
       "       'Rohini West', 'Warasiguda', 'Vishwas Nagar', 'Bhandup',\n",
       "       'Chickpet', 'Madambakkam', 'Kaudiar', 'Khar East', 'Tavarekere',\n",
       "       'Kurla', 'Mahavir Enclave', 'Jayanagar 2 Block', 'Nacharam',\n",
       "       'Cheranalloor', 'Ayanambakkam', 'Dindarpur', 'Iyyappanthangal',\n",
       "       'Sarvapriya Vihar', 'Pattabiram', 'Kudlu', 'Kadubeesanahalli',\n",
       "       'Nemom', 'Alipur', 'Kanjoor', 'Nedumbassery', 'Safilguda',\n",
       "       'Hastsal', 'Tv Thampanoor', 'Mahipalpur', 'Outer Ring Road',\n",
       "       'Bhogal', 'Nedumangad', 'Lingarajapuram', 'Burari',\n",
       "       'Seeranaickenpalayam', 'JP Nagar 9 Phase', 'Bachupally',\n",
       "       'Jafferkhanpet', 'Nandambakkam', 'Rohini Sector 20',\n",
       "       'Sriniwaspuri', 'Palghar', 'Kapra', 'Sagar Road', 'Gamdevi',\n",
       "       'Poothotta', 'Koramangala 7 Block', 'KH Road', 'Delhi Cantonment',\n",
       "       'Hasthinapuram', 'Periyanaickenpalayam', 'Manchavilakom',\n",
       "       'Yemalur', 'Meerpet', 'Sewri', 'Padi', 'Ayyappankavu',\n",
       "       'Kalu Sarai', 'Pratap Nagar', 'Shadipur', 'Hongasandra',\n",
       "       'Dwarka Sector 12', 'BHEL', 'Hosur Road', 'Choolai'], dtype=object)"
      ]
     },
     "execution_count": 25,
     "metadata": {},
     "output_type": "execute_result"
    }
   ],
   "source": [
    "df[\"Area\"].unique()"
   ]
  },
  {
   "cell_type": "code",
   "execution_count": 26,
   "metadata": {},
   "outputs": [
    {
     "name": "stdout",
     "output_type": "stream",
     "text": [
      "[' Ernakulam' ' Bangalore' ' Chennai' ' Delhi' ' Hyderabad' ' Coimbatore'\n",
      " ' Mumbai' ' Thiruvananthapuram' 'unknown' ' Sector 5' nan]\n"
     ]
    }
   ],
   "source": [
    "print(df[\"City\"].unique())"
   ]
  },
  {
   "cell_type": "code",
   "execution_count": 27,
   "metadata": {},
   "outputs": [
    {
     "data": {
      "text/plain": [
       "array(['Ernakulam', 'Bangalore', 'Chennai', 'Delhi', 'Hyderabad',\n",
       "       'Coimbatore', 'Mumbai', 'Thiruvananthapuram', 'unknown', 'Sector5',\n",
       "       'nan'], dtype=object)"
      ]
     },
     "execution_count": 27,
     "metadata": {},
     "output_type": "execute_result"
    }
   ],
   "source": [
    "#Remove the spaces and special characters \n",
    "import re\n",
    "df[\"City\"]=df[\"City\"].apply(lambda x:re.sub(' +',\"\",str(x)))\n",
    "df[\"City\"].unique()"
   ]
  },
  {
   "cell_type": "code",
   "execution_count": 28,
   "metadata": {},
   "outputs": [
    {
     "data": {
      "text/html": [
       "<div>\n",
       "<style scoped>\n",
       "    .dataframe tbody tr th:only-of-type {\n",
       "        vertical-align: middle;\n",
       "    }\n",
       "\n",
       "    .dataframe tbody tr th {\n",
       "        vertical-align: top;\n",
       "    }\n",
       "\n",
       "    .dataframe thead th {\n",
       "        text-align: right;\n",
       "    }\n",
       "</style>\n",
       "<table border=\"1\" class=\"dataframe\">\n",
       "  <thead>\n",
       "    <tr style=\"text-align: right;\">\n",
       "      <th></th>\n",
       "      <th>Qualification</th>\n",
       "      <th>Experience</th>\n",
       "      <th>Rating</th>\n",
       "      <th>Profile</th>\n",
       "      <th>Miscellaneous_Info</th>\n",
       "      <th>Fees</th>\n",
       "      <th>ref</th>\n",
       "      <th>Area</th>\n",
       "      <th>City</th>\n",
       "    </tr>\n",
       "  </thead>\n",
       "  <tbody>\n",
       "    <tr>\n",
       "      <th>2169</th>\n",
       "      <td>BDS</td>\n",
       "      <td>11</td>\n",
       "      <td>0.0</td>\n",
       "      <td>Dentist</td>\n",
       "      <td>NaN</td>\n",
       "      <td>250.0</td>\n",
       "      <td>train</td>\n",
       "      <td>Dwarka</td>\n",
       "      <td>Sector5</td>\n",
       "    </tr>\n",
       "  </tbody>\n",
       "</table>\n",
       "</div>"
      ],
      "text/plain": [
       "     Qualification  Experience  Rating  Profile Miscellaneous_Info   Fees  \\\n",
       "2169           BDS          11     0.0  Dentist                NaN  250.0   \n",
       "\n",
       "        ref    Area     City  \n",
       "2169  train  Dwarka  Sector5  "
      ]
     },
     "execution_count": 28,
     "metadata": {},
     "output_type": "execute_result"
    }
   ],
   "source": [
    "df[df[\"City\"] == \"Sector5\"]"
   ]
  },
  {
   "cell_type": "code",
   "execution_count": 29,
   "metadata": {},
   "outputs": [],
   "source": [
    "#Replace \"Sector5\" as \"Delhi\"\n",
    "df[\"City\"]=np.where(df[\"City\"]==\"Sector5\",\"Delhi\",df[\"City\"])"
   ]
  },
  {
   "cell_type": "code",
   "execution_count": 30,
   "metadata": {},
   "outputs": [
    {
     "data": {
      "text/html": [
       "<div>\n",
       "<style scoped>\n",
       "    .dataframe tbody tr th:only-of-type {\n",
       "        vertical-align: middle;\n",
       "    }\n",
       "\n",
       "    .dataframe tbody tr th {\n",
       "        vertical-align: top;\n",
       "    }\n",
       "\n",
       "    .dataframe thead th {\n",
       "        text-align: right;\n",
       "    }\n",
       "</style>\n",
       "<table border=\"1\" class=\"dataframe\">\n",
       "  <thead>\n",
       "    <tr style=\"text-align: right;\">\n",
       "      <th></th>\n",
       "      <th>Qualification</th>\n",
       "      <th>Experience</th>\n",
       "      <th>Rating</th>\n",
       "      <th>Profile</th>\n",
       "      <th>Miscellaneous_Info</th>\n",
       "      <th>Fees</th>\n",
       "      <th>ref</th>\n",
       "      <th>Area</th>\n",
       "      <th>City</th>\n",
       "    </tr>\n",
       "  </thead>\n",
       "  <tbody>\n",
       "    <tr>\n",
       "      <th>3980</th>\n",
       "      <td>BDS</td>\n",
       "      <td>23</td>\n",
       "      <td>0.0</td>\n",
       "      <td>Dentist</td>\n",
       "      <td>NaN</td>\n",
       "      <td>250.0</td>\n",
       "      <td>train</td>\n",
       "      <td>e</td>\n",
       "      <td>nan</td>\n",
       "    </tr>\n",
       "  </tbody>\n",
       "</table>\n",
       "</div>"
      ],
      "text/plain": [
       "     Qualification  Experience  Rating  Profile Miscellaneous_Info   Fees  \\\n",
       "3980           BDS          23     0.0  Dentist                NaN  250.0   \n",
       "\n",
       "        ref Area City  \n",
       "3980  train    e  nan  "
      ]
     },
     "execution_count": 30,
     "metadata": {},
     "output_type": "execute_result"
    }
   ],
   "source": [
    "#Check \"nan\" values in feature \"City\"\n",
    "df[df[\"City\"] == \"nan\"]"
   ]
  },
  {
   "cell_type": "code",
   "execution_count": 31,
   "metadata": {},
   "outputs": [],
   "source": [
    "#Fill \"Area\" & \"City\" as unknown as valyes are missing\n",
    "df[\"City\"].loc[3980]=\"unknown\"\n",
    "df[\"Area\"].loc[3980]=\"unknown\""
   ]
  },
  {
   "cell_type": "code",
   "execution_count": 32,
   "metadata": {},
   "outputs": [
    {
     "data": {
      "text/plain": [
       "array(['Ernakulam', 'Bangalore', 'Chennai', 'Delhi', 'Hyderabad',\n",
       "       'Coimbatore', 'Mumbai', 'Thiruvananthapuram', 'unknown'],\n",
       "      dtype=object)"
      ]
     },
     "execution_count": 32,
     "metadata": {},
     "output_type": "execute_result"
    }
   ],
   "source": [
    "df[\"City\"].unique()"
   ]
  },
  {
   "cell_type": "code",
   "execution_count": 33,
   "metadata": {},
   "outputs": [
    {
     "data": {
      "text/html": [
       "<div>\n",
       "<style scoped>\n",
       "    .dataframe tbody tr th:only-of-type {\n",
       "        vertical-align: middle;\n",
       "    }\n",
       "\n",
       "    .dataframe tbody tr th {\n",
       "        vertical-align: top;\n",
       "    }\n",
       "\n",
       "    .dataframe thead th {\n",
       "        text-align: right;\n",
       "    }\n",
       "</style>\n",
       "<table border=\"1\" class=\"dataframe\">\n",
       "  <thead>\n",
       "    <tr style=\"text-align: right;\">\n",
       "      <th></th>\n",
       "      <th>Qualification</th>\n",
       "      <th>Experience</th>\n",
       "      <th>Rating</th>\n",
       "      <th>Profile</th>\n",
       "      <th>Miscellaneous_Info</th>\n",
       "      <th>Fees</th>\n",
       "      <th>ref</th>\n",
       "      <th>Area</th>\n",
       "      <th>City</th>\n",
       "    </tr>\n",
       "  </thead>\n",
       "  <tbody>\n",
       "    <tr>\n",
       "      <th>91</th>\n",
       "      <td>Get inspired by remarkable stories of people l...</td>\n",
       "      <td>0</td>\n",
       "      <td>0.0</td>\n",
       "      <td>Dermatologists</td>\n",
       "      <td>NaN</td>\n",
       "      <td>100.0</td>\n",
       "      <td>train</td>\n",
       "      <td>unknown</td>\n",
       "      <td>unknown</td>\n",
       "    </tr>\n",
       "    <tr>\n",
       "      <th>502</th>\n",
       "      <td>Get inspired by remarkable stories of people l...</td>\n",
       "      <td>0</td>\n",
       "      <td>0.0</td>\n",
       "      <td>Dermatologists</td>\n",
       "      <td>NaN</td>\n",
       "      <td>100.0</td>\n",
       "      <td>train</td>\n",
       "      <td>unknown</td>\n",
       "      <td>unknown</td>\n",
       "    </tr>\n",
       "    <tr>\n",
       "      <th>599</th>\n",
       "      <td>Get inspired by remarkable stories of people l...</td>\n",
       "      <td>0</td>\n",
       "      <td>0.0</td>\n",
       "      <td>Dermatologists</td>\n",
       "      <td>NaN</td>\n",
       "      <td>100.0</td>\n",
       "      <td>train</td>\n",
       "      <td>unknown</td>\n",
       "      <td>unknown</td>\n",
       "    </tr>\n",
       "    <tr>\n",
       "      <th>605</th>\n",
       "      <td>Get inspired by remarkable stories of people l...</td>\n",
       "      <td>0</td>\n",
       "      <td>0.0</td>\n",
       "      <td>Dermatologists</td>\n",
       "      <td>NaN</td>\n",
       "      <td>100.0</td>\n",
       "      <td>train</td>\n",
       "      <td>unknown</td>\n",
       "      <td>unknown</td>\n",
       "    </tr>\n",
       "    <tr>\n",
       "      <th>724</th>\n",
       "      <td>Get inspired by remarkable stories of people l...</td>\n",
       "      <td>0</td>\n",
       "      <td>0.0</td>\n",
       "      <td>Dermatologists</td>\n",
       "      <td>NaN</td>\n",
       "      <td>100.0</td>\n",
       "      <td>train</td>\n",
       "      <td>unknown</td>\n",
       "      <td>unknown</td>\n",
       "    </tr>\n",
       "    <tr>\n",
       "      <th>1002</th>\n",
       "      <td>Get inspired by remarkable stories of people l...</td>\n",
       "      <td>0</td>\n",
       "      <td>0.0</td>\n",
       "      <td>Dermatologists</td>\n",
       "      <td>NaN</td>\n",
       "      <td>100.0</td>\n",
       "      <td>train</td>\n",
       "      <td>unknown</td>\n",
       "      <td>unknown</td>\n",
       "    </tr>\n",
       "    <tr>\n",
       "      <th>1083</th>\n",
       "      <td>Get inspired by remarkable stories of people l...</td>\n",
       "      <td>0</td>\n",
       "      <td>0.0</td>\n",
       "      <td>Dermatologists</td>\n",
       "      <td>NaN</td>\n",
       "      <td>100.0</td>\n",
       "      <td>train</td>\n",
       "      <td>unknown</td>\n",
       "      <td>unknown</td>\n",
       "    </tr>\n",
       "    <tr>\n",
       "      <th>1210</th>\n",
       "      <td>Get inspired by remarkable stories of people l...</td>\n",
       "      <td>0</td>\n",
       "      <td>0.0</td>\n",
       "      <td>Dermatologists</td>\n",
       "      <td>NaN</td>\n",
       "      <td>100.0</td>\n",
       "      <td>train</td>\n",
       "      <td>unknown</td>\n",
       "      <td>unknown</td>\n",
       "    </tr>\n",
       "    <tr>\n",
       "      <th>2078</th>\n",
       "      <td>Get inspired by remarkable stories of people l...</td>\n",
       "      <td>0</td>\n",
       "      <td>0.0</td>\n",
       "      <td>Dermatologists</td>\n",
       "      <td>NaN</td>\n",
       "      <td>100.0</td>\n",
       "      <td>train</td>\n",
       "      <td>unknown</td>\n",
       "      <td>unknown</td>\n",
       "    </tr>\n",
       "    <tr>\n",
       "      <th>2178</th>\n",
       "      <td>Get inspired by remarkable stories of people l...</td>\n",
       "      <td>0</td>\n",
       "      <td>0.0</td>\n",
       "      <td>Dermatologists</td>\n",
       "      <td>NaN</td>\n",
       "      <td>100.0</td>\n",
       "      <td>train</td>\n",
       "      <td>unknown</td>\n",
       "      <td>unknown</td>\n",
       "    </tr>\n",
       "    <tr>\n",
       "      <th>2328</th>\n",
       "      <td>Get inspired by remarkable stories of people l...</td>\n",
       "      <td>0</td>\n",
       "      <td>0.0</td>\n",
       "      <td>Dermatologists</td>\n",
       "      <td>NaN</td>\n",
       "      <td>100.0</td>\n",
       "      <td>train</td>\n",
       "      <td>unknown</td>\n",
       "      <td>unknown</td>\n",
       "    </tr>\n",
       "    <tr>\n",
       "      <th>3099</th>\n",
       "      <td>Get inspired by remarkable stories of people l...</td>\n",
       "      <td>0</td>\n",
       "      <td>0.0</td>\n",
       "      <td>Dermatologists</td>\n",
       "      <td>NaN</td>\n",
       "      <td>100.0</td>\n",
       "      <td>train</td>\n",
       "      <td>unknown</td>\n",
       "      <td>unknown</td>\n",
       "    </tr>\n",
       "    <tr>\n",
       "      <th>3228</th>\n",
       "      <td>Get inspired by remarkable stories of people l...</td>\n",
       "      <td>0</td>\n",
       "      <td>0.0</td>\n",
       "      <td>Dermatologists</td>\n",
       "      <td>NaN</td>\n",
       "      <td>100.0</td>\n",
       "      <td>train</td>\n",
       "      <td>unknown</td>\n",
       "      <td>unknown</td>\n",
       "    </tr>\n",
       "    <tr>\n",
       "      <th>3418</th>\n",
       "      <td>Get inspired by remarkable stories of people l...</td>\n",
       "      <td>0</td>\n",
       "      <td>0.0</td>\n",
       "      <td>Dermatologists</td>\n",
       "      <td>NaN</td>\n",
       "      <td>100.0</td>\n",
       "      <td>train</td>\n",
       "      <td>unknown</td>\n",
       "      <td>unknown</td>\n",
       "    </tr>\n",
       "    <tr>\n",
       "      <th>3443</th>\n",
       "      <td>Get inspired by remarkable stories of people l...</td>\n",
       "      <td>0</td>\n",
       "      <td>0.0</td>\n",
       "      <td>Dermatologists</td>\n",
       "      <td>NaN</td>\n",
       "      <td>100.0</td>\n",
       "      <td>train</td>\n",
       "      <td>unknown</td>\n",
       "      <td>unknown</td>\n",
       "    </tr>\n",
       "    <tr>\n",
       "      <th>3744</th>\n",
       "      <td>Get inspired by remarkable stories of people l...</td>\n",
       "      <td>0</td>\n",
       "      <td>0.0</td>\n",
       "      <td>Dermatologists</td>\n",
       "      <td>NaN</td>\n",
       "      <td>100.0</td>\n",
       "      <td>train</td>\n",
       "      <td>unknown</td>\n",
       "      <td>unknown</td>\n",
       "    </tr>\n",
       "    <tr>\n",
       "      <th>3804</th>\n",
       "      <td>Get inspired by remarkable stories of people l...</td>\n",
       "      <td>0</td>\n",
       "      <td>0.0</td>\n",
       "      <td>Dermatologists</td>\n",
       "      <td>NaN</td>\n",
       "      <td>100.0</td>\n",
       "      <td>train</td>\n",
       "      <td>unknown</td>\n",
       "      <td>unknown</td>\n",
       "    </tr>\n",
       "    <tr>\n",
       "      <th>3980</th>\n",
       "      <td>BDS</td>\n",
       "      <td>23</td>\n",
       "      <td>0.0</td>\n",
       "      <td>Dentist</td>\n",
       "      <td>NaN</td>\n",
       "      <td>250.0</td>\n",
       "      <td>train</td>\n",
       "      <td>unknown</td>\n",
       "      <td>unknown</td>\n",
       "    </tr>\n",
       "    <tr>\n",
       "      <th>4004</th>\n",
       "      <td>Get inspired by remarkable stories of people l...</td>\n",
       "      <td>0</td>\n",
       "      <td>0.0</td>\n",
       "      <td>Dermatologists</td>\n",
       "      <td>NaN</td>\n",
       "      <td>100.0</td>\n",
       "      <td>train</td>\n",
       "      <td>unknown</td>\n",
       "      <td>unknown</td>\n",
       "    </tr>\n",
       "    <tr>\n",
       "      <th>4758</th>\n",
       "      <td>Get inspired by remarkable stories of people l...</td>\n",
       "      <td>0</td>\n",
       "      <td>0.0</td>\n",
       "      <td>Dermatologists</td>\n",
       "      <td>NaN</td>\n",
       "      <td>100.0</td>\n",
       "      <td>train</td>\n",
       "      <td>unknown</td>\n",
       "      <td>unknown</td>\n",
       "    </tr>\n",
       "    <tr>\n",
       "      <th>4823</th>\n",
       "      <td>MBBS, DDVL</td>\n",
       "      <td>22</td>\n",
       "      <td>0.0</td>\n",
       "      <td>Dermatologists</td>\n",
       "      <td>NaN</td>\n",
       "      <td>150.0</td>\n",
       "      <td>train</td>\n",
       "      <td>unknown</td>\n",
       "      <td>unknown</td>\n",
       "    </tr>\n",
       "    <tr>\n",
       "      <th>4847</th>\n",
       "      <td>Get inspired by remarkable stories of people l...</td>\n",
       "      <td>0</td>\n",
       "      <td>0.0</td>\n",
       "      <td>Dermatologists</td>\n",
       "      <td>NaN</td>\n",
       "      <td>100.0</td>\n",
       "      <td>train</td>\n",
       "      <td>unknown</td>\n",
       "      <td>unknown</td>\n",
       "    </tr>\n",
       "    <tr>\n",
       "      <th>5058</th>\n",
       "      <td>Get inspired by remarkable stories of people l...</td>\n",
       "      <td>0</td>\n",
       "      <td>0.0</td>\n",
       "      <td>Dermatologists</td>\n",
       "      <td>NaN</td>\n",
       "      <td>100.0</td>\n",
       "      <td>train</td>\n",
       "      <td>unknown</td>\n",
       "      <td>unknown</td>\n",
       "    </tr>\n",
       "    <tr>\n",
       "      <th>5187</th>\n",
       "      <td>Get inspired by remarkable stories of people l...</td>\n",
       "      <td>0</td>\n",
       "      <td>0.0</td>\n",
       "      <td>Dermatologists</td>\n",
       "      <td>NaN</td>\n",
       "      <td>100.0</td>\n",
       "      <td>train</td>\n",
       "      <td>unknown</td>\n",
       "      <td>unknown</td>\n",
       "    </tr>\n",
       "    <tr>\n",
       "      <th>5551</th>\n",
       "      <td>Get inspired by remarkable stories of people l...</td>\n",
       "      <td>0</td>\n",
       "      <td>0.0</td>\n",
       "      <td>Dermatologists</td>\n",
       "      <td>NaN</td>\n",
       "      <td>100.0</td>\n",
       "      <td>train</td>\n",
       "      <td>unknown</td>\n",
       "      <td>unknown</td>\n",
       "    </tr>\n",
       "    <tr>\n",
       "      <th>5723</th>\n",
       "      <td>Get inspired by remarkable stories of people l...</td>\n",
       "      <td>0</td>\n",
       "      <td>0.0</td>\n",
       "      <td>Dermatologists</td>\n",
       "      <td>NaN</td>\n",
       "      <td>100.0</td>\n",
       "      <td>train</td>\n",
       "      <td>unknown</td>\n",
       "      <td>unknown</td>\n",
       "    </tr>\n",
       "    <tr>\n",
       "      <th>6342</th>\n",
       "      <td>Get inspired by remarkable stories of people l...</td>\n",
       "      <td>0</td>\n",
       "      <td>0.0</td>\n",
       "      <td>Dermatologists</td>\n",
       "      <td>NaN</td>\n",
       "      <td>NaN</td>\n",
       "      <td>test</td>\n",
       "      <td>unknown</td>\n",
       "      <td>unknown</td>\n",
       "    </tr>\n",
       "    <tr>\n",
       "      <th>7455</th>\n",
       "      <td>Get inspired by remarkable stories of people l...</td>\n",
       "      <td>0</td>\n",
       "      <td>0.0</td>\n",
       "      <td>Dermatologists</td>\n",
       "      <td>NaN</td>\n",
       "      <td>NaN</td>\n",
       "      <td>test</td>\n",
       "      <td>unknown</td>\n",
       "      <td>unknown</td>\n",
       "    </tr>\n",
       "    <tr>\n",
       "      <th>7605</th>\n",
       "      <td>Get inspired by remarkable stories of people l...</td>\n",
       "      <td>0</td>\n",
       "      <td>0.0</td>\n",
       "      <td>Dermatologists</td>\n",
       "      <td>NaN</td>\n",
       "      <td>NaN</td>\n",
       "      <td>test</td>\n",
       "      <td>unknown</td>\n",
       "      <td>unknown</td>\n",
       "    </tr>\n",
       "    <tr>\n",
       "      <th>7799</th>\n",
       "      <td>Get inspired by remarkable stories of people l...</td>\n",
       "      <td>0</td>\n",
       "      <td>0.0</td>\n",
       "      <td>Dermatologists</td>\n",
       "      <td>NaN</td>\n",
       "      <td>NaN</td>\n",
       "      <td>test</td>\n",
       "      <td>unknown</td>\n",
       "      <td>unknown</td>\n",
       "    </tr>\n",
       "    <tr>\n",
       "      <th>7886</th>\n",
       "      <td>Get inspired by remarkable stories of people l...</td>\n",
       "      <td>0</td>\n",
       "      <td>0.0</td>\n",
       "      <td>Dermatologists</td>\n",
       "      <td>NaN</td>\n",
       "      <td>NaN</td>\n",
       "      <td>test</td>\n",
       "      <td>unknown</td>\n",
       "      <td>unknown</td>\n",
       "    </tr>\n",
       "    <tr>\n",
       "      <th>7891</th>\n",
       "      <td>Get inspired by remarkable stories of people l...</td>\n",
       "      <td>0</td>\n",
       "      <td>0.0</td>\n",
       "      <td>Dermatologists</td>\n",
       "      <td>NaN</td>\n",
       "      <td>NaN</td>\n",
       "      <td>test</td>\n",
       "      <td>unknown</td>\n",
       "      <td>unknown</td>\n",
       "    </tr>\n",
       "  </tbody>\n",
       "</table>\n",
       "</div>"
      ],
      "text/plain": [
       "                                          Qualification  Experience  Rating  \\\n",
       "91    Get inspired by remarkable stories of people l...           0     0.0   \n",
       "502   Get inspired by remarkable stories of people l...           0     0.0   \n",
       "599   Get inspired by remarkable stories of people l...           0     0.0   \n",
       "605   Get inspired by remarkable stories of people l...           0     0.0   \n",
       "724   Get inspired by remarkable stories of people l...           0     0.0   \n",
       "1002  Get inspired by remarkable stories of people l...           0     0.0   \n",
       "1083  Get inspired by remarkable stories of people l...           0     0.0   \n",
       "1210  Get inspired by remarkable stories of people l...           0     0.0   \n",
       "2078  Get inspired by remarkable stories of people l...           0     0.0   \n",
       "2178  Get inspired by remarkable stories of people l...           0     0.0   \n",
       "2328  Get inspired by remarkable stories of people l...           0     0.0   \n",
       "3099  Get inspired by remarkable stories of people l...           0     0.0   \n",
       "3228  Get inspired by remarkable stories of people l...           0     0.0   \n",
       "3418  Get inspired by remarkable stories of people l...           0     0.0   \n",
       "3443  Get inspired by remarkable stories of people l...           0     0.0   \n",
       "3744  Get inspired by remarkable stories of people l...           0     0.0   \n",
       "3804  Get inspired by remarkable stories of people l...           0     0.0   \n",
       "3980                                                BDS          23     0.0   \n",
       "4004  Get inspired by remarkable stories of people l...           0     0.0   \n",
       "4758  Get inspired by remarkable stories of people l...           0     0.0   \n",
       "4823                                         MBBS, DDVL          22     0.0   \n",
       "4847  Get inspired by remarkable stories of people l...           0     0.0   \n",
       "5058  Get inspired by remarkable stories of people l...           0     0.0   \n",
       "5187  Get inspired by remarkable stories of people l...           0     0.0   \n",
       "5551  Get inspired by remarkable stories of people l...           0     0.0   \n",
       "5723  Get inspired by remarkable stories of people l...           0     0.0   \n",
       "6342  Get inspired by remarkable stories of people l...           0     0.0   \n",
       "7455  Get inspired by remarkable stories of people l...           0     0.0   \n",
       "7605  Get inspired by remarkable stories of people l...           0     0.0   \n",
       "7799  Get inspired by remarkable stories of people l...           0     0.0   \n",
       "7886  Get inspired by remarkable stories of people l...           0     0.0   \n",
       "7891  Get inspired by remarkable stories of people l...           0     0.0   \n",
       "\n",
       "             Profile Miscellaneous_Info   Fees    ref     Area     City  \n",
       "91    Dermatologists                NaN  100.0  train  unknown  unknown  \n",
       "502   Dermatologists                NaN  100.0  train  unknown  unknown  \n",
       "599   Dermatologists                NaN  100.0  train  unknown  unknown  \n",
       "605   Dermatologists                NaN  100.0  train  unknown  unknown  \n",
       "724   Dermatologists                NaN  100.0  train  unknown  unknown  \n",
       "1002  Dermatologists                NaN  100.0  train  unknown  unknown  \n",
       "1083  Dermatologists                NaN  100.0  train  unknown  unknown  \n",
       "1210  Dermatologists                NaN  100.0  train  unknown  unknown  \n",
       "2078  Dermatologists                NaN  100.0  train  unknown  unknown  \n",
       "2178  Dermatologists                NaN  100.0  train  unknown  unknown  \n",
       "2328  Dermatologists                NaN  100.0  train  unknown  unknown  \n",
       "3099  Dermatologists                NaN  100.0  train  unknown  unknown  \n",
       "3228  Dermatologists                NaN  100.0  train  unknown  unknown  \n",
       "3418  Dermatologists                NaN  100.0  train  unknown  unknown  \n",
       "3443  Dermatologists                NaN  100.0  train  unknown  unknown  \n",
       "3744  Dermatologists                NaN  100.0  train  unknown  unknown  \n",
       "3804  Dermatologists                NaN  100.0  train  unknown  unknown  \n",
       "3980         Dentist                NaN  250.0  train  unknown  unknown  \n",
       "4004  Dermatologists                NaN  100.0  train  unknown  unknown  \n",
       "4758  Dermatologists                NaN  100.0  train  unknown  unknown  \n",
       "4823  Dermatologists                NaN  150.0  train  unknown  unknown  \n",
       "4847  Dermatologists                NaN  100.0  train  unknown  unknown  \n",
       "5058  Dermatologists                NaN  100.0  train  unknown  unknown  \n",
       "5187  Dermatologists                NaN  100.0  train  unknown  unknown  \n",
       "5551  Dermatologists                NaN  100.0  train  unknown  unknown  \n",
       "5723  Dermatologists                NaN  100.0  train  unknown  unknown  \n",
       "6342  Dermatologists                NaN    NaN   test  unknown  unknown  \n",
       "7455  Dermatologists                NaN    NaN   test  unknown  unknown  \n",
       "7605  Dermatologists                NaN    NaN   test  unknown  unknown  \n",
       "7799  Dermatologists                NaN    NaN   test  unknown  unknown  \n",
       "7886  Dermatologists                NaN    NaN   test  unknown  unknown  \n",
       "7891  Dermatologists                NaN    NaN   test  unknown  unknown  "
      ]
     },
     "execution_count": 33,
     "metadata": {},
     "output_type": "execute_result"
    }
   ],
   "source": [
    "df[df[\"City\"] == \"unknown\"]"
   ]
  },
  {
   "cell_type": "code",
   "execution_count": 34,
   "metadata": {},
   "outputs": [
    {
     "data": {
      "text/plain": [
       "HSR Layout       97\n",
       "Andheri West     97\n",
       "Dwarka           94\n",
       "Banjara Hills    85\n",
       "Mulund West      81\n",
       "Name: Area, dtype: int64"
      ]
     },
     "execution_count": 34,
     "metadata": {},
     "output_type": "execute_result"
    }
   ],
   "source": [
    "#Unknown values in \"Area\" & \"City\" cannot be extracted as no corresponding details available in \"Miscelleneous_Info\"\n",
    "#In \"Area\" we will replace \"unknown\" by \"Mode\" & correspondingly fill unknown values in city\n",
    "#Frequent value / Mode in \"Area\"\n",
    "#As there are two mode, we will use top 5 area\n",
    "df[\"Area\"].value_counts()[0:5]"
   ]
  },
  {
   "cell_type": "code",
   "execution_count": 35,
   "metadata": {},
   "outputs": [
    {
     "data": {
      "text/plain": [
       "Int64Index([  91,  502,  599,  605,  724, 1002, 1083, 1210, 2078, 2178, 2328,\n",
       "            3099, 3228, 3418, 3443, 3744, 3804, 3980, 4004, 4758, 4823, 4847,\n",
       "            5058, 5187, 5551, 5723, 6342, 7455, 7605, 7799, 7886, 7891],\n",
       "           dtype='int64')"
      ]
     },
     "execution_count": 35,
     "metadata": {},
     "output_type": "execute_result"
    }
   ],
   "source": [
    "area_index=df[df[\"Area\"] == \"unknown\"].index\n",
    "area_index"
   ]
  },
  {
   "cell_type": "code",
   "execution_count": 36,
   "metadata": {},
   "outputs": [
    {
     "data": {
      "text/plain": [
       "7948"
      ]
     },
     "execution_count": 36,
     "metadata": {},
     "output_type": "execute_result"
    }
   ],
   "source": [
    "len(df[\"Area\"])"
   ]
  },
  {
   "cell_type": "code",
   "execution_count": 37,
   "metadata": {},
   "outputs": [
    {
     "data": {
      "text/plain": [
       "Qualification            0\n",
       "Experience               0\n",
       "Rating                   0\n",
       "Profile                  0\n",
       "Miscellaneous_Info    3454\n",
       "Fees                  1987\n",
       "ref                      0\n",
       "Area                     0\n",
       "City                     0\n",
       "dtype: int64"
      ]
     },
     "execution_count": 37,
     "metadata": {},
     "output_type": "execute_result"
    }
   ],
   "source": [
    "#Qualification\n",
    "df.isnull().sum()"
   ]
  },
  {
   "cell_type": "code",
   "execution_count": 38,
   "metadata": {},
   "outputs": [
    {
     "data": {
      "text/plain": [
       "array(['BHMS, MD - Homeopathy', 'BAMS, MD - Ayurveda Medicine',\n",
       "       'MBBS, MS - Otorhinolaryngology', ...,\n",
       "       'MD - Medicine, Post Graduate Diploma in Diabetology (PGDD), MBBS, FRCP - Internal Medicine',\n",
       "       'MBBS, MS - General Surgery, FAIS, FIAGES',\n",
       "       'MBBS, MD / MS - Obstetrics & Gynaecology'], dtype=object)"
      ]
     },
     "execution_count": 38,
     "metadata": {},
     "output_type": "execute_result"
    }
   ],
   "source": [
    "df[\"Qualification\"].unique()"
   ]
  },
  {
   "cell_type": "code",
   "execution_count": 39,
   "metadata": {},
   "outputs": [],
   "source": [
    "#Split the data\n",
    "df[\"UG\"]=df[\"Qualification\"].str.split(\",\").str[0]\n",
    "df[\"PG\"]=df[\"Qualification\"].str.split(\",\").str[1]\n",
    "df[\"PG2\"]=df[\"Qualification\"].str.split(\",\").str[3]\n",
    "df[\"PG3\"]=df[\"Qualification\"].str.split(\",\").str[4]\n",
    "df[\"PG4\"]=df[\"Qualification\"].str.split(\",\").str[5]\n",
    "df[\"PG5\"]=df[\"Qualification\"].str.split(\",\").str[6]\n",
    "df[\"PG6\"]=df[\"Qualification\"].str.split(\",\").str[7]\n",
    "df[\"PG7\"]=df[\"Qualification\"].str.split(\",\").str[8]\n",
    "df[\"PG8\"]=df[\"Qualification\"].str.split(\",\").str[9]\n",
    "df[\"PG9\"]=df[\"Qualification\"].str.split(\",\").str[10]\n",
    "df[\"PG10\"]=df[\"Qualification\"].str.split(\",\").str[11]"
   ]
  },
  {
   "cell_type": "code",
   "execution_count": 40,
   "metadata": {},
   "outputs": [
    {
     "name": "stdout",
     "output_type": "stream",
     "text": [
      "Doctors having Under Graduation degree : 7948 out of 7948\n",
      "Doctors having 1 Post Graduation degree: 5377 out of 7948\n",
      "Doctors having 2 Post Graduation degree: 499 out of 7948\n",
      "Doctors having 3 Post Graduation degree: 155 out of 7948\n",
      "Doctors having 4 Post Graduation degree: 43 out of 7948\n",
      "Doctors having 5 Post Graduation degree: 15 out of 7948\n",
      "Doctors having 6 Post Graduation degree: 8 out of 7948\n",
      "Doctors having 7 Post Graduation degree: 6 out of 7948\n",
      "Doctors having 8 Post Graduation degree: 2 out of 7948\n",
      "Doctors having 9 Post Graduation degree: 1 out of 7948\n",
      "Doctors having 10 Post Graduation degree: 1 out of 7948\n"
     ]
    }
   ],
   "source": [
    "#\n",
    "print(\"Doctors having Under Graduation degree :\",(7948-df[\"UG\"].isnull().sum()),\"out of\",7948)\n",
    "print(\"Doctors having 1 Post Graduation degree:\",(7948-df[\"PG\"].isnull().sum()),\"out of\",7948)\n",
    "print(\"Doctors having 2 Post Graduation degree:\",(7948-df[\"PG2\"].isnull().sum()),\"out of\",7948)\n",
    "print(\"Doctors having 3 Post Graduation degree:\",(7948-df[\"PG3\"].isnull().sum()),\"out of\",7948)\n",
    "print(\"Doctors having 4 Post Graduation degree:\",(7948-df[\"PG4\"].isnull().sum()),\"out of\",7948)\n",
    "print(\"Doctors having 5 Post Graduation degree:\",(7948-df[\"PG5\"].isnull().sum()),\"out of\",7948)\n",
    "print(\"Doctors having 6 Post Graduation degree:\",(7948-df[\"PG6\"].isnull().sum()),\"out of\",7948)\n",
    "print(\"Doctors having 7 Post Graduation degree:\",(7948-df[\"PG7\"].isnull().sum()),\"out of\",7948)\n",
    "print(\"Doctors having 8 Post Graduation degree:\",(7948-df[\"PG8\"].isnull().sum()),\"out of\",7948)\n",
    "print(\"Doctors having 9 Post Graduation degree:\",(7948-df[\"PG9\"].isnull().sum()),\"out of\",7948)\n",
    "print(\"Doctors having 10 Post Graduation degree:\",(7948-df[\"PG10\"].isnull().sum()),\"out of\",7948)"
   ]
  },
  {
   "cell_type": "raw",
   "metadata": {},
   "source": [
    "Observation:\n",
    "1.All doctors have UG degree.\n",
    "2.Most doctors 5377 of 7948 have 1PG degree after UG."
   ]
  },
  {
   "cell_type": "code",
   "execution_count": 41,
   "metadata": {},
   "outputs": [
    {
     "data": {
      "text/plain": [
       "(7948, 20)"
      ]
     },
     "execution_count": 41,
     "metadata": {},
     "output_type": "execute_result"
    }
   ],
   "source": [
    "df.shape"
   ]
  },
  {
   "cell_type": "code",
   "execution_count": 42,
   "metadata": {},
   "outputs": [],
   "source": [
    "#Lets consider only the doctors who have 3 PG degree. As it will include 99.5% of doctors from dataset\n",
    "#Drop column PG4 to PG10 & Qualification column\n",
    "df.drop([\"Qualification\",\"PG4\",\"PG5\",\"PG6\",\"PG7\",\"PG8\",\"PG9\",\"PG10\"],axis=1,inplace=True)"
   ]
  },
  {
   "cell_type": "code",
   "execution_count": 43,
   "metadata": {},
   "outputs": [
    {
     "data": {
      "text/plain": [
       "(7948, 12)"
      ]
     },
     "execution_count": 43,
     "metadata": {},
     "output_type": "execute_result"
    }
   ],
   "source": [
    "df.shape"
   ]
  },
  {
   "cell_type": "code",
   "execution_count": 44,
   "metadata": {},
   "outputs": [],
   "source": [
    "#FIll nan values in PG,PG2 & PG3 as None\n",
    "df[\"PG\"].fillna(\"None\",inplace=True)\n",
    "df[\"PG2\"].fillna(\"None\",inplace=True)\n",
    "df[\"PG3\"].fillna(\"None\",inplace=True)"
   ]
  },
  {
   "cell_type": "code",
   "execution_count": 45,
   "metadata": {},
   "outputs": [
    {
     "data": {
      "text/plain": [
       "Experience               0\n",
       "Rating                   0\n",
       "Profile                  0\n",
       "Miscellaneous_Info    3454\n",
       "Fees                  1987\n",
       "ref                      0\n",
       "Area                     0\n",
       "City                     0\n",
       "UG                       0\n",
       "PG                       0\n",
       "PG2                      0\n",
       "PG3                      0\n",
       "dtype: int64"
      ]
     },
     "execution_count": 45,
     "metadata": {},
     "output_type": "execute_result"
    }
   ],
   "source": [
    "df.isnull().sum()"
   ]
  },
  {
   "cell_type": "code",
   "execution_count": 46,
   "metadata": {},
   "outputs": [],
   "source": [
    "#Feature \"Miscellenous Info\" can be dropped as all the details are present in other features\n",
    "df.drop([\"Miscellaneous_Info\"],axis=1,inplace=True)"
   ]
  },
  {
   "cell_type": "code",
   "execution_count": 47,
   "metadata": {},
   "outputs": [
    {
     "data": {
      "text/plain": [
       "937"
      ]
     },
     "execution_count": 47,
     "metadata": {},
     "output_type": "execute_result"
    }
   ],
   "source": [
    "#Feature area has 937 unique values.Which will be difficult to handle with pd.dummies. As city column has all the details\n",
    "df[\"Area\"].nunique()"
   ]
  },
  {
   "cell_type": "code",
   "execution_count": 48,
   "metadata": {},
   "outputs": [],
   "source": [
    "df.drop([\"Area\"],axis=1,inplace=True)"
   ]
  },
  {
   "cell_type": "code",
   "execution_count": 49,
   "metadata": {},
   "outputs": [
    {
     "data": {
      "text/plain": [
       "Experience       0\n",
       "Rating           0\n",
       "Profile          0\n",
       "Fees          1987\n",
       "ref              0\n",
       "City             0\n",
       "UG               0\n",
       "PG               0\n",
       "PG2              0\n",
       "PG3              0\n",
       "dtype: int64"
      ]
     },
     "execution_count": 49,
     "metadata": {},
     "output_type": "execute_result"
    }
   ],
   "source": [
    "#Check null values\n",
    "df.isnull().sum()\n",
    "#Null values in Feature \"Fees\" are test data."
   ]
  },
  {
   "cell_type": "code",
   "execution_count": 50,
   "metadata": {},
   "outputs": [
    {
     "data": {
      "text/plain": [
       "Experience      int32\n",
       "Rating        float64\n",
       "Profile        object\n",
       "Fees          float64\n",
       "ref            object\n",
       "City           object\n",
       "UG             object\n",
       "PG             object\n",
       "PG2            object\n",
       "PG3            object\n",
       "dtype: object"
      ]
     },
     "execution_count": 50,
     "metadata": {},
     "output_type": "execute_result"
    }
   ],
   "source": [
    "df.dtypes"
   ]
  },
  {
   "cell_type": "code",
   "execution_count": 51,
   "metadata": {},
   "outputs": [
    {
     "data": {
      "text/html": [
       "<div>\n",
       "<style scoped>\n",
       "    .dataframe tbody tr th:only-of-type {\n",
       "        vertical-align: middle;\n",
       "    }\n",
       "\n",
       "    .dataframe tbody tr th {\n",
       "        vertical-align: top;\n",
       "    }\n",
       "\n",
       "    .dataframe thead th {\n",
       "        text-align: right;\n",
       "    }\n",
       "</style>\n",
       "<table border=\"1\" class=\"dataframe\">\n",
       "  <thead>\n",
       "    <tr style=\"text-align: right;\">\n",
       "      <th></th>\n",
       "      <th>Experience</th>\n",
       "      <th>Rating</th>\n",
       "      <th>Profile</th>\n",
       "      <th>Fees</th>\n",
       "      <th>ref</th>\n",
       "      <th>City</th>\n",
       "      <th>UG</th>\n",
       "      <th>PG</th>\n",
       "      <th>PG2</th>\n",
       "      <th>PG3</th>\n",
       "    </tr>\n",
       "  </thead>\n",
       "  <tbody>\n",
       "    <tr>\n",
       "      <th>0</th>\n",
       "      <td>24</td>\n",
       "      <td>100.0</td>\n",
       "      <td>Homeopath</td>\n",
       "      <td>100.0</td>\n",
       "      <td>train</td>\n",
       "      <td>Ernakulam</td>\n",
       "      <td>BHMS</td>\n",
       "      <td>MD - Homeopathy</td>\n",
       "      <td>None</td>\n",
       "      <td>None</td>\n",
       "    </tr>\n",
       "    <tr>\n",
       "      <th>1</th>\n",
       "      <td>12</td>\n",
       "      <td>98.0</td>\n",
       "      <td>Ayurveda</td>\n",
       "      <td>350.0</td>\n",
       "      <td>train</td>\n",
       "      <td>Bangalore</td>\n",
       "      <td>BAMS</td>\n",
       "      <td>MD - Ayurveda Medicine</td>\n",
       "      <td>None</td>\n",
       "      <td>None</td>\n",
       "    </tr>\n",
       "    <tr>\n",
       "      <th>2</th>\n",
       "      <td>9</td>\n",
       "      <td>0.0</td>\n",
       "      <td>ENT Specialist</td>\n",
       "      <td>300.0</td>\n",
       "      <td>train</td>\n",
       "      <td>Bangalore</td>\n",
       "      <td>MBBS</td>\n",
       "      <td>MS - Otorhinolaryngology</td>\n",
       "      <td>None</td>\n",
       "      <td>None</td>\n",
       "    </tr>\n",
       "    <tr>\n",
       "      <th>3</th>\n",
       "      <td>12</td>\n",
       "      <td>0.0</td>\n",
       "      <td>Ayurveda</td>\n",
       "      <td>250.0</td>\n",
       "      <td>train</td>\n",
       "      <td>Bangalore</td>\n",
       "      <td>BSc - Zoology</td>\n",
       "      <td>BAMS</td>\n",
       "      <td>None</td>\n",
       "      <td>None</td>\n",
       "    </tr>\n",
       "    <tr>\n",
       "      <th>4</th>\n",
       "      <td>20</td>\n",
       "      <td>100.0</td>\n",
       "      <td>Ayurveda</td>\n",
       "      <td>250.0</td>\n",
       "      <td>train</td>\n",
       "      <td>Chennai</td>\n",
       "      <td>BAMS</td>\n",
       "      <td>None</td>\n",
       "      <td>None</td>\n",
       "      <td>None</td>\n",
       "    </tr>\n",
       "    <tr>\n",
       "      <th>...</th>\n",
       "      <td>...</td>\n",
       "      <td>...</td>\n",
       "      <td>...</td>\n",
       "      <td>...</td>\n",
       "      <td>...</td>\n",
       "      <td>...</td>\n",
       "      <td>...</td>\n",
       "      <td>...</td>\n",
       "      <td>...</td>\n",
       "      <td>...</td>\n",
       "    </tr>\n",
       "    <tr>\n",
       "      <th>7943</th>\n",
       "      <td>10</td>\n",
       "      <td>0.0</td>\n",
       "      <td>Ayurveda</td>\n",
       "      <td>NaN</td>\n",
       "      <td>test</td>\n",
       "      <td>Bangalore</td>\n",
       "      <td>BAMS</td>\n",
       "      <td>Doctor of Medicine</td>\n",
       "      <td>None</td>\n",
       "      <td>None</td>\n",
       "    </tr>\n",
       "    <tr>\n",
       "      <th>7944</th>\n",
       "      <td>4</td>\n",
       "      <td>0.0</td>\n",
       "      <td>Dermatologists</td>\n",
       "      <td>NaN</td>\n",
       "      <td>test</td>\n",
       "      <td>Chennai</td>\n",
       "      <td>MD - Dermatology</td>\n",
       "      <td>Venereology &amp; Leprosy</td>\n",
       "      <td>None</td>\n",
       "      <td>None</td>\n",
       "    </tr>\n",
       "    <tr>\n",
       "      <th>7945</th>\n",
       "      <td>9</td>\n",
       "      <td>0.0</td>\n",
       "      <td>General Medicine</td>\n",
       "      <td>NaN</td>\n",
       "      <td>test</td>\n",
       "      <td>Chennai</td>\n",
       "      <td>MBBS</td>\n",
       "      <td>MD / MS - Obstetrics &amp; Gynaecology</td>\n",
       "      <td>None</td>\n",
       "      <td>None</td>\n",
       "    </tr>\n",
       "    <tr>\n",
       "      <th>7946</th>\n",
       "      <td>12</td>\n",
       "      <td>98.0</td>\n",
       "      <td>Dentist</td>\n",
       "      <td>NaN</td>\n",
       "      <td>test</td>\n",
       "      <td>Bangalore</td>\n",
       "      <td>BDS</td>\n",
       "      <td>None</td>\n",
       "      <td>None</td>\n",
       "      <td>None</td>\n",
       "    </tr>\n",
       "    <tr>\n",
       "      <th>7947</th>\n",
       "      <td>8</td>\n",
       "      <td>0.0</td>\n",
       "      <td>Dermatologists</td>\n",
       "      <td>NaN</td>\n",
       "      <td>test</td>\n",
       "      <td>Chennai</td>\n",
       "      <td>MBBS</td>\n",
       "      <td>MD - Dermatology</td>\n",
       "      <td>None</td>\n",
       "      <td>None</td>\n",
       "    </tr>\n",
       "  </tbody>\n",
       "</table>\n",
       "<p>7948 rows × 10 columns</p>\n",
       "</div>"
      ],
      "text/plain": [
       "      Experience  Rating           Profile   Fees    ref       City  \\\n",
       "0             24   100.0         Homeopath  100.0  train  Ernakulam   \n",
       "1             12    98.0          Ayurveda  350.0  train  Bangalore   \n",
       "2              9     0.0    ENT Specialist  300.0  train  Bangalore   \n",
       "3             12     0.0          Ayurveda  250.0  train  Bangalore   \n",
       "4             20   100.0          Ayurveda  250.0  train    Chennai   \n",
       "...          ...     ...               ...    ...    ...        ...   \n",
       "7943          10     0.0          Ayurveda    NaN   test  Bangalore   \n",
       "7944           4     0.0    Dermatologists    NaN   test    Chennai   \n",
       "7945           9     0.0  General Medicine    NaN   test    Chennai   \n",
       "7946          12    98.0           Dentist    NaN   test  Bangalore   \n",
       "7947           8     0.0    Dermatologists    NaN   test    Chennai   \n",
       "\n",
       "                     UG                                   PG   PG2   PG3  \n",
       "0                  BHMS                      MD - Homeopathy  None  None  \n",
       "1                  BAMS               MD - Ayurveda Medicine  None  None  \n",
       "2                  MBBS             MS - Otorhinolaryngology  None  None  \n",
       "3         BSc - Zoology                                 BAMS  None  None  \n",
       "4                  BAMS                                 None  None  None  \n",
       "...                 ...                                  ...   ...   ...  \n",
       "7943               BAMS                   Doctor of Medicine  None  None  \n",
       "7944  MD - Dermatology                 Venereology & Leprosy  None  None  \n",
       "7945               MBBS   MD / MS - Obstetrics & Gynaecology  None  None  \n",
       "7946                BDS                                 None  None  None  \n",
       "7947               MBBS                    MD - Dermatology   None  None  \n",
       "\n",
       "[7948 rows x 10 columns]"
      ]
     },
     "execution_count": 51,
     "metadata": {},
     "output_type": "execute_result"
    }
   ],
   "source": [
    "#Final dataset\n",
    "df"
   ]
  },
  {
   "cell_type": "code",
   "execution_count": 52,
   "metadata": {},
   "outputs": [
    {
     "data": {
      "text/plain": [
       "118"
      ]
     },
     "execution_count": 52,
     "metadata": {},
     "output_type": "execute_result"
    }
   ],
   "source": [
    "df[\"PG3\"].nunique()"
   ]
  },
  {
   "cell_type": "code",
   "execution_count": 53,
   "metadata": {},
   "outputs": [
    {
     "data": {
      "text/html": [
       "<div>\n",
       "<style scoped>\n",
       "    .dataframe tbody tr th:only-of-type {\n",
       "        vertical-align: middle;\n",
       "    }\n",
       "\n",
       "    .dataframe tbody tr th {\n",
       "        vertical-align: top;\n",
       "    }\n",
       "\n",
       "    .dataframe thead th {\n",
       "        text-align: right;\n",
       "    }\n",
       "</style>\n",
       "<table border=\"1\" class=\"dataframe\">\n",
       "  <thead>\n",
       "    <tr style=\"text-align: right;\">\n",
       "      <th></th>\n",
       "      <th>Experience</th>\n",
       "      <th>Rating</th>\n",
       "      <th>Profile</th>\n",
       "      <th>Fees</th>\n",
       "      <th>ref</th>\n",
       "      <th>City</th>\n",
       "      <th>UG</th>\n",
       "      <th>PG</th>\n",
       "      <th>PG2</th>\n",
       "      <th>PG3</th>\n",
       "    </tr>\n",
       "  </thead>\n",
       "  <tbody>\n",
       "    <tr>\n",
       "      <th>0</th>\n",
       "      <td>24</td>\n",
       "      <td>100.0</td>\n",
       "      <td>Homeopath</td>\n",
       "      <td>100.0</td>\n",
       "      <td>train</td>\n",
       "      <td>Ernakulam</td>\n",
       "      <td>BHMS</td>\n",
       "      <td>MD - Homeopathy</td>\n",
       "      <td>None</td>\n",
       "      <td>None</td>\n",
       "    </tr>\n",
       "    <tr>\n",
       "      <th>1</th>\n",
       "      <td>12</td>\n",
       "      <td>98.0</td>\n",
       "      <td>Ayurveda</td>\n",
       "      <td>350.0</td>\n",
       "      <td>train</td>\n",
       "      <td>Bangalore</td>\n",
       "      <td>BAMS</td>\n",
       "      <td>MD - Ayurveda Medicine</td>\n",
       "      <td>None</td>\n",
       "      <td>None</td>\n",
       "    </tr>\n",
       "    <tr>\n",
       "      <th>2</th>\n",
       "      <td>9</td>\n",
       "      <td>0.0</td>\n",
       "      <td>ENT Specialist</td>\n",
       "      <td>300.0</td>\n",
       "      <td>train</td>\n",
       "      <td>Bangalore</td>\n",
       "      <td>MBBS</td>\n",
       "      <td>MS - Otorhinolaryngology</td>\n",
       "      <td>None</td>\n",
       "      <td>None</td>\n",
       "    </tr>\n",
       "    <tr>\n",
       "      <th>3</th>\n",
       "      <td>12</td>\n",
       "      <td>0.0</td>\n",
       "      <td>Ayurveda</td>\n",
       "      <td>250.0</td>\n",
       "      <td>train</td>\n",
       "      <td>Bangalore</td>\n",
       "      <td>BSc - Zoology</td>\n",
       "      <td>BAMS</td>\n",
       "      <td>None</td>\n",
       "      <td>None</td>\n",
       "    </tr>\n",
       "    <tr>\n",
       "      <th>4</th>\n",
       "      <td>20</td>\n",
       "      <td>100.0</td>\n",
       "      <td>Ayurveda</td>\n",
       "      <td>250.0</td>\n",
       "      <td>train</td>\n",
       "      <td>Chennai</td>\n",
       "      <td>BAMS</td>\n",
       "      <td>None</td>\n",
       "      <td>None</td>\n",
       "      <td>None</td>\n",
       "    </tr>\n",
       "    <tr>\n",
       "      <th>...</th>\n",
       "      <td>...</td>\n",
       "      <td>...</td>\n",
       "      <td>...</td>\n",
       "      <td>...</td>\n",
       "      <td>...</td>\n",
       "      <td>...</td>\n",
       "      <td>...</td>\n",
       "      <td>...</td>\n",
       "      <td>...</td>\n",
       "      <td>...</td>\n",
       "    </tr>\n",
       "    <tr>\n",
       "      <th>5956</th>\n",
       "      <td>19</td>\n",
       "      <td>98.0</td>\n",
       "      <td>ENT Specialist</td>\n",
       "      <td>300.0</td>\n",
       "      <td>train</td>\n",
       "      <td>Bangalore</td>\n",
       "      <td>MBBS</td>\n",
       "      <td>MS - ENT</td>\n",
       "      <td>None</td>\n",
       "      <td>None</td>\n",
       "    </tr>\n",
       "    <tr>\n",
       "      <th>5957</th>\n",
       "      <td>33</td>\n",
       "      <td>0.0</td>\n",
       "      <td>General Medicine</td>\n",
       "      <td>100.0</td>\n",
       "      <td>train</td>\n",
       "      <td>Chennai</td>\n",
       "      <td>MBBS</td>\n",
       "      <td>None</td>\n",
       "      <td>None</td>\n",
       "      <td>None</td>\n",
       "    </tr>\n",
       "    <tr>\n",
       "      <th>5958</th>\n",
       "      <td>41</td>\n",
       "      <td>97.0</td>\n",
       "      <td>General Medicine</td>\n",
       "      <td>600.0</td>\n",
       "      <td>train</td>\n",
       "      <td>Delhi</td>\n",
       "      <td>MBBS</td>\n",
       "      <td>None</td>\n",
       "      <td>None</td>\n",
       "      <td>None</td>\n",
       "    </tr>\n",
       "    <tr>\n",
       "      <th>5959</th>\n",
       "      <td>15</td>\n",
       "      <td>90.0</td>\n",
       "      <td>General Medicine</td>\n",
       "      <td>100.0</td>\n",
       "      <td>train</td>\n",
       "      <td>Mumbai</td>\n",
       "      <td>MBBS</td>\n",
       "      <td>MD - General Medicine</td>\n",
       "      <td>None</td>\n",
       "      <td>None</td>\n",
       "    </tr>\n",
       "    <tr>\n",
       "      <th>5960</th>\n",
       "      <td>17</td>\n",
       "      <td>100.0</td>\n",
       "      <td>Dentist</td>\n",
       "      <td>200.0</td>\n",
       "      <td>train</td>\n",
       "      <td>Delhi</td>\n",
       "      <td>BDS</td>\n",
       "      <td>MDS - Orthodontics</td>\n",
       "      <td>None</td>\n",
       "      <td>None</td>\n",
       "    </tr>\n",
       "  </tbody>\n",
       "</table>\n",
       "<p>5961 rows × 10 columns</p>\n",
       "</div>"
      ],
      "text/plain": [
       "      Experience  Rating           Profile   Fees    ref       City  \\\n",
       "0             24   100.0         Homeopath  100.0  train  Ernakulam   \n",
       "1             12    98.0          Ayurveda  350.0  train  Bangalore   \n",
       "2              9     0.0    ENT Specialist  300.0  train  Bangalore   \n",
       "3             12     0.0          Ayurveda  250.0  train  Bangalore   \n",
       "4             20   100.0          Ayurveda  250.0  train    Chennai   \n",
       "...          ...     ...               ...    ...    ...        ...   \n",
       "5956          19    98.0    ENT Specialist  300.0  train  Bangalore   \n",
       "5957          33     0.0  General Medicine  100.0  train    Chennai   \n",
       "5958          41    97.0  General Medicine  600.0  train      Delhi   \n",
       "5959          15    90.0  General Medicine  100.0  train     Mumbai   \n",
       "5960          17   100.0           Dentist  200.0  train      Delhi   \n",
       "\n",
       "                 UG                         PG   PG2   PG3  \n",
       "0              BHMS            MD - Homeopathy  None  None  \n",
       "1              BAMS     MD - Ayurveda Medicine  None  None  \n",
       "2              MBBS   MS - Otorhinolaryngology  None  None  \n",
       "3     BSc - Zoology                       BAMS  None  None  \n",
       "4              BAMS                       None  None  None  \n",
       "...             ...                        ...   ...   ...  \n",
       "5956           MBBS                   MS - ENT  None  None  \n",
       "5957           MBBS                       None  None  None  \n",
       "5958           MBBS                       None  None  None  \n",
       "5959           MBBS      MD - General Medicine  None  None  \n",
       "5960            BDS         MDS - Orthodontics  None  None  \n",
       "\n",
       "[5961 rows x 10 columns]"
      ]
     },
     "execution_count": 53,
     "metadata": {},
     "output_type": "execute_result"
    }
   ],
   "source": [
    "#Split test & train data\n",
    "#Train data\n",
    "df_train_final=df[df[\"ref\"]==\"train\"]\n",
    "df_train_final"
   ]
  },
  {
   "cell_type": "code",
   "execution_count": 54,
   "metadata": {},
   "outputs": [
    {
     "data": {
      "text/plain": [
       "Experience    0\n",
       "Rating        0\n",
       "Profile       0\n",
       "Fees          0\n",
       "ref           0\n",
       "City          0\n",
       "UG            0\n",
       "PG            0\n",
       "PG2           0\n",
       "PG3           0\n",
       "dtype: int64"
      ]
     },
     "execution_count": 54,
     "metadata": {},
     "output_type": "execute_result"
    }
   ],
   "source": [
    "#Check null values\n",
    "df_train_final.isnull().sum()"
   ]
  },
  {
   "cell_type": "code",
   "execution_count": 55,
   "metadata": {},
   "outputs": [
    {
     "data": {
      "text/html": [
       "<div>\n",
       "<style scoped>\n",
       "    .dataframe tbody tr th:only-of-type {\n",
       "        vertical-align: middle;\n",
       "    }\n",
       "\n",
       "    .dataframe tbody tr th {\n",
       "        vertical-align: top;\n",
       "    }\n",
       "\n",
       "    .dataframe thead th {\n",
       "        text-align: right;\n",
       "    }\n",
       "</style>\n",
       "<table border=\"1\" class=\"dataframe\">\n",
       "  <thead>\n",
       "    <tr style=\"text-align: right;\">\n",
       "      <th></th>\n",
       "      <th>Experience</th>\n",
       "      <th>Rating</th>\n",
       "      <th>Profile</th>\n",
       "      <th>Fees</th>\n",
       "      <th>ref</th>\n",
       "      <th>City</th>\n",
       "      <th>UG</th>\n",
       "      <th>PG</th>\n",
       "      <th>PG2</th>\n",
       "      <th>PG3</th>\n",
       "    </tr>\n",
       "  </thead>\n",
       "  <tbody>\n",
       "    <tr>\n",
       "      <th>5961</th>\n",
       "      <td>35</td>\n",
       "      <td>0.0</td>\n",
       "      <td>General Medicine</td>\n",
       "      <td>NaN</td>\n",
       "      <td>test</td>\n",
       "      <td>Mumbai</td>\n",
       "      <td>MBBS</td>\n",
       "      <td>None</td>\n",
       "      <td>None</td>\n",
       "      <td>None</td>\n",
       "    </tr>\n",
       "    <tr>\n",
       "      <th>5962</th>\n",
       "      <td>31</td>\n",
       "      <td>0.0</td>\n",
       "      <td>ENT Specialist</td>\n",
       "      <td>NaN</td>\n",
       "      <td>test</td>\n",
       "      <td>Hyderabad</td>\n",
       "      <td>MBBS</td>\n",
       "      <td>Diploma in Otorhinolaryngology (DLO)</td>\n",
       "      <td>None</td>\n",
       "      <td>None</td>\n",
       "    </tr>\n",
       "    <tr>\n",
       "      <th>5963</th>\n",
       "      <td>40</td>\n",
       "      <td>70.0</td>\n",
       "      <td>Dermatologists</td>\n",
       "      <td>NaN</td>\n",
       "      <td>test</td>\n",
       "      <td>Chennai</td>\n",
       "      <td>MBBS</td>\n",
       "      <td>DDVL</td>\n",
       "      <td>None</td>\n",
       "      <td>None</td>\n",
       "    </tr>\n",
       "    <tr>\n",
       "      <th>5964</th>\n",
       "      <td>0</td>\n",
       "      <td>0.0</td>\n",
       "      <td>Ayurveda</td>\n",
       "      <td>NaN</td>\n",
       "      <td>test</td>\n",
       "      <td>Delhi</td>\n",
       "      <td>BAMS</td>\n",
       "      <td>None</td>\n",
       "      <td>None</td>\n",
       "      <td>None</td>\n",
       "    </tr>\n",
       "    <tr>\n",
       "      <th>5965</th>\n",
       "      <td>16</td>\n",
       "      <td>100.0</td>\n",
       "      <td>Dentist</td>\n",
       "      <td>NaN</td>\n",
       "      <td>test</td>\n",
       "      <td>Bangalore</td>\n",
       "      <td>BDS</td>\n",
       "      <td>MDS - Conservative Dentistry &amp; Endodontics</td>\n",
       "      <td>None</td>\n",
       "      <td>None</td>\n",
       "    </tr>\n",
       "    <tr>\n",
       "      <th>...</th>\n",
       "      <td>...</td>\n",
       "      <td>...</td>\n",
       "      <td>...</td>\n",
       "      <td>...</td>\n",
       "      <td>...</td>\n",
       "      <td>...</td>\n",
       "      <td>...</td>\n",
       "      <td>...</td>\n",
       "      <td>...</td>\n",
       "      <td>...</td>\n",
       "    </tr>\n",
       "    <tr>\n",
       "      <th>7943</th>\n",
       "      <td>10</td>\n",
       "      <td>0.0</td>\n",
       "      <td>Ayurveda</td>\n",
       "      <td>NaN</td>\n",
       "      <td>test</td>\n",
       "      <td>Bangalore</td>\n",
       "      <td>BAMS</td>\n",
       "      <td>Doctor of Medicine</td>\n",
       "      <td>None</td>\n",
       "      <td>None</td>\n",
       "    </tr>\n",
       "    <tr>\n",
       "      <th>7944</th>\n",
       "      <td>4</td>\n",
       "      <td>0.0</td>\n",
       "      <td>Dermatologists</td>\n",
       "      <td>NaN</td>\n",
       "      <td>test</td>\n",
       "      <td>Chennai</td>\n",
       "      <td>MD - Dermatology</td>\n",
       "      <td>Venereology &amp; Leprosy</td>\n",
       "      <td>None</td>\n",
       "      <td>None</td>\n",
       "    </tr>\n",
       "    <tr>\n",
       "      <th>7945</th>\n",
       "      <td>9</td>\n",
       "      <td>0.0</td>\n",
       "      <td>General Medicine</td>\n",
       "      <td>NaN</td>\n",
       "      <td>test</td>\n",
       "      <td>Chennai</td>\n",
       "      <td>MBBS</td>\n",
       "      <td>MD / MS - Obstetrics &amp; Gynaecology</td>\n",
       "      <td>None</td>\n",
       "      <td>None</td>\n",
       "    </tr>\n",
       "    <tr>\n",
       "      <th>7946</th>\n",
       "      <td>12</td>\n",
       "      <td>98.0</td>\n",
       "      <td>Dentist</td>\n",
       "      <td>NaN</td>\n",
       "      <td>test</td>\n",
       "      <td>Bangalore</td>\n",
       "      <td>BDS</td>\n",
       "      <td>None</td>\n",
       "      <td>None</td>\n",
       "      <td>None</td>\n",
       "    </tr>\n",
       "    <tr>\n",
       "      <th>7947</th>\n",
       "      <td>8</td>\n",
       "      <td>0.0</td>\n",
       "      <td>Dermatologists</td>\n",
       "      <td>NaN</td>\n",
       "      <td>test</td>\n",
       "      <td>Chennai</td>\n",
       "      <td>MBBS</td>\n",
       "      <td>MD - Dermatology</td>\n",
       "      <td>None</td>\n",
       "      <td>None</td>\n",
       "    </tr>\n",
       "  </tbody>\n",
       "</table>\n",
       "<p>1987 rows × 10 columns</p>\n",
       "</div>"
      ],
      "text/plain": [
       "      Experience  Rating           Profile  Fees   ref       City  \\\n",
       "5961          35     0.0  General Medicine   NaN  test     Mumbai   \n",
       "5962          31     0.0    ENT Specialist   NaN  test  Hyderabad   \n",
       "5963          40    70.0    Dermatologists   NaN  test    Chennai   \n",
       "5964           0     0.0          Ayurveda   NaN  test      Delhi   \n",
       "5965          16   100.0           Dentist   NaN  test  Bangalore   \n",
       "...          ...     ...               ...   ...   ...        ...   \n",
       "7943          10     0.0          Ayurveda   NaN  test  Bangalore   \n",
       "7944           4     0.0    Dermatologists   NaN  test    Chennai   \n",
       "7945           9     0.0  General Medicine   NaN  test    Chennai   \n",
       "7946          12    98.0           Dentist   NaN  test  Bangalore   \n",
       "7947           8     0.0    Dermatologists   NaN  test    Chennai   \n",
       "\n",
       "                     UG                                           PG   PG2  \\\n",
       "5961               MBBS                                         None  None   \n",
       "5962               MBBS         Diploma in Otorhinolaryngology (DLO)  None   \n",
       "5963               MBBS                                         DDVL  None   \n",
       "5964               BAMS                                         None  None   \n",
       "5965                BDS   MDS - Conservative Dentistry & Endodontics  None   \n",
       "...                 ...                                          ...   ...   \n",
       "7943               BAMS                           Doctor of Medicine  None   \n",
       "7944  MD - Dermatology                         Venereology & Leprosy  None   \n",
       "7945               MBBS           MD / MS - Obstetrics & Gynaecology  None   \n",
       "7946                BDS                                         None  None   \n",
       "7947               MBBS                            MD - Dermatology   None   \n",
       "\n",
       "       PG3  \n",
       "5961  None  \n",
       "5962  None  \n",
       "5963  None  \n",
       "5964  None  \n",
       "5965  None  \n",
       "...    ...  \n",
       "7943  None  \n",
       "7944  None  \n",
       "7945  None  \n",
       "7946  None  \n",
       "7947  None  \n",
       "\n",
       "[1987 rows x 10 columns]"
      ]
     },
     "execution_count": 55,
     "metadata": {},
     "output_type": "execute_result"
    }
   ],
   "source": [
    "#Final Test data\n",
    "df_test_final=df[df[\"ref\"]==\"test\"]\n",
    "df_test_final"
   ]
  },
  {
   "cell_type": "code",
   "execution_count": null,
   "metadata": {},
   "outputs": [],
   "source": []
  },
  {
   "cell_type": "markdown",
   "metadata": {},
   "source": [
    "# EDA"
   ]
  },
  {
   "cell_type": "code",
   "execution_count": 56,
   "metadata": {},
   "outputs": [
    {
     "data": {
      "text/plain": [
       "<AxesSubplot:>"
      ]
     },
     "execution_count": 56,
     "metadata": {},
     "output_type": "execute_result"
    },
    {
     "data": {
      "image/png": "[encoded data removed]",
      "text/plain": [
       "<Figure size 432x288 with 2 Axes>"
      ]
     },
     "metadata": {
      "needs_background": "light"
     },
     "output_type": "display_data"
    }
   ],
   "source": [
    "#Uni-variate Analysis\n",
    "#Check null values in dataset\n",
    "sns.heatmap(df_train.isnull())\n",
    "#Null values present in feature \"Rating\" & \"Miscellaneous Info\""
   ]
  },
  {
   "cell_type": "code",
   "execution_count": 57,
   "metadata": {},
   "outputs": [
    {
     "name": "stdout",
     "output_type": "stream",
     "text": [
      "Skewness in target variable: 0.7518701683331587\n"
     ]
    },
    {
     "data": {
      "text/plain": [
       "<AxesSubplot:ylabel='Frequency'>"
      ]
     },
     "execution_count": 57,
     "metadata": {},
     "output_type": "execute_result"
    },
    {
     "data": {
      "image/png": "[encoded data removed]",
      "text/plain": [
       "<Figure size 432x288 with 1 Axes>"
      ]
     },
     "metadata": {
      "needs_background": "light"
     },
     "output_type": "display_data"
    }
   ],
   "source": [
    "#Skew & Data distribution of target value\n",
    "print(\"Skewness in target variable:\",df_train[\"Fees\"].skew())\n",
    "df_train[\"Fees\"].plot.hist()"
   ]
  },
  {
   "cell_type": "raw",
   "metadata": {},
   "source": [
    "Observation: Data is right skewed."
   ]
  },
  {
   "cell_type": "code",
   "execution_count": 58,
   "metadata": {},
   "outputs": [
    {
     "data": {
      "text/plain": [
       "<AxesSubplot:xlabel='City', ylabel='Fees'>"
      ]
     },
     "execution_count": 58,
     "metadata": {},
     "output_type": "execute_result"
    },
    {
     "data": {
      "image/png": "[encoded data removed]",
      "text/plain": [
       "<Figure size 1584x504 with 1 Axes>"
      ]
     },
     "metadata": {
      "needs_background": "light"
     },
     "output_type": "display_data"
    }
   ],
   "source": [
    "plt.figure(figsize=(22,7))\n",
    "sns.barplot(x=\"City\",y=\"Fees\",data=df)"
   ]
  },
  {
   "cell_type": "raw",
   "metadata": {},
   "source": [
    "Observation: Metro cities ;ike Delhi,Bangalore,Mumbai,Hyderabad,Chennai have high Consultation fees."
   ]
  },
  {
   "cell_type": "code",
   "execution_count": 60,
   "metadata": {},
   "outputs": [
    {
     "data": {
      "text/plain": [
       "3973      0.0\n",
       "4550      0.0\n",
       "4549      0.0\n",
       "4548      0.0\n",
       "4547      0.0\n",
       "        ...  \n",
       "6721    100.0\n",
       "679     100.0\n",
       "680     100.0\n",
       "6775    100.0\n",
       "0       100.0\n",
       "Name: Rating, Length: 7948, dtype: float64"
      ]
     },
     "execution_count": 60,
     "metadata": {},
     "output_type": "execute_result"
    }
   ],
   "source": [
    "#Sort Ratings into ascending order to plot bar graph\n",
    "x=df[\"Rating\"].sort_values()\n",
    "x"
   ]
  },
  {
   "cell_type": "code",
   "execution_count": 61,
   "metadata": {},
   "outputs": [
    {
     "data": {
      "text/plain": [
       "<AxesSubplot:xlabel='Rating', ylabel='Fees'>"
      ]
     },
     "execution_count": 61,
     "metadata": {},
     "output_type": "execute_result"
    },
    {
     "data": {
      "image/png": "[encoded data removed]",
      "text/plain": [
       "<Figure size 1584x504 with 1 Axes>"
      ]
     },
     "metadata": {
      "needs_background": "light"
     },
     "output_type": "display_data"
    }
   ],
   "source": [
    "# Plot of Rating vs Fees\n",
    "plt.figure(figsize=(22,7))\n",
    "sns.barplot(x=x,y=\"Fees\",data=df)"
   ]
  },
  {
   "cell_type": "raw",
   "metadata": {},
   "source": [
    "Observation: Fees does not increase with ratings. Fees is high where rating is 48 & 40"
   ]
  },
  {
   "cell_type": "code",
   "execution_count": 62,
   "metadata": {},
   "outputs": [
    {
     "data": {
      "text/plain": [
       "<AxesSubplot:xlabel='Profile', ylabel='Fees'>"
      ]
     },
     "execution_count": 62,
     "metadata": {},
     "output_type": "execute_result"
    },
    {
     "data": {
      "image/png": "[encoded data removed]",
      "text/plain": [
       "<Figure size 1584x504 with 1 Axes>"
      ]
     },
     "metadata": {
      "needs_background": "light"
     },
     "output_type": "display_data"
    }
   ],
   "source": [
    "#Check profile vs Fees\n",
    "plt.figure(figsize=(22,7))\n",
    "sns.barplot(x=\"Profile\",y=\"Fees\",data=df)"
   ]
  },
  {
   "cell_type": "raw",
   "metadata": {},
   "source": [
    "Observation: Profiles like ENT Specialist & Dermatologist have higher consultation fees"
   ]
  },
  {
   "cell_type": "markdown",
   "metadata": {},
   "source": [
    "# Data Preprocessing"
   ]
  },
  {
   "cell_type": "code",
   "execution_count": 63,
   "metadata": {},
   "outputs": [
    {
     "data": {
      "text/html": [
       "<div>\n",
       "<style scoped>\n",
       "    .dataframe tbody tr th:only-of-type {\n",
       "        vertical-align: middle;\n",
       "    }\n",
       "\n",
       "    .dataframe tbody tr th {\n",
       "        vertical-align: top;\n",
       "    }\n",
       "\n",
       "    .dataframe thead th {\n",
       "        text-align: right;\n",
       "    }\n",
       "</style>\n",
       "<table border=\"1\" class=\"dataframe\">\n",
       "  <thead>\n",
       "    <tr style=\"text-align: right;\">\n",
       "      <th></th>\n",
       "      <th>Experience</th>\n",
       "      <th>Rating</th>\n",
       "      <th>Profile</th>\n",
       "      <th>Fees</th>\n",
       "      <th>ref</th>\n",
       "      <th>City</th>\n",
       "      <th>UG</th>\n",
       "      <th>PG</th>\n",
       "      <th>PG2</th>\n",
       "      <th>PG3</th>\n",
       "    </tr>\n",
       "  </thead>\n",
       "  <tbody>\n",
       "    <tr>\n",
       "      <th>0</th>\n",
       "      <td>24</td>\n",
       "      <td>100.0</td>\n",
       "      <td>Homeopath</td>\n",
       "      <td>100.0</td>\n",
       "      <td>train</td>\n",
       "      <td>Ernakulam</td>\n",
       "      <td>BHMS</td>\n",
       "      <td>MD - Homeopathy</td>\n",
       "      <td>None</td>\n",
       "      <td>None</td>\n",
       "    </tr>\n",
       "    <tr>\n",
       "      <th>1</th>\n",
       "      <td>12</td>\n",
       "      <td>98.0</td>\n",
       "      <td>Ayurveda</td>\n",
       "      <td>350.0</td>\n",
       "      <td>train</td>\n",
       "      <td>Bangalore</td>\n",
       "      <td>BAMS</td>\n",
       "      <td>MD - Ayurveda Medicine</td>\n",
       "      <td>None</td>\n",
       "      <td>None</td>\n",
       "    </tr>\n",
       "    <tr>\n",
       "      <th>2</th>\n",
       "      <td>9</td>\n",
       "      <td>0.0</td>\n",
       "      <td>ENT Specialist</td>\n",
       "      <td>300.0</td>\n",
       "      <td>train</td>\n",
       "      <td>Bangalore</td>\n",
       "      <td>MBBS</td>\n",
       "      <td>MS - Otorhinolaryngology</td>\n",
       "      <td>None</td>\n",
       "      <td>None</td>\n",
       "    </tr>\n",
       "    <tr>\n",
       "      <th>3</th>\n",
       "      <td>12</td>\n",
       "      <td>0.0</td>\n",
       "      <td>Ayurveda</td>\n",
       "      <td>250.0</td>\n",
       "      <td>train</td>\n",
       "      <td>Bangalore</td>\n",
       "      <td>BSc - Zoology</td>\n",
       "      <td>BAMS</td>\n",
       "      <td>None</td>\n",
       "      <td>None</td>\n",
       "    </tr>\n",
       "    <tr>\n",
       "      <th>4</th>\n",
       "      <td>20</td>\n",
       "      <td>100.0</td>\n",
       "      <td>Ayurveda</td>\n",
       "      <td>250.0</td>\n",
       "      <td>train</td>\n",
       "      <td>Chennai</td>\n",
       "      <td>BAMS</td>\n",
       "      <td>None</td>\n",
       "      <td>None</td>\n",
       "      <td>None</td>\n",
       "    </tr>\n",
       "  </tbody>\n",
       "</table>\n",
       "</div>"
      ],
      "text/plain": [
       "   Experience  Rating         Profile   Fees    ref       City             UG  \\\n",
       "0          24   100.0       Homeopath  100.0  train  Ernakulam           BHMS   \n",
       "1          12    98.0        Ayurveda  350.0  train  Bangalore           BAMS   \n",
       "2           9     0.0  ENT Specialist  300.0  train  Bangalore           MBBS   \n",
       "3          12     0.0        Ayurveda  250.0  train  Bangalore  BSc - Zoology   \n",
       "4          20   100.0        Ayurveda  250.0  train    Chennai           BAMS   \n",
       "\n",
       "                          PG   PG2   PG3  \n",
       "0            MD - Homeopathy  None  None  \n",
       "1     MD - Ayurveda Medicine  None  None  \n",
       "2   MS - Otorhinolaryngology  None  None  \n",
       "3                       BAMS  None  None  \n",
       "4                       None  None  None  "
      ]
     },
     "execution_count": 63,
     "metadata": {},
     "output_type": "execute_result"
    }
   ],
   "source": [
    "#Train datset\n",
    "df_train_final.head()"
   ]
  },
  {
   "cell_type": "code",
   "execution_count": 64,
   "metadata": {},
   "outputs": [
    {
     "data": {
      "text/plain": [
       "(5961, 10)"
      ]
     },
     "execution_count": 64,
     "metadata": {},
     "output_type": "execute_result"
    }
   ],
   "source": [
    "#Check shape\n",
    "df_train_final.shape"
   ]
  },
  {
   "cell_type": "code",
   "execution_count": 65,
   "metadata": {},
   "outputs": [
    {
     "name": "stdout",
     "output_type": "stream",
     "text": [
      "(5961, 8) (5961,)\n"
     ]
    }
   ],
   "source": [
    "#Split train data into test & train data set\n",
    "#Drop ref column as it is not important\n",
    "df_x=df_train_final.drop(columns=[\"Fees\",\"ref\"])\n",
    "y=df_train_final[\"Fees\"]\n",
    "print(df_x.shape,y.shape)"
   ]
  },
  {
   "cell_type": "code",
   "execution_count": 66,
   "metadata": {},
   "outputs": [],
   "source": [
    "#Using get dummies convert data to numeric\n",
    "x=pd.get_dummies(df_x,drop_first=True)"
   ]
  },
  {
   "cell_type": "code",
   "execution_count": 67,
   "metadata": {},
   "outputs": [
    {
     "data": {
      "text/plain": [
       "(5961, 898)"
      ]
     },
     "execution_count": 67,
     "metadata": {},
     "output_type": "execute_result"
    }
   ],
   "source": [
    "x.shape"
   ]
  },
  {
   "cell_type": "code",
   "execution_count": 105,
   "metadata": {},
   "outputs": [
    {
     "name": "stdout",
     "output_type": "stream",
     "text": [
      "Percentage info retained in data= 99.99799189799027\n"
     ]
    }
   ],
   "source": [
    "#COnsidering n_components= 469 to match the test data\n",
    "from sklearn.decomposition import PCA\n",
    "pca=PCA(n_components=469)\n",
    "pc_x=pca.fit_transform(x)\n",
    "\n",
    "#Information retained in data after dimensionality reduction\n",
    "print(\"Percentage info retained in data=\",(sum(pca.explained_variance_ratio_)*100))"
   ]
  },
  {
   "cell_type": "code",
   "execution_count": 106,
   "metadata": {},
   "outputs": [
    {
     "data": {
      "text/plain": [
       "(5961, 469)"
      ]
     },
     "execution_count": 106,
     "metadata": {},
     "output_type": "execute_result"
    }
   ],
   "source": [
    "pc_x.shape"
   ]
  },
  {
   "cell_type": "markdown",
   "metadata": {},
   "source": [
    "# Model Training & Fitting"
   ]
  },
  {
   "cell_type": "code",
   "execution_count": 107,
   "metadata": {},
   "outputs": [
    {
     "name": "stdout",
     "output_type": "stream",
     "text": [
      "(4768, 469) (4768,)\n",
      "(1193, 469) (1193,)\n"
     ]
    }
   ],
   "source": [
    "#Considering RMSLE metrics (Referred Kaggle)\n",
    "#Split into test & train data\n",
    "from sklearn.model_selection import train_test_split\n",
    "x_train, x_test, y_train, y_test = train_test_split(pc_x, y,random_state =0,test_size=0.20)\n",
    "print(x_train.shape,y_train.shape)  \n",
    "print(x_test.shape,y_test.shape)"
   ]
  },
  {
   "cell_type": "code",
   "execution_count": 109,
   "metadata": {},
   "outputs": [],
   "source": [
    "#Import models \n",
    "from sklearn.neighbors import KNeighborsRegressor\n",
    "from sklearn.svm import SVR\n",
    "from sklearn.tree import DecisionTreeRegressor\n",
    "from sklearn.ensemble import RandomForestRegressor\n",
    "from sklearn.metrics import mean_squared_log_error\n",
    "\n",
    "#Create instant\n",
    "knn=KNeighborsRegressor()\n",
    "svr=SVR()\n",
    "dtr=DecisionTreeRegressor()\n",
    "rfr=RandomForestRegressor()"
   ]
  },
  {
   "cell_type": "code",
   "execution_count": 110,
   "metadata": {},
   "outputs": [],
   "source": [
    "#User defined function to calculate 1-RMSLE\n",
    "def rmsle(rgr,x,y):\n",
    "    x_train, x_test, y_train, y_test = train_test_split(x, y,random_state =0,test_size=0.20)\n",
    "    rgr.fit(x_train,y_train)\n",
    "    y_pred=rgr.predict(x_test)\n",
    "    r2=mean_squared_log_error(y_test,y_pred)\n",
    "    print(rgr,1-r2)"
   ]
  },
  {
   "cell_type": "code",
   "execution_count": 112,
   "metadata": {},
   "outputs": [
    {
     "name": "stdout",
     "output_type": "stream",
     "text": [
      "KNeighborsRegressor() 0.567242270642848\n",
      "SVR() 0.5490442124122399\n",
      "DecisionTreeRegressor() 0.2838614972392529\n",
      "RandomForestRegressor() 0.5618436952368192\n"
     ]
    }
   ],
   "source": [
    "#Check 1-RMSLE\n",
    "for i in (knn,svr,dtr,rfr):\n",
    "    rmsle(i,pc_x,y)"
   ]
  },
  {
   "cell_type": "code",
   "execution_count": null,
   "metadata": {},
   "outputs": [],
   "source": [
    "#KNN Regressor & Random forest has the best results"
   ]
  },
  {
   "cell_type": "code",
   "execution_count": 114,
   "metadata": {},
   "outputs": [],
   "source": [
    "#Check best random state: Considering RMSLE metrics ie (1-RMSLE)\n",
    "def rmsle(regr,x,y):\n",
    "    max_r_score=0\n",
    "    for r_state in range(42,100):\n",
    "        x_train, x_test, y_train, y_test = train_test_split(x, y,random_state = r_state,test_size=0.20)\n",
    "        regr.fit(x_train,y_train)\n",
    "        y_pred = regr.predict(x_test)\n",
    "        r=1-mean_squared_log_error(y_test,y_pred)\n",
    "        if r>max_r_score:\n",
    "            max_r_score=r\n",
    "            final_r_state=r_state\n",
    "    print(\"max 1-RMSLE score corresponding to \",final_r_state,\" is \",max_r_score)\n",
    "    return final_r_state"
   ]
  },
  {
   "cell_type": "code",
   "execution_count": 113,
   "metadata": {},
   "outputs": [
    {
     "data": {
      "text/plain": [
       "{'n_neighbors': 24}"
      ]
     },
     "execution_count": 113,
     "metadata": {},
     "output_type": "execute_result"
    }
   ],
   "source": [
    "#Hyper parameter tuning (KNN Regressor)\n",
    "from sklearn.model_selection import GridSearchCV\n",
    "neighbors={\"n_neighbors\":range(1,25)}\n",
    "regr= GridSearchCV(knn,neighbors,cv=5)\n",
    "regr.fit(pc_x,y)\n",
    "regr.best_params_"
   ]
  },
  {
   "cell_type": "code",
   "execution_count": 115,
   "metadata": {},
   "outputs": [
    {
     "name": "stdout",
     "output_type": "stream",
     "text": [
      "max 1-RMSLE score corresponding to  90  is  0.6211838486872296\n"
     ]
    }
   ],
   "source": [
    "#KNN Regressor\n",
    "knn=KNeighborsRegressor(n_neighbors=24)\n",
    "RMSLE=rmsle(knn,pc_x,y)"
   ]
  },
  {
   "cell_type": "code",
   "execution_count": 116,
   "metadata": {},
   "outputs": [
    {
     "data": {
      "text/plain": [
       "{'n_estimators': 100}"
      ]
     },
     "execution_count": 116,
     "metadata": {},
     "output_type": "execute_result"
    }
   ],
   "source": [
    "#Hyper tuning of Random forest regressor using Random search CV\n",
    "from sklearn.model_selection import RandomizedSearchCV\n",
    "parameters={\"n_estimators\":[10,100]}\n",
    "rgr= RandomizedSearchCV(rfr,param_distributions=parameters ,cv=3,n_iter = 10,n_jobs=-1)\n",
    "rgr.fit(pc_x,y)\n",
    "rgr.best_params_"
   ]
  },
  {
   "cell_type": "code",
   "execution_count": 97,
   "metadata": {},
   "outputs": [
    {
     "name": "stdout",
     "output_type": "stream",
     "text": [
      "max 1-RMSLE score corresponding to  63  is  0.5981579641499257\n"
     ]
    }
   ],
   "source": [
    "#Random forest regressor with best random state\n",
    "rfr=RandomForestRegressor(n_estimators=100)\n",
    "rfr_rmsle=rmsle(rfr,pc_x,y)"
   ]
  },
  {
   "cell_type": "code",
   "execution_count": null,
   "metadata": {},
   "outputs": [],
   "source": [
    "#KNN regressor is the best model"
   ]
  },
  {
   "cell_type": "code",
   "execution_count": 98,
   "metadata": {},
   "outputs": [
    {
     "data": {
      "text/html": [
       "<div>\n",
       "<style scoped>\n",
       "    .dataframe tbody tr th:only-of-type {\n",
       "        vertical-align: middle;\n",
       "    }\n",
       "\n",
       "    .dataframe tbody tr th {\n",
       "        vertical-align: top;\n",
       "    }\n",
       "\n",
       "    .dataframe thead th {\n",
       "        text-align: right;\n",
       "    }\n",
       "</style>\n",
       "<table border=\"1\" class=\"dataframe\">\n",
       "  <thead>\n",
       "    <tr style=\"text-align: right;\">\n",
       "      <th></th>\n",
       "      <th>Experience</th>\n",
       "      <th>Rating</th>\n",
       "      <th>Profile</th>\n",
       "      <th>Fees</th>\n",
       "      <th>ref</th>\n",
       "      <th>City</th>\n",
       "      <th>UG</th>\n",
       "      <th>PG</th>\n",
       "      <th>PG2</th>\n",
       "      <th>PG3</th>\n",
       "    </tr>\n",
       "  </thead>\n",
       "  <tbody>\n",
       "    <tr>\n",
       "      <th>5961</th>\n",
       "      <td>35</td>\n",
       "      <td>0.0</td>\n",
       "      <td>General Medicine</td>\n",
       "      <td>NaN</td>\n",
       "      <td>test</td>\n",
       "      <td>Mumbai</td>\n",
       "      <td>MBBS</td>\n",
       "      <td>None</td>\n",
       "      <td>None</td>\n",
       "      <td>None</td>\n",
       "    </tr>\n",
       "    <tr>\n",
       "      <th>5962</th>\n",
       "      <td>31</td>\n",
       "      <td>0.0</td>\n",
       "      <td>ENT Specialist</td>\n",
       "      <td>NaN</td>\n",
       "      <td>test</td>\n",
       "      <td>Hyderabad</td>\n",
       "      <td>MBBS</td>\n",
       "      <td>Diploma in Otorhinolaryngology (DLO)</td>\n",
       "      <td>None</td>\n",
       "      <td>None</td>\n",
       "    </tr>\n",
       "    <tr>\n",
       "      <th>5963</th>\n",
       "      <td>40</td>\n",
       "      <td>70.0</td>\n",
       "      <td>Dermatologists</td>\n",
       "      <td>NaN</td>\n",
       "      <td>test</td>\n",
       "      <td>Chennai</td>\n",
       "      <td>MBBS</td>\n",
       "      <td>DDVL</td>\n",
       "      <td>None</td>\n",
       "      <td>None</td>\n",
       "    </tr>\n",
       "    <tr>\n",
       "      <th>5964</th>\n",
       "      <td>0</td>\n",
       "      <td>0.0</td>\n",
       "      <td>Ayurveda</td>\n",
       "      <td>NaN</td>\n",
       "      <td>test</td>\n",
       "      <td>Delhi</td>\n",
       "      <td>BAMS</td>\n",
       "      <td>None</td>\n",
       "      <td>None</td>\n",
       "      <td>None</td>\n",
       "    </tr>\n",
       "    <tr>\n",
       "      <th>5965</th>\n",
       "      <td>16</td>\n",
       "      <td>100.0</td>\n",
       "      <td>Dentist</td>\n",
       "      <td>NaN</td>\n",
       "      <td>test</td>\n",
       "      <td>Bangalore</td>\n",
       "      <td>BDS</td>\n",
       "      <td>MDS - Conservative Dentistry &amp; Endodontics</td>\n",
       "      <td>None</td>\n",
       "      <td>None</td>\n",
       "    </tr>\n",
       "    <tr>\n",
       "      <th>...</th>\n",
       "      <td>...</td>\n",
       "      <td>...</td>\n",
       "      <td>...</td>\n",
       "      <td>...</td>\n",
       "      <td>...</td>\n",
       "      <td>...</td>\n",
       "      <td>...</td>\n",
       "      <td>...</td>\n",
       "      <td>...</td>\n",
       "      <td>...</td>\n",
       "    </tr>\n",
       "    <tr>\n",
       "      <th>7943</th>\n",
       "      <td>10</td>\n",
       "      <td>0.0</td>\n",
       "      <td>Ayurveda</td>\n",
       "      <td>NaN</td>\n",
       "      <td>test</td>\n",
       "      <td>Bangalore</td>\n",
       "      <td>BAMS</td>\n",
       "      <td>Doctor of Medicine</td>\n",
       "      <td>None</td>\n",
       "      <td>None</td>\n",
       "    </tr>\n",
       "    <tr>\n",
       "      <th>7944</th>\n",
       "      <td>4</td>\n",
       "      <td>0.0</td>\n",
       "      <td>Dermatologists</td>\n",
       "      <td>NaN</td>\n",
       "      <td>test</td>\n",
       "      <td>Chennai</td>\n",
       "      <td>MD - Dermatology</td>\n",
       "      <td>Venereology &amp; Leprosy</td>\n",
       "      <td>None</td>\n",
       "      <td>None</td>\n",
       "    </tr>\n",
       "    <tr>\n",
       "      <th>7945</th>\n",
       "      <td>9</td>\n",
       "      <td>0.0</td>\n",
       "      <td>General Medicine</td>\n",
       "      <td>NaN</td>\n",
       "      <td>test</td>\n",
       "      <td>Chennai</td>\n",
       "      <td>MBBS</td>\n",
       "      <td>MD / MS - Obstetrics &amp; Gynaecology</td>\n",
       "      <td>None</td>\n",
       "      <td>None</td>\n",
       "    </tr>\n",
       "    <tr>\n",
       "      <th>7946</th>\n",
       "      <td>12</td>\n",
       "      <td>98.0</td>\n",
       "      <td>Dentist</td>\n",
       "      <td>NaN</td>\n",
       "      <td>test</td>\n",
       "      <td>Bangalore</td>\n",
       "      <td>BDS</td>\n",
       "      <td>None</td>\n",
       "      <td>None</td>\n",
       "      <td>None</td>\n",
       "    </tr>\n",
       "    <tr>\n",
       "      <th>7947</th>\n",
       "      <td>8</td>\n",
       "      <td>0.0</td>\n",
       "      <td>Dermatologists</td>\n",
       "      <td>NaN</td>\n",
       "      <td>test</td>\n",
       "      <td>Chennai</td>\n",
       "      <td>MBBS</td>\n",
       "      <td>MD - Dermatology</td>\n",
       "      <td>None</td>\n",
       "      <td>None</td>\n",
       "    </tr>\n",
       "  </tbody>\n",
       "</table>\n",
       "<p>1987 rows × 10 columns</p>\n",
       "</div>"
      ],
      "text/plain": [
       "      Experience  Rating           Profile  Fees   ref       City  \\\n",
       "5961          35     0.0  General Medicine   NaN  test     Mumbai   \n",
       "5962          31     0.0    ENT Specialist   NaN  test  Hyderabad   \n",
       "5963          40    70.0    Dermatologists   NaN  test    Chennai   \n",
       "5964           0     0.0          Ayurveda   NaN  test      Delhi   \n",
       "5965          16   100.0           Dentist   NaN  test  Bangalore   \n",
       "...          ...     ...               ...   ...   ...        ...   \n",
       "7943          10     0.0          Ayurveda   NaN  test  Bangalore   \n",
       "7944           4     0.0    Dermatologists   NaN  test    Chennai   \n",
       "7945           9     0.0  General Medicine   NaN  test    Chennai   \n",
       "7946          12    98.0           Dentist   NaN  test  Bangalore   \n",
       "7947           8     0.0    Dermatologists   NaN  test    Chennai   \n",
       "\n",
       "                     UG                                           PG   PG2  \\\n",
       "5961               MBBS                                         None  None   \n",
       "5962               MBBS         Diploma in Otorhinolaryngology (DLO)  None   \n",
       "5963               MBBS                                         DDVL  None   \n",
       "5964               BAMS                                         None  None   \n",
       "5965                BDS   MDS - Conservative Dentistry & Endodontics  None   \n",
       "...                 ...                                          ...   ...   \n",
       "7943               BAMS                           Doctor of Medicine  None   \n",
       "7944  MD - Dermatology                         Venereology & Leprosy  None   \n",
       "7945               MBBS           MD / MS - Obstetrics & Gynaecology  None   \n",
       "7946                BDS                                         None  None   \n",
       "7947               MBBS                            MD - Dermatology   None   \n",
       "\n",
       "       PG3  \n",
       "5961  None  \n",
       "5962  None  \n",
       "5963  None  \n",
       "5964  None  \n",
       "5965  None  \n",
       "...    ...  \n",
       "7943  None  \n",
       "7944  None  \n",
       "7945  None  \n",
       "7946  None  \n",
       "7947  None  \n",
       "\n",
       "[1987 rows x 10 columns]"
      ]
     },
     "execution_count": 98,
     "metadata": {},
     "output_type": "execute_result"
    }
   ],
   "source": [
    "#Test data\n",
    "df_test_final"
   ]
  },
  {
   "cell_type": "code",
   "execution_count": 102,
   "metadata": {},
   "outputs": [],
   "source": [
    "#Drop fees & ref\n",
    "test_data=df_test_final.drop([\"Fees\",\"ref\"],axis=1,inplace=True)"
   ]
  },
  {
   "cell_type": "code",
   "execution_count": 103,
   "metadata": {},
   "outputs": [
    {
     "data": {
      "text/plain": [
       "(1987, 469)"
      ]
     },
     "execution_count": 103,
     "metadata": {},
     "output_type": "execute_result"
    }
   ],
   "source": [
    "#Using get dummies convert data to numeric\n",
    "test_data=pd.get_dummies(df_test_final,drop_first=True)\n",
    "test_data.shape"
   ]
  },
  {
   "cell_type": "code",
   "execution_count": 117,
   "metadata": {},
   "outputs": [],
   "source": [
    "#Predict the Doctor fees by applying model on test data.\n",
    "doctor_fees_prediction=knn.predict(test_data)"
   ]
  },
  {
   "cell_type": "code",
   "execution_count": 119,
   "metadata": {},
   "outputs": [],
   "source": [
    "#Saving as Dataframe\n",
    "doctor_fees_prediction=pd.DataFrame(doctor_fees_prediction,columns=[\"Fees\"])"
   ]
  },
  {
   "cell_type": "code",
   "execution_count": 123,
   "metadata": {},
   "outputs": [],
   "source": [
    "#Save file in csv format\n",
    "doctor_fees_prediction.to_csv(\"doctor_fees_prediction.csv\",index=False)"
   ]
  }
 ],
 "metadata": {
  "kernelspec": {
   "display_name": "Python 3",
   "language": "python",
   "name": "python3"
  },
  "language_info": {
   "codemirror_mode": {
    "name": "ipython",
    "version": 3
   },
   "file_extension": ".py",
   "mimetype": "text/x-python",
   "name": "python",
   "nbconvert_exporter": "python",
   "pygments_lexer": "ipython3",
   "version": "3.8.5"
  }
 },
 "nbformat": 4,
 "nbformat_minor": 4
}
